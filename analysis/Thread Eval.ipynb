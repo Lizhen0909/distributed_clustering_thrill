{
 "cells": [
  {
   "cell_type": "code",
   "execution_count": 1,
   "metadata": {
    "collapsed": true
   },
   "outputs": [],
   "source": [
    "%matplotlib inline\n",
    "\n",
    "import pandas as pd\n",
    "import numpy as np\n",
    "import matplotlib.pyplot as plt\n",
    "\n",
    "import json\n",
    "import glob\n",
    "import os\n",
    "\n",
    "plt.style.use('ggplot') # Make the graphs a bit prettier"
   ]
  },
  {
   "cell_type": "code",
   "execution_count": 2,
   "metadata": {
    "collapsed": false
   },
   "outputs": [],
   "source": [
    "data = {}\n",
    "\n",
    "for path in glob.glob(os.path.expanduser(\"/home/eagle/dev/ma/data/results/threadeval/*.json\")):\n",
    "  for typename, items in json.load(open(path)).items():\n",
    "    if typename in data:\n",
    "      data[typename].update(items)\n",
    "    else:\n",
    "      data[typename] = items\n",
    "\n",
    "frames = { typename: pd.DataFrame.from_dict(items, orient='index') for typename, items in data.items() }"
   ]
  },
  {
   "cell_type": "code",
   "execution_count": 14,
   "metadata": {
    "collapsed": false
   },
   "outputs": [
    {
     "data": {
      "text/html": [
       "<div>\n",
       "<table border=\"1\" class=\"dataframe\">\n",
       "  <thead>\n",
       "    <tr style=\"text-align: right;\">\n",
       "      <th></th>\n",
       "      <th>total_workers</th>\n",
       "      <th>workers_per_host</th>\n",
       "      <th>timestamp</th>\n",
       "      <th>hosts</th>\n",
       "      <th>edge_count</th>\n",
       "      <th>commit</th>\n",
       "      <th>node_count</th>\n",
       "      <th>binary</th>\n",
       "      <th>graph</th>\n",
       "      <th>worker_label</th>\n",
       "    </tr>\n",
       "  </thead>\n",
       "  <tbody>\n",
       "    <tr>\n",
       "      <th>0928c75d-8e21-4eca-9b7b-43b59575cff2</th>\n",
       "      <td>8</td>\n",
       "      <td>8</td>\n",
       "      <td>2017-04-24 10:30:24 +0200</td>\n",
       "      <td>1</td>\n",
       "      <td>132018377</td>\n",
       "      <td>68f894882d9def032beff3389849ac6d4e099c96</td>\n",
       "      <td>1000000</td>\n",
       "      <td>/home/kit/iti/kp0036/code/prototypes/thrill_lo...</td>\n",
       "      <td>graphs/graph_50_10000_mu_0.5_1000000-preproces...</td>\n",
       "      <td>1x8</td>\n",
       "    </tr>\n",
       "    <tr>\n",
       "      <th>11e8d9f2-1dd7-466a-b18a-9841362817bb</th>\n",
       "      <td>16</td>\n",
       "      <td>4</td>\n",
       "      <td>2017-04-24 10:30:24 +0200</td>\n",
       "      <td>4</td>\n",
       "      <td>132018377</td>\n",
       "      <td>68f894882d9def032beff3389849ac6d4e099c96</td>\n",
       "      <td>1000000</td>\n",
       "      <td>/home/kit/iti/kp0036/code/prototypes/thrill_lo...</td>\n",
       "      <td>graphs/graph_50_10000_mu_0.5_1000000-preproces...</td>\n",
       "      <td>4x4</td>\n",
       "    </tr>\n",
       "    <tr>\n",
       "      <th>123a6fbe-0def-4641-8c21-45b356394ff4</th>\n",
       "      <td>60</td>\n",
       "      <td>15</td>\n",
       "      <td>2017-04-24 10:30:25 +0200</td>\n",
       "      <td>4</td>\n",
       "      <td>1320354546</td>\n",
       "      <td>68f894882d9def032beff3389849ac6d4e099c96</td>\n",
       "      <td>10000000</td>\n",
       "      <td>/home/kit/iti/kp0036/code/prototypes/thrill_lo...</td>\n",
       "      <td>graphs/graph_50_10000_mu_0.5_10000000-preproce...</td>\n",
       "      <td>4x15</td>\n",
       "    </tr>\n",
       "    <tr>\n",
       "      <th>17c8aedc-b98e-4d0e-9339-b866f5ea5035</th>\n",
       "      <td>4</td>\n",
       "      <td>1</td>\n",
       "      <td>2017-04-24 10:30:25 +0200</td>\n",
       "      <td>4</td>\n",
       "      <td>1320354546</td>\n",
       "      <td>68f894882d9def032beff3389849ac6d4e099c96</td>\n",
       "      <td>10000000</td>\n",
       "      <td>/home/kit/iti/kp0036/code/prototypes/thrill_lo...</td>\n",
       "      <td>graphs/graph_50_10000_mu_0.5_10000000-preproce...</td>\n",
       "      <td>4x1</td>\n",
       "    </tr>\n",
       "    <tr>\n",
       "      <th>19204534-2d0f-41df-ab08-fdcf93755cbe</th>\n",
       "      <td>2</td>\n",
       "      <td>2</td>\n",
       "      <td>2017-04-24 10:30:23 +0200</td>\n",
       "      <td>1</td>\n",
       "      <td>132018377</td>\n",
       "      <td>68f894882d9def032beff3389849ac6d4e099c96</td>\n",
       "      <td>1000000</td>\n",
       "      <td>/home/kit/iti/kp0036/code/prototypes/thrill_lo...</td>\n",
       "      <td>graphs/graph_50_10000_mu_0.5_1000000-preproces...</td>\n",
       "      <td>1x2</td>\n",
       "    </tr>\n",
       "    <tr>\n",
       "      <th>1c46dc51-4513-4277-b981-edb4b04329fe</th>\n",
       "      <td>8</td>\n",
       "      <td>2</td>\n",
       "      <td>2017-04-24 10:30:25 +0200</td>\n",
       "      <td>4</td>\n",
       "      <td>1320354546</td>\n",
       "      <td>68f894882d9def032beff3389849ac6d4e099c96</td>\n",
       "      <td>10000000</td>\n",
       "      <td>/home/kit/iti/kp0036/code/prototypes/thrill_lo...</td>\n",
       "      <td>graphs/graph_50_10000_mu_0.5_10000000-preproce...</td>\n",
       "      <td>4x2</td>\n",
       "    </tr>\n",
       "    <tr>\n",
       "      <th>305dd165-cec6-490e-bdc8-4492bdb4a46d</th>\n",
       "      <td>15</td>\n",
       "      <td>15</td>\n",
       "      <td>2017-04-24 10:30:24 +0200</td>\n",
       "      <td>1</td>\n",
       "      <td>132018377</td>\n",
       "      <td>68f894882d9def032beff3389849ac6d4e099c96</td>\n",
       "      <td>1000000</td>\n",
       "      <td>/home/kit/iti/kp0036/code/prototypes/thrill_lo...</td>\n",
       "      <td>graphs/graph_50_10000_mu_0.5_1000000-preproces...</td>\n",
       "      <td>1x15</td>\n",
       "    </tr>\n",
       "    <tr>\n",
       "      <th>43311ec8-eddc-4fd8-a098-fe837e6da47a</th>\n",
       "      <td>4</td>\n",
       "      <td>1</td>\n",
       "      <td>2017-04-24 10:30:24 +0200</td>\n",
       "      <td>4</td>\n",
       "      <td>132018377</td>\n",
       "      <td>68f894882d9def032beff3389849ac6d4e099c96</td>\n",
       "      <td>1000000</td>\n",
       "      <td>/home/kit/iti/kp0036/code/prototypes/thrill_lo...</td>\n",
       "      <td>graphs/graph_50_10000_mu_0.5_1000000-preproces...</td>\n",
       "      <td>4x1</td>\n",
       "    </tr>\n",
       "    <tr>\n",
       "      <th>5d2d97b8-cf94-4f3a-860a-bb7f3c98b6d5</th>\n",
       "      <td>32</td>\n",
       "      <td>8</td>\n",
       "      <td>2017-04-24 10:30:24 +0200</td>\n",
       "      <td>4</td>\n",
       "      <td>132018377</td>\n",
       "      <td>68f894882d9def032beff3389849ac6d4e099c96</td>\n",
       "      <td>1000000</td>\n",
       "      <td>/home/kit/iti/kp0036/code/prototypes/thrill_lo...</td>\n",
       "      <td>graphs/graph_50_10000_mu_0.5_1000000-preproces...</td>\n",
       "      <td>4x8</td>\n",
       "    </tr>\n",
       "    <tr>\n",
       "      <th>5dee6b7b-18c7-4adf-8e6a-ee6b9ab740cb</th>\n",
       "      <td>16</td>\n",
       "      <td>4</td>\n",
       "      <td>2017-04-24 10:30:25 +0200</td>\n",
       "      <td>4</td>\n",
       "      <td>1320354546</td>\n",
       "      <td>68f894882d9def032beff3389849ac6d4e099c96</td>\n",
       "      <td>10000000</td>\n",
       "      <td>/home/kit/iti/kp0036/code/prototypes/thrill_lo...</td>\n",
       "      <td>graphs/graph_50_10000_mu_0.5_10000000-preproce...</td>\n",
       "      <td>4x4</td>\n",
       "    </tr>\n",
       "    <tr>\n",
       "      <th>7e0d71a1-7067-4e1c-86d4-b9a906b03914</th>\n",
       "      <td>32</td>\n",
       "      <td>8</td>\n",
       "      <td>2017-04-24 10:30:25 +0200</td>\n",
       "      <td>4</td>\n",
       "      <td>1320354546</td>\n",
       "      <td>68f894882d9def032beff3389849ac6d4e099c96</td>\n",
       "      <td>10000000</td>\n",
       "      <td>/home/kit/iti/kp0036/code/prototypes/thrill_lo...</td>\n",
       "      <td>graphs/graph_50_10000_mu_0.5_10000000-preproce...</td>\n",
       "      <td>4x8</td>\n",
       "    </tr>\n",
       "    <tr>\n",
       "      <th>8545a187-5b44-4bad-8cba-f40a2cc685a2</th>\n",
       "      <td>4</td>\n",
       "      <td>4</td>\n",
       "      <td>2017-04-24 10:30:23 +0200</td>\n",
       "      <td>1</td>\n",
       "      <td>132018377</td>\n",
       "      <td>68f894882d9def032beff3389849ac6d4e099c96</td>\n",
       "      <td>1000000</td>\n",
       "      <td>/home/kit/iti/kp0036/code/prototypes/thrill_lo...</td>\n",
       "      <td>graphs/graph_50_10000_mu_0.5_1000000-preproces...</td>\n",
       "      <td>1x4</td>\n",
       "    </tr>\n",
       "    <tr>\n",
       "      <th>ad509988-6007-4989-868d-15c1c1883961</th>\n",
       "      <td>8</td>\n",
       "      <td>2</td>\n",
       "      <td>2017-04-24 10:30:24 +0200</td>\n",
       "      <td>4</td>\n",
       "      <td>132018377</td>\n",
       "      <td>68f894882d9def032beff3389849ac6d4e099c96</td>\n",
       "      <td>1000000</td>\n",
       "      <td>/home/kit/iti/kp0036/code/prototypes/thrill_lo...</td>\n",
       "      <td>graphs/graph_50_10000_mu_0.5_1000000-preproces...</td>\n",
       "      <td>4x2</td>\n",
       "    </tr>\n",
       "    <tr>\n",
       "      <th>d78024b8-baae-4768-bd8d-59fd4d05134e</th>\n",
       "      <td>1</td>\n",
       "      <td>1</td>\n",
       "      <td>2017-04-24 10:30:23 +0200</td>\n",
       "      <td>1</td>\n",
       "      <td>132018377</td>\n",
       "      <td>68f894882d9def032beff3389849ac6d4e099c96</td>\n",
       "      <td>1000000</td>\n",
       "      <td>/home/kit/iti/kp0036/code/prototypes/thrill_lo...</td>\n",
       "      <td>graphs/graph_50_10000_mu_0.5_1000000-preproces...</td>\n",
       "      <td>1x1</td>\n",
       "    </tr>\n",
       "    <tr>\n",
       "      <th>da1ce75b-fd6f-43d7-b0c1-a438282d12dd</th>\n",
       "      <td>60</td>\n",
       "      <td>15</td>\n",
       "      <td>2017-04-24 10:30:25 +0200</td>\n",
       "      <td>4</td>\n",
       "      <td>132018377</td>\n",
       "      <td>68f894882d9def032beff3389849ac6d4e099c96</td>\n",
       "      <td>1000000</td>\n",
       "      <td>/home/kit/iti/kp0036/code/prototypes/thrill_lo...</td>\n",
       "      <td>graphs/graph_50_10000_mu_0.5_1000000-preproces...</td>\n",
       "      <td>4x15</td>\n",
       "    </tr>\n",
       "  </tbody>\n",
       "</table>\n",
       "</div>"
      ],
      "text/plain": [
       "                                      total_workers  workers_per_host  \\\n",
       "0928c75d-8e21-4eca-9b7b-43b59575cff2              8                 8   \n",
       "11e8d9f2-1dd7-466a-b18a-9841362817bb             16                 4   \n",
       "123a6fbe-0def-4641-8c21-45b356394ff4             60                15   \n",
       "17c8aedc-b98e-4d0e-9339-b866f5ea5035              4                 1   \n",
       "19204534-2d0f-41df-ab08-fdcf93755cbe              2                 2   \n",
       "1c46dc51-4513-4277-b981-edb4b04329fe              8                 2   \n",
       "305dd165-cec6-490e-bdc8-4492bdb4a46d             15                15   \n",
       "43311ec8-eddc-4fd8-a098-fe837e6da47a              4                 1   \n",
       "5d2d97b8-cf94-4f3a-860a-bb7f3c98b6d5             32                 8   \n",
       "5dee6b7b-18c7-4adf-8e6a-ee6b9ab740cb             16                 4   \n",
       "7e0d71a1-7067-4e1c-86d4-b9a906b03914             32                 8   \n",
       "8545a187-5b44-4bad-8cba-f40a2cc685a2              4                 4   \n",
       "ad509988-6007-4989-868d-15c1c1883961              8                 2   \n",
       "d78024b8-baae-4768-bd8d-59fd4d05134e              1                 1   \n",
       "da1ce75b-fd6f-43d7-b0c1-a438282d12dd             60                15   \n",
       "\n",
       "                                                      timestamp  hosts  \\\n",
       "0928c75d-8e21-4eca-9b7b-43b59575cff2  2017-04-24 10:30:24 +0200      1   \n",
       "11e8d9f2-1dd7-466a-b18a-9841362817bb  2017-04-24 10:30:24 +0200      4   \n",
       "123a6fbe-0def-4641-8c21-45b356394ff4  2017-04-24 10:30:25 +0200      4   \n",
       "17c8aedc-b98e-4d0e-9339-b866f5ea5035  2017-04-24 10:30:25 +0200      4   \n",
       "19204534-2d0f-41df-ab08-fdcf93755cbe  2017-04-24 10:30:23 +0200      1   \n",
       "1c46dc51-4513-4277-b981-edb4b04329fe  2017-04-24 10:30:25 +0200      4   \n",
       "305dd165-cec6-490e-bdc8-4492bdb4a46d  2017-04-24 10:30:24 +0200      1   \n",
       "43311ec8-eddc-4fd8-a098-fe837e6da47a  2017-04-24 10:30:24 +0200      4   \n",
       "5d2d97b8-cf94-4f3a-860a-bb7f3c98b6d5  2017-04-24 10:30:24 +0200      4   \n",
       "5dee6b7b-18c7-4adf-8e6a-ee6b9ab740cb  2017-04-24 10:30:25 +0200      4   \n",
       "7e0d71a1-7067-4e1c-86d4-b9a906b03914  2017-04-24 10:30:25 +0200      4   \n",
       "8545a187-5b44-4bad-8cba-f40a2cc685a2  2017-04-24 10:30:23 +0200      1   \n",
       "ad509988-6007-4989-868d-15c1c1883961  2017-04-24 10:30:24 +0200      4   \n",
       "d78024b8-baae-4768-bd8d-59fd4d05134e  2017-04-24 10:30:23 +0200      1   \n",
       "da1ce75b-fd6f-43d7-b0c1-a438282d12dd  2017-04-24 10:30:25 +0200      4   \n",
       "\n",
       "                                      edge_count  \\\n",
       "0928c75d-8e21-4eca-9b7b-43b59575cff2   132018377   \n",
       "11e8d9f2-1dd7-466a-b18a-9841362817bb   132018377   \n",
       "123a6fbe-0def-4641-8c21-45b356394ff4  1320354546   \n",
       "17c8aedc-b98e-4d0e-9339-b866f5ea5035  1320354546   \n",
       "19204534-2d0f-41df-ab08-fdcf93755cbe   132018377   \n",
       "1c46dc51-4513-4277-b981-edb4b04329fe  1320354546   \n",
       "305dd165-cec6-490e-bdc8-4492bdb4a46d   132018377   \n",
       "43311ec8-eddc-4fd8-a098-fe837e6da47a   132018377   \n",
       "5d2d97b8-cf94-4f3a-860a-bb7f3c98b6d5   132018377   \n",
       "5dee6b7b-18c7-4adf-8e6a-ee6b9ab740cb  1320354546   \n",
       "7e0d71a1-7067-4e1c-86d4-b9a906b03914  1320354546   \n",
       "8545a187-5b44-4bad-8cba-f40a2cc685a2   132018377   \n",
       "ad509988-6007-4989-868d-15c1c1883961   132018377   \n",
       "d78024b8-baae-4768-bd8d-59fd4d05134e   132018377   \n",
       "da1ce75b-fd6f-43d7-b0c1-a438282d12dd   132018377   \n",
       "\n",
       "                                                                        commit  \\\n",
       "0928c75d-8e21-4eca-9b7b-43b59575cff2  68f894882d9def032beff3389849ac6d4e099c96   \n",
       "11e8d9f2-1dd7-466a-b18a-9841362817bb  68f894882d9def032beff3389849ac6d4e099c96   \n",
       "123a6fbe-0def-4641-8c21-45b356394ff4  68f894882d9def032beff3389849ac6d4e099c96   \n",
       "17c8aedc-b98e-4d0e-9339-b866f5ea5035  68f894882d9def032beff3389849ac6d4e099c96   \n",
       "19204534-2d0f-41df-ab08-fdcf93755cbe  68f894882d9def032beff3389849ac6d4e099c96   \n",
       "1c46dc51-4513-4277-b981-edb4b04329fe  68f894882d9def032beff3389849ac6d4e099c96   \n",
       "305dd165-cec6-490e-bdc8-4492bdb4a46d  68f894882d9def032beff3389849ac6d4e099c96   \n",
       "43311ec8-eddc-4fd8-a098-fe837e6da47a  68f894882d9def032beff3389849ac6d4e099c96   \n",
       "5d2d97b8-cf94-4f3a-860a-bb7f3c98b6d5  68f894882d9def032beff3389849ac6d4e099c96   \n",
       "5dee6b7b-18c7-4adf-8e6a-ee6b9ab740cb  68f894882d9def032beff3389849ac6d4e099c96   \n",
       "7e0d71a1-7067-4e1c-86d4-b9a906b03914  68f894882d9def032beff3389849ac6d4e099c96   \n",
       "8545a187-5b44-4bad-8cba-f40a2cc685a2  68f894882d9def032beff3389849ac6d4e099c96   \n",
       "ad509988-6007-4989-868d-15c1c1883961  68f894882d9def032beff3389849ac6d4e099c96   \n",
       "d78024b8-baae-4768-bd8d-59fd4d05134e  68f894882d9def032beff3389849ac6d4e099c96   \n",
       "da1ce75b-fd6f-43d7-b0c1-a438282d12dd  68f894882d9def032beff3389849ac6d4e099c96   \n",
       "\n",
       "                                      node_count  \\\n",
       "0928c75d-8e21-4eca-9b7b-43b59575cff2     1000000   \n",
       "11e8d9f2-1dd7-466a-b18a-9841362817bb     1000000   \n",
       "123a6fbe-0def-4641-8c21-45b356394ff4    10000000   \n",
       "17c8aedc-b98e-4d0e-9339-b866f5ea5035    10000000   \n",
       "19204534-2d0f-41df-ab08-fdcf93755cbe     1000000   \n",
       "1c46dc51-4513-4277-b981-edb4b04329fe    10000000   \n",
       "305dd165-cec6-490e-bdc8-4492bdb4a46d     1000000   \n",
       "43311ec8-eddc-4fd8-a098-fe837e6da47a     1000000   \n",
       "5d2d97b8-cf94-4f3a-860a-bb7f3c98b6d5     1000000   \n",
       "5dee6b7b-18c7-4adf-8e6a-ee6b9ab740cb    10000000   \n",
       "7e0d71a1-7067-4e1c-86d4-b9a906b03914    10000000   \n",
       "8545a187-5b44-4bad-8cba-f40a2cc685a2     1000000   \n",
       "ad509988-6007-4989-868d-15c1c1883961     1000000   \n",
       "d78024b8-baae-4768-bd8d-59fd4d05134e     1000000   \n",
       "da1ce75b-fd6f-43d7-b0c1-a438282d12dd     1000000   \n",
       "\n",
       "                                                                                 binary  \\\n",
       "0928c75d-8e21-4eca-9b7b-43b59575cff2  /home/kit/iti/kp0036/code/prototypes/thrill_lo...   \n",
       "11e8d9f2-1dd7-466a-b18a-9841362817bb  /home/kit/iti/kp0036/code/prototypes/thrill_lo...   \n",
       "123a6fbe-0def-4641-8c21-45b356394ff4  /home/kit/iti/kp0036/code/prototypes/thrill_lo...   \n",
       "17c8aedc-b98e-4d0e-9339-b866f5ea5035  /home/kit/iti/kp0036/code/prototypes/thrill_lo...   \n",
       "19204534-2d0f-41df-ab08-fdcf93755cbe  /home/kit/iti/kp0036/code/prototypes/thrill_lo...   \n",
       "1c46dc51-4513-4277-b981-edb4b04329fe  /home/kit/iti/kp0036/code/prototypes/thrill_lo...   \n",
       "305dd165-cec6-490e-bdc8-4492bdb4a46d  /home/kit/iti/kp0036/code/prototypes/thrill_lo...   \n",
       "43311ec8-eddc-4fd8-a098-fe837e6da47a  /home/kit/iti/kp0036/code/prototypes/thrill_lo...   \n",
       "5d2d97b8-cf94-4f3a-860a-bb7f3c98b6d5  /home/kit/iti/kp0036/code/prototypes/thrill_lo...   \n",
       "5dee6b7b-18c7-4adf-8e6a-ee6b9ab740cb  /home/kit/iti/kp0036/code/prototypes/thrill_lo...   \n",
       "7e0d71a1-7067-4e1c-86d4-b9a906b03914  /home/kit/iti/kp0036/code/prototypes/thrill_lo...   \n",
       "8545a187-5b44-4bad-8cba-f40a2cc685a2  /home/kit/iti/kp0036/code/prototypes/thrill_lo...   \n",
       "ad509988-6007-4989-868d-15c1c1883961  /home/kit/iti/kp0036/code/prototypes/thrill_lo...   \n",
       "d78024b8-baae-4768-bd8d-59fd4d05134e  /home/kit/iti/kp0036/code/prototypes/thrill_lo...   \n",
       "da1ce75b-fd6f-43d7-b0c1-a438282d12dd  /home/kit/iti/kp0036/code/prototypes/thrill_lo...   \n",
       "\n",
       "                                                                                  graph  \\\n",
       "0928c75d-8e21-4eca-9b7b-43b59575cff2  graphs/graph_50_10000_mu_0.5_1000000-preproces...   \n",
       "11e8d9f2-1dd7-466a-b18a-9841362817bb  graphs/graph_50_10000_mu_0.5_1000000-preproces...   \n",
       "123a6fbe-0def-4641-8c21-45b356394ff4  graphs/graph_50_10000_mu_0.5_10000000-preproce...   \n",
       "17c8aedc-b98e-4d0e-9339-b866f5ea5035  graphs/graph_50_10000_mu_0.5_10000000-preproce...   \n",
       "19204534-2d0f-41df-ab08-fdcf93755cbe  graphs/graph_50_10000_mu_0.5_1000000-preproces...   \n",
       "1c46dc51-4513-4277-b981-edb4b04329fe  graphs/graph_50_10000_mu_0.5_10000000-preproce...   \n",
       "305dd165-cec6-490e-bdc8-4492bdb4a46d  graphs/graph_50_10000_mu_0.5_1000000-preproces...   \n",
       "43311ec8-eddc-4fd8-a098-fe837e6da47a  graphs/graph_50_10000_mu_0.5_1000000-preproces...   \n",
       "5d2d97b8-cf94-4f3a-860a-bb7f3c98b6d5  graphs/graph_50_10000_mu_0.5_1000000-preproces...   \n",
       "5dee6b7b-18c7-4adf-8e6a-ee6b9ab740cb  graphs/graph_50_10000_mu_0.5_10000000-preproce...   \n",
       "7e0d71a1-7067-4e1c-86d4-b9a906b03914  graphs/graph_50_10000_mu_0.5_10000000-preproce...   \n",
       "8545a187-5b44-4bad-8cba-f40a2cc685a2  graphs/graph_50_10000_mu_0.5_1000000-preproces...   \n",
       "ad509988-6007-4989-868d-15c1c1883961  graphs/graph_50_10000_mu_0.5_1000000-preproces...   \n",
       "d78024b8-baae-4768-bd8d-59fd4d05134e  graphs/graph_50_10000_mu_0.5_1000000-preproces...   \n",
       "da1ce75b-fd6f-43d7-b0c1-a438282d12dd  graphs/graph_50_10000_mu_0.5_1000000-preproces...   \n",
       "\n",
       "                                     worker_label  \n",
       "0928c75d-8e21-4eca-9b7b-43b59575cff2          1x8  \n",
       "11e8d9f2-1dd7-466a-b18a-9841362817bb          4x4  \n",
       "123a6fbe-0def-4641-8c21-45b356394ff4         4x15  \n",
       "17c8aedc-b98e-4d0e-9339-b866f5ea5035          4x1  \n",
       "19204534-2d0f-41df-ab08-fdcf93755cbe          1x2  \n",
       "1c46dc51-4513-4277-b981-edb4b04329fe          4x2  \n",
       "305dd165-cec6-490e-bdc8-4492bdb4a46d         1x15  \n",
       "43311ec8-eddc-4fd8-a098-fe837e6da47a          4x1  \n",
       "5d2d97b8-cf94-4f3a-860a-bb7f3c98b6d5          4x8  \n",
       "5dee6b7b-18c7-4adf-8e6a-ee6b9ab740cb          4x4  \n",
       "7e0d71a1-7067-4e1c-86d4-b9a906b03914          4x8  \n",
       "8545a187-5b44-4bad-8cba-f40a2cc685a2          1x4  \n",
       "ad509988-6007-4989-868d-15c1c1883961          4x2  \n",
       "d78024b8-baae-4768-bd8d-59fd4d05134e          1x1  \n",
       "da1ce75b-fd6f-43d7-b0c1-a438282d12dd         4x15  "
      ]
     },
     "execution_count": 14,
     "metadata": {},
     "output_type": "execute_result"
    }
   ],
   "source": [
    "frames['program_run']['worker_label'] = frames['program_run']['hosts'].map(str) + 'x' + frames['program_run']['workers_per_host'].map(str)\n",
    "frames['program_run']"
   ]
  },
  {
   "cell_type": "code",
   "execution_count": 15,
   "metadata": {
    "collapsed": false
   },
   "outputs": [
    {
     "data": {
      "text/plain": [
       "<matplotlib.axes._subplots.AxesSubplot at 0x7f42f894d198>"
      ]
     },
     "execution_count": 15,
     "metadata": {},
     "output_type": "execute_result"
    },
    {
     "data": {
      "image/png": "[encoded data removed]",
      "text/plain": [
       "<matplotlib.figure.Figure at 0x7f42f89526d8>"
      ]
     },
     "metadata": {},
     "output_type": "display_data"
    }
   ],
   "source": [
    "frames['algorithm_run'] \\\n",
    "    .merge(frames['program_run'], left_on='program_run_id', right_index=True) \\\n",
    "    .loc[lambda x: x.node_count == 10000000] \\\n",
    "    .sort_values(by='total_workers') \\\n",
    "    .plot.bar(x='worker_label', y='runtime')"
   ]
  },
  {
   "cell_type": "code",
   "execution_count": 22,
   "metadata": {
    "collapsed": false
   },
   "outputs": [
    {
     "data": {
      "text/plain": [
       "<matplotlib.axes._subplots.AxesSubplot at 0x7f42f84ca550>"
      ]
     },
     "execution_count": 22,
     "metadata": {},
     "output_type": "execute_result"
    },
    {
     "data": {
      "image/png": "[encoded data removed]",
      "text/plain": [
       "<matplotlib.figure.Figure at 0x7f42f8528128>"
      ]
     },
     "metadata": {},
     "output_type": "display_data"
    }
   ],
   "source": [
    "frames['algorithm_run'] \\\n",
    "    .merge(frames['program_run'], left_on='program_run_id', right_index=True) \\\n",
    "    .loc[lambda x: x.node_count == 1000000] \\\n",
    "    .sort_values(by='total_workers') \\\n",
    "    .plot.bar(x='worker_label', y='runtime')"
   ]
  },
  {
   "cell_type": "code",
   "execution_count": 42,
   "metadata": {
    "collapsed": false
   },
   "outputs": [
    {
     "data": {
      "text/html": [
       "<div>\n",
       "<table border=\"1\" class=\"dataframe\">\n",
       "  <thead>\n",
       "    <tr style=\"text-align: right;\">\n",
       "      <th></th>\n",
       "      <th>graph</th>\n",
       "      <th>time</th>\n",
       "      <th>timestamp</th>\n",
       "      <th>output</th>\n",
       "      <th>binary</th>\n",
       "      <th>commit</th>\n",
       "      <th>edge_count</th>\n",
       "      <th>node_count</th>\n",
       "      <th>seed</th>\n",
       "      <th>ground_proof</th>\n",
       "    </tr>\n",
       "  </thead>\n",
       "  <tbody>\n",
       "    <tr>\n",
       "      <th>528ee835-1581-499c-9397-bb8c43dfa8f5</th>\n",
       "      <td>../data/uk-2002.metis.graph</td>\n",
       "      <td>NaN</td>\n",
       "      <td>2017-02-23 12:22:42 +0100</td>\n",
       "      <td>NaN</td>\n",
       "      <td>./louvain</td>\n",
       "      <td>3a926ce17b2d2022d1eb0261933c35ab7047ab89</td>\n",
       "      <td>261787258.0</td>\n",
       "      <td>18520486.0</td>\n",
       "      <td>350034241.0</td>\n",
       "      <td>NaN</td>\n",
       "    </tr>\n",
       "  </tbody>\n",
       "</table>\n",
       "</div>"
      ],
      "text/plain": [
       "                                                            graph  time  \\\n",
       "528ee835-1581-499c-9397-bb8c43dfa8f5  ../data/uk-2002.metis.graph   NaN   \n",
       "\n",
       "                                                      timestamp output  \\\n",
       "528ee835-1581-499c-9397-bb8c43dfa8f5  2017-02-23 12:22:42 +0100    NaN   \n",
       "\n",
       "                                         binary  \\\n",
       "528ee835-1581-499c-9397-bb8c43dfa8f5  ./louvain   \n",
       "\n",
       "                                                                        commit  \\\n",
       "528ee835-1581-499c-9397-bb8c43dfa8f5  3a926ce17b2d2022d1eb0261933c35ab7047ab89   \n",
       "\n",
       "                                       edge_count  node_count         seed  \\\n",
       "528ee835-1581-499c-9397-bb8c43dfa8f5  261787258.0  18520486.0  350034241.0   \n",
       "\n",
       "                                     ground_proof  \n",
       "528ee835-1581-499c-9397-bb8c43dfa8f5          NaN  "
      ]
     },
     "execution_count": 42,
     "metadata": {},
     "output_type": "execute_result"
    }
   ],
   "source": [
    "graphs = frames['program_run'].loc[lambda x: x.graph.str.contains(\"uk-2002\")].loc[lambda x: x.binary == './louvain']\n",
    "algos = frames['algorithm_run'].merge(graphs, left_on='program_run_id', right_index=True)\n",
    "graphs[:1]"
   ]
  },
  {
   "cell_type": "code",
   "execution_count": 43,
   "metadata": {
    "collapsed": false,
    "scrolled": true
   },
   "outputs": [
    {
     "data": {
      "text/plain": [
       "771295.3"
      ]
     },
     "execution_count": 43,
     "metadata": {},
     "output_type": "execute_result"
    }
   ],
   "source": [
    "frames['algorithm_level'] \\\n",
    "    .loc[lambda x: x.level == 0] \\\n",
    "    .merge(frames['algorithm_run'], left_on='algorithm_run_id', right_index=True) \\\n",
    "    .merge(graphs, left_on='program_run_id', right_index=True) \\\n",
    "    .loc[lambda x: x.algorithm.str.contains(\"sequential\")] \\\n",
    "    ['cluster_count'] \\\n",
    "    .mean()"
   ]
  },
  {
   "cell_type": "code",
   "execution_count": 44,
   "metadata": {
    "collapsed": false,
    "scrolled": true
   },
   "outputs": [
    {
     "data": {
      "text/plain": [
       "algorithm_y                                            size  allow_move_to_ghosts\n",
       "chunk                                                  4     False                     903232\n",
       "                                                             True                      959862\n",
       "                                                       32    False                     943180\n",
       "                                                             True                     1028918\n",
       "                                                       128   False                     957007\n",
       "                                                             True                     1045697\n",
       "                                                       1024  False                    1033051\n",
       "                                                             True                     1102469\n",
       "cluster_based                                          4     False                     773232\n",
       "                                                             True                      793798\n",
       "                                                       32    False                     782160\n",
       "                                                             True                      812965\n",
       "                                                       128   False                     819663\n",
       "                                                             True                      844567\n",
       "                                                       1024  False                     989146\n",
       "                                                             True                      999907\n",
       "deterministic_greedy_with_linear_penalty               4     False                    2600470\n",
       "                                                             True                     2270314\n",
       "                                                       32    False                    3410946\n",
       "                                                             True                     3399401\n",
       "                                                       128   False                    3551516\n",
       "                                                             True                     3749015\n",
       "                                                       1024  False                    3707842\n",
       "                                                             True                     4098413\n",
       "kaffpa                                                 4     False                     770746\n",
       "                                                             True                      791519\n",
       "                                                       32    False                     771247\n",
       "                                                             True                      805946\n",
       "                                                       128   False                     770842\n",
       "                                                             True                      814383\n",
       "                                                       1024  False                     775465\n",
       "                                                             True                      830907\n",
       "label_prop_partitioning                                4     False                    1233058\n",
       "                                                             True                     1037525\n",
       "                                                       32    False                    1382290\n",
       "                                                             True                     1128301\n",
       "                                                       128   False                    1416597\n",
       "                                                             True                     1135826\n",
       "                                                       1024  False                    1754555\n",
       "                                                             True                     1305956\n",
       "random                                                 4     False                    5317555\n",
       "                                                             True                     5069786\n",
       "                                                       32    False                   13391093\n",
       "                                                             True                    14154387\n",
       "                                                       128   False                   16761317\n",
       "                                                             True                    16916541\n",
       "                                                       1024  False                   18269598\n",
       "                                                             True                    18197089\n",
       "random_order_deterministic_greedy_with_linear_penalty  4     False                    3157080\n",
       "                                                             True                     2742458\n",
       "                                                       32    False                    4370185\n",
       "                                                             True                     4166428\n",
       "                                                       128   False                    4570415\n",
       "                                                             True                     4561358\n",
       "                                                       1024  False                    4787477\n",
       "                                                             True                     4921479\n",
       "Name: cluster_count, dtype: int64"
      ]
     },
     "execution_count": 44,
     "metadata": {},
     "output_type": "execute_result"
    }
   ],
   "source": [
    "frames['algorithm_level'] \\\n",
    "    .loc[lambda x: x.level == 0] \\\n",
    "    .merge(frames['algorithm_run'], left_on='algorithm_run_id', right_index=True) \\\n",
    "    .merge(graphs, left_on='program_run_id', right_index=True) \\\n",
    "    .merge(partitions, left_on='partition_id', right_index=True) \\\n",
    "    .loc[lambda x: x.algorithm_x.str.contains(\"partitioned\")] \\\n",
    "    .groupby(['algorithm_y', 'size', 'allow_move_to_ghosts'])['cluster_count'].mean()"
   ]
  },
  {
   "cell_type": "code",
   "execution_count": 45,
   "metadata": {
    "collapsed": false
   },
   "outputs": [
    {
     "data": {
      "text/plain": [
       "<matplotlib.axes._subplots.AxesSubplot at 0x7f7e60ae5940>"
      ]
     },
     "execution_count": 45,
     "metadata": {},
     "output_type": "execute_result"
    },
    {
     "data": {
      "image/png": "[encoded data removed]",
      "text/plain": [
       "<matplotlib.figure.Figure at 0x7f7e60dd2278>"
      ]
     },
     "metadata": {},
     "output_type": "display_data"
    }
   ],
   "source": [
    "groups = frames['algorithm_level'] \\\n",
    "    .loc[lambda x: x.level == 0] \\\n",
    "    .merge(frames['algorithm_run'], left_on='algorithm_run_id', right_index=True) \\\n",
    "    .merge(graphs, left_on='program_run_id', right_index=True) \\\n",
    "    .merge(partitions, left_on='partition_id', right_index=True) \\\n",
    "    .loc[lambda x: x.algorithm_x.str.contains(\"partitioned\")] \\\n",
    "    .loc[lambda x: x.allow_move_to_ghosts] \\\n",
    "    .loc[lambda x: ~x.algorithm_y.isin([\"deterministic_greedy_with_linear_penalty\"])] \\\n",
    "    .groupby(['algorithm_y'], as_index=False)\n",
    "\n",
    "\n",
    "pd.DataFrame({algo: levels.groupby('size')['cluster_count'].mean() for algo, levels in groups}).plot.bar(figsize=(15,8))"
   ]
  },
  {
   "cell_type": "code",
   "execution_count": 54,
   "metadata": {
    "collapsed": false
   },
   "outputs": [
    {
     "data": {
      "text/plain": [
       "0.9897678000000001"
      ]
     },
     "execution_count": 54,
     "metadata": {},
     "output_type": "execute_result"
    }
   ],
   "source": [
    "frames['clustering'] \\\n",
    "    .merge(algos, left_on='algorithm_run_id', right_index=True) \\\n",
    "    .loc[lambda x: x.algorithm.str.contains(\"sequential\")] \\\n",
    "    ['modularity'].mean()"
   ]
  },
  {
   "cell_type": "code",
   "execution_count": 51,
   "metadata": {
    "collapsed": false
   },
   "outputs": [
    {
     "data": {
      "text/plain": [
       "algorithm_y                                            size  allow_move_to_ghosts\n",
       "chunk                                                  4     False                   0.988459\n",
       "                                                             True                    0.989305\n",
       "                                                       32    False                   0.988000\n",
       "                                                             True                    0.989061\n",
       "                                                       128   False                   0.987957\n",
       "                                                             True                    0.989091\n",
       "                                                       1024  False                   0.987948\n",
       "                                                             True                    0.989110\n",
       "cluster_based                                          4     False                   0.989725\n",
       "                                                             True                    0.989756\n",
       "                                                       32    False                   0.989753\n",
       "                                                             True                    0.989791\n",
       "                                                       128   False                   0.989793\n",
       "                                                             True                    0.989826\n",
       "                                                       1024  False                   0.989804\n",
       "                                                             True                    0.989841\n",
       "deterministic_greedy_with_linear_penalty               4     False                   0.988248\n",
       "                                                             True                    0.989277\n",
       "                                                       32    False                   0.987780\n",
       "                                                             True                    0.989185\n",
       "                                                       128   False                   0.987786\n",
       "                                                             True                    0.989176\n",
       "                                                       1024  False                   0.987698\n",
       "                                                             True                    0.989231\n",
       "kaffpa                                                 4     False                   0.989783\n",
       "                                                             True                    0.989746\n",
       "                                                       32    False                   0.989848\n",
       "                                                             True                    0.989856\n",
       "                                                       128   False                   0.989938\n",
       "                                                             True                    0.989928\n",
       "                                                       1024  False                   0.989979\n",
       "                                                             True                    0.989973\n",
       "label_prop_partitioning                                4     False                   0.989516\n",
       "                                                             True                    0.989676\n",
       "                                                       32    False                   0.989492\n",
       "                                                             True                    0.989662\n",
       "                                                       128   False                   0.989665\n",
       "                                                             True                    0.989731\n",
       "                                                       1024  False                   0.989647\n",
       "                                                             True                    0.989777\n",
       "random                                                 4     False                   0.989179\n",
       "                                                             True                    0.989508\n",
       "                                                       32    False                   0.988261\n",
       "                                                             True                    0.989581\n",
       "                                                       128   False                   0.988843\n",
       "                                                             True                    0.989719\n",
       "                                                       1024  False                   0.989592\n",
       "                                                             True                    0.989737\n",
       "random_order_deterministic_greedy_with_linear_penalty  4     False                   0.988194\n",
       "                                                             True                    0.989277\n",
       "                                                       32    False                   0.987635\n",
       "                                                             True                    0.989193\n",
       "                                                       128   False                   0.987588\n",
       "                                                             True                    0.989284\n",
       "                                                       1024  False                   0.987522\n",
       "                                                             True                    0.989189\n",
       "Name: modularity, dtype: float64"
      ]
     },
     "execution_count": 51,
     "metadata": {},
     "output_type": "execute_result"
    }
   ],
   "source": [
    "frames['clustering'] \\\n",
    "    .merge(algos, left_on='algorithm_run_id', right_index=True) \\\n",
    "    .merge(partitions, left_on='partition_id', right_index=True) \\\n",
    "    .loc[lambda x: x.algorithm_x.str.contains(\"partitioned\")] \\\n",
    "    .groupby(['algorithm_y', 'size', 'allow_move_to_ghosts'])['modularity'].mean()\n"
   ]
  },
  {
   "cell_type": "code",
   "execution_count": 64,
   "metadata": {
    "collapsed": false
   },
   "outputs": [
    {
     "data": {
      "text/plain": [
       "<matplotlib.axes._subplots.AxesSubplot at 0x7f7df8d05198>"
      ]
     },
     "execution_count": 64,
     "metadata": {},
     "output_type": "execute_result"
    },
    {
     "data": {
      "image/png": "[encoded data removed]",
      "text/plain": [
       "<matplotlib.figure.Figure at 0x7f7df8bd79e8>"
      ]
     },
     "metadata": {},
     "output_type": "display_data"
    }
   ],
   "source": [
    "groups = frames['clustering'] \\\n",
    "    .merge(algos, left_on='algorithm_run_id', right_index=True) \\\n",
    "    .merge(partitions, left_on='partition_id', right_index=True) \\\n",
    "    .loc[lambda x: x.algorithm_x.str.contains(\"partitioned\")] \\\n",
    "    .loc[lambda x: x.allow_move_to_ghosts] \\\n",
    "    .loc[lambda x: ~x.algorithm_y.isin([\"deterministic_greedy_with_linear_penalty\"])] \\\n",
    "    .groupby(['algorithm_y'], as_index=False)\n",
    "\n",
    "pd.DataFrame({algo: clusterings.groupby('size')['modularity'].mean() for algo, clusterings in groups}).plot.bar(figsize=(15,8), ylim=[0.985, 1])"
   ]
  },
  {
   "cell_type": "code",
   "execution_count": 25,
   "metadata": {
    "collapsed": false,
    "scrolled": true
   },
   "outputs": [
    {
     "data": {
      "text/plain": [
       "size  algorithm_x                                          \n",
       "4     chunk                                                      9404346\n",
       "      cluster_based                                              1434465\n",
       "      deterministic_greedy_with_linear_penalty                  53357687\n",
       "      kaffpa                                                      837043\n",
       "      label_prop_partitioning                                   10675758\n",
       "      random                                                   196338953\n",
       "      random_order_deterministic_greedy_with_linear_penalty     60809430\n",
       "32    chunk                                                     12299093\n",
       "      cluster_based                                              2741584\n",
       "      deterministic_greedy_with_linear_penalty                  71550827\n",
       "      kaffpa                                                     1594437\n",
       "      label_prop_partitioning                                   13906613\n",
       "      random                                                   253605081\n",
       "      random_order_deterministic_greedy_with_linear_penalty     79840316\n",
       "128   chunk                                                     13066271\n",
       "      cluster_based                                              4754035\n",
       "      deterministic_greedy_with_linear_penalty                  75768561\n",
       "      kaffpa                                                     2160953\n",
       "      label_prop_partitioning                                   14494782\n",
       "      random                                                   259741454\n",
       "      random_order_deterministic_greedy_with_linear_penalty     83645672\n",
       "1024  chunk                                                     19288568\n",
       "      cluster_based                                             15530850\n",
       "      deterministic_greedy_with_linear_penalty                  85568260\n",
       "      kaffpa                                                     4423835\n",
       "      label_prop_partitioning                                   26131423\n",
       "      random                                                   261531543\n",
       "      random_order_deterministic_greedy_with_linear_penalty     95840178\n",
       "Name: cut_weight, dtype: int64"
      ]
     },
     "execution_count": 25,
     "metadata": {},
     "output_type": "execute_result"
    }
   ],
   "source": [
    "frames['partition_element'] \\\n",
    "    .merge(partitions, left_on='partition_id', right_index=True) \\\n",
    "    .merge(algos, left_on='partition_id', right_on='partition_id') \\\n",
    "    .groupby(['size', 'algorithm_x'])['cut_weight'].mean()"
   ]
  },
  {
   "cell_type": "code",
   "execution_count": 26,
   "metadata": {
    "collapsed": false,
    "scrolled": true
   },
   "outputs": [
    {
     "data": {
      "text/plain": [
       "size  algorithm_x                                          \n",
       "4     chunk                                                    1.073760e+06\n",
       "      cluster_based                                            2.424708e+05\n",
       "      deterministic_greedy_with_linear_penalty                 2.883604e+06\n",
       "      kaffpa                                                   1.521628e+05\n",
       "      label_prop_partitioning                                  9.389110e+05\n",
       "      random                                                   1.097264e+07\n",
       "      random_order_deterministic_greedy_with_linear_penalty    3.673715e+06\n",
       "32    chunk                                                    2.263837e+05\n",
       "      cluster_based                                            6.858232e+04\n",
       "      deterministic_greedy_with_linear_penalty                 7.690247e+05\n",
       "      kaffpa                                                   4.597378e+04\n",
       "      label_prop_partitioning                                  1.886402e+05\n",
       "      random                                                   6.303094e+06\n",
       "      random_order_deterministic_greedy_with_linear_penalty    9.590474e+05\n",
       "128   chunk                                                    6.421030e+04\n",
       "      cluster_based                                            2.461709e+04\n",
       "      deterministic_greedy_with_linear_penalty                 2.657865e+05\n",
       "      kaffpa                                                   1.731162e+04\n",
       "      label_prop_partitioning                                  5.224795e+04\n",
       "      random                                                   2.448896e+06\n",
       "      random_order_deterministic_greedy_with_linear_penalty    3.228015e+05\n",
       "1024  chunk                                                    9.418812e+03\n",
       "      cluster_based                                            6.372763e+03\n",
       "      deterministic_greedy_with_linear_penalty                 4.703073e+04\n",
       "      kaffpa                                                   3.791501e+03\n",
       "      label_prop_partitioning                                  7.988218e+03\n",
       "      random                                                   4.304212e+05\n",
       "      random_order_deterministic_greedy_with_linear_penalty    5.662023e+04\n",
       "Name: ghost_count, dtype: float64"
      ]
     },
     "execution_count": 26,
     "metadata": {},
     "output_type": "execute_result"
    }
   ],
   "source": [
    "frames['partition_element'] \\\n",
    "    .merge(partitions, left_on='partition_id', right_index=True) \\\n",
    "    .merge(algos, left_on='partition_id', right_on='partition_id') \\\n",
    "    .groupby(['size', 'algorithm_x'])['ghost_count'].mean()"
   ]
  },
  {
   "cell_type": "code",
   "execution_count": 27,
   "metadata": {
    "collapsed": false,
    "scrolled": true
   },
   "outputs": [
    {
     "data": {
      "text/plain": [
       "size  algorithm_x                                          \n",
       "4     chunk                                                      4295038\n",
       "      cluster_based                                               969883\n",
       "      deterministic_greedy_with_linear_penalty                  11534417\n",
       "      kaffpa                                                      608651\n",
       "      label_prop_partitioning                                    3755644\n",
       "      random                                                    43890568\n",
       "      random_order_deterministic_greedy_with_linear_penalty     14694859\n",
       "32    chunk                                                      7244277\n",
       "      cluster_based                                              2194634\n",
       "      deterministic_greedy_with_linear_penalty                  24608789\n",
       "      kaffpa                                                     1471161\n",
       "      label_prop_partitioning                                    6036488\n",
       "      random                                                   201699016\n",
       "      random_order_deterministic_greedy_with_linear_penalty     30689517\n",
       "128   chunk                                                      8218918\n",
       "      cluster_based                                              3150987\n",
       "      deterministic_greedy_with_linear_penalty                  34020668\n",
       "      kaffpa                                                     2215888\n",
       "      label_prop_partitioning                                    6687737\n",
       "      random                                                   313458634\n",
       "      random_order_deterministic_greedy_with_linear_penalty     41318592\n",
       "1024  chunk                                                      9644864\n",
       "      cluster_based                                              6525709\n",
       "      deterministic_greedy_with_linear_penalty                  48159472\n",
       "      kaffpa                                                     3882497\n",
       "      label_prop_partitioning                                    8179935\n",
       "      random                                                   440751271\n",
       "      random_order_deterministic_greedy_with_linear_penalty     57979114\n",
       "Name: ghost_count, dtype: int64"
      ]
     },
     "execution_count": 27,
     "metadata": {},
     "output_type": "execute_result"
    }
   ],
   "source": [
    "frames['partition_element'] \\\n",
    "    .groupby('partition_id', as_index=False)['ghost_count'].sum() \\\n",
    "    .merge(partitions, left_on='partition_id', right_index=True) \\\n",
    "    .merge(algos, left_on='partition_id', right_on='partition_id') \\\n",
    "    .groupby(['size', 'algorithm_x'])['ghost_count'].mean()"
   ]
  },
  {
   "cell_type": "code",
   "execution_count": 42,
   "metadata": {
    "collapsed": false,
    "scrolled": true
   },
   "outputs": [
    {
     "data": {
      "text/plain": [
       "(array([ 883.,    3.,    1.,    0.,    2.,    0.,    0.,    0.,    0.,\n",
       "           0.,    0.,    0.,    0.,    0.,    1.,    0.,    0.,    0.,\n",
       "           0.,    0.,    0.,    0.,    0.,    0.,    0.,    0.,    0.,\n",
       "           0.,    0.,    0.,    0.,    0.,    0.,    0.,    0.,    0.,\n",
       "           0.,    0.,    0.,    0.,    0.,    0.,    0.,    0.,    0.,\n",
       "           0.,    0.,    0.,    0.,    0.,    0.,    0.,    0.,    0.,\n",
       "           0.,    0.,    0.,    0.,    0.,    0.,    0.,    0.,    0.,\n",
       "           0.,    0.,    0.,    0.,    0.,    0.,    0.,    0.,    0.,\n",
       "           0.,    0.,    0.,    0.,    0.,    0.,    0.,    0.,    0.,\n",
       "           0.,    0.,    0.,    0.,    0.,    0.,    0.,    0.,    0.,\n",
       "           0.,    0.,    0.,    0.,    0.,    0.,    0.,    0.,    0.,    1.]),\n",
       " array([  1.00000000e+00,   2.08800000e+01,   4.07600000e+01,\n",
       "          6.06400000e+01,   8.05200000e+01,   1.00400000e+02,\n",
       "          1.20280000e+02,   1.40160000e+02,   1.60040000e+02,\n",
       "          1.79920000e+02,   1.99800000e+02,   2.19680000e+02,\n",
       "          2.39560000e+02,   2.59440000e+02,   2.79320000e+02,\n",
       "          2.99200000e+02,   3.19080000e+02,   3.38960000e+02,\n",
       "          3.58840000e+02,   3.78720000e+02,   3.98600000e+02,\n",
       "          4.18480000e+02,   4.38360000e+02,   4.58240000e+02,\n",
       "          4.78120000e+02,   4.98000000e+02,   5.17880000e+02,\n",
       "          5.37760000e+02,   5.57640000e+02,   5.77520000e+02,\n",
       "          5.97400000e+02,   6.17280000e+02,   6.37160000e+02,\n",
       "          6.57040000e+02,   6.76920000e+02,   6.96800000e+02,\n",
       "          7.16680000e+02,   7.36560000e+02,   7.56440000e+02,\n",
       "          7.76320000e+02,   7.96200000e+02,   8.16080000e+02,\n",
       "          8.35960000e+02,   8.55840000e+02,   8.75720000e+02,\n",
       "          8.95600000e+02,   9.15480000e+02,   9.35360000e+02,\n",
       "          9.55240000e+02,   9.75120000e+02,   9.95000000e+02,\n",
       "          1.01488000e+03,   1.03476000e+03,   1.05464000e+03,\n",
       "          1.07452000e+03,   1.09440000e+03,   1.11428000e+03,\n",
       "          1.13416000e+03,   1.15404000e+03,   1.17392000e+03,\n",
       "          1.19380000e+03,   1.21368000e+03,   1.23356000e+03,\n",
       "          1.25344000e+03,   1.27332000e+03,   1.29320000e+03,\n",
       "          1.31308000e+03,   1.33296000e+03,   1.35284000e+03,\n",
       "          1.37272000e+03,   1.39260000e+03,   1.41248000e+03,\n",
       "          1.43236000e+03,   1.45224000e+03,   1.47212000e+03,\n",
       "          1.49200000e+03,   1.51188000e+03,   1.53176000e+03,\n",
       "          1.55164000e+03,   1.57152000e+03,   1.59140000e+03,\n",
       "          1.61128000e+03,   1.63116000e+03,   1.65104000e+03,\n",
       "          1.67092000e+03,   1.69080000e+03,   1.71068000e+03,\n",
       "          1.73056000e+03,   1.75044000e+03,   1.77032000e+03,\n",
       "          1.79020000e+03,   1.81008000e+03,   1.82996000e+03,\n",
       "          1.84984000e+03,   1.86972000e+03,   1.88960000e+03,\n",
       "          1.90948000e+03,   1.92936000e+03,   1.94924000e+03,\n",
       "          1.96912000e+03,   1.98900000e+03]),\n",
       " <a list of 100 Patch objects>)"
      ]
     },
     "execution_count": 42,
     "metadata": {},
     "output_type": "execute_result"
    },
    {
     "data": {
      "image/png": "[encoded data removed]",
      "text/plain": [
       "<matplotlib.figure.Figure at 0x7f3fcc7df780>"
      ]
     },
     "metadata": {},
     "output_type": "display_data"
    }
   ],
   "source": [
    "connected_component_sizes = frames['partition_element'] \\\n",
    "    .merge(frames['partition'], left_on='partition_id', right_index=True) \\\n",
    "    .merge(algos, left_on='partition_id', right_on='partition_id') \\\n",
    "    [['size', 'algorithm_x', 'connected_components']].iloc[0]['connected_components']\n",
    "    \n",
    "plt.hist(pd.Series(connected_component_sizes), log=True, bins=100) "
   ]
  }
 ],
 "metadata": {
  "anaconda-cloud": {},
  "kernelspec": {
   "display_name": "Python [default]",
   "language": "python",
   "name": "python3"
  },
  "language_info": {
   "codemirror_mode": {
    "name": "ipython",
    "version": 3
   },
   "file_extension": ".py",
   "mimetype": "text/x-python",
   "name": "python",
   "nbconvert_exporter": "python",
   "pygments_lexer": "ipython3",
   "version": "3.5.2"
  }
 },
 "nbformat": 4,
 "nbformat_minor": 1
}
