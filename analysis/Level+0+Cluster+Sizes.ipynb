{
 "cells": [
  {
   "cell_type": "code",
   "execution_count": 1,
   "metadata": {
    "collapsed": true
   },
   "outputs": [],
   "source": [
    "%matplotlib inline\n",
    "\n",
    "import pandas as pd\n",
    "import numpy as np\n",
    "import matplotlib.pyplot as plt\n",
    "\n",
    "import json\n",
    "import glob\n",
    "import os\n",
    "\n",
    "plt.style.use('ggplot') # Make the graphs a bit prettier"
   ]
  },
  {
   "cell_type": "code",
   "execution_count": 2,
   "metadata": {
    "collapsed": false
   },
   "outputs": [],
   "source": [
    "data = {}\n",
    "\n",
    "for path in glob.glob(os.path.expanduser(\"~/results/*.json\")):\n",
    "  for typename, items in json.load(open(path)).items():\n",
    "    if typename in data:\n",
    "      data[typename].update(items)\n",
    "    else:\n",
    "      data[typename] = items\n",
    "\n",
    "frames = { typename: pd.DataFrame.from_dict(items, orient='index') for typename, items in data.items() }"
   ]
  },
  {
   "cell_type": "code",
   "execution_count": 3,
   "metadata": {
    "collapsed": false
   },
   "outputs": [
    {
     "data": {
      "text/plain": [
       "470fe0c6-04df-41d0-8e25-b3870debcec8    ../../../data/uk-2002.metis.graph\n",
       "6d57ebf9-04c1-414b-874c-8d4395065410    ../../../data/uk-2002.metis.graph\n",
       "a9d1f0e9-0594-44b0-9ad8-e33fc19fc203    ../../../data/uk-2002.metis.graph\n",
       "b067797e-5170-475c-a334-6c616ef84fba    ../../../data/uk-2002.metis.graph\n",
       "b89c9c40-8726-4289-80e8-4aede2eed85e    ../../../data/uk-2002.metis.graph\n",
       "Name: graph, dtype: object"
      ]
     },
     "execution_count": 3,
     "metadata": {},
     "output_type": "execute_result"
    }
   ],
   "source": [
    "frames['program_run'][frames['algorithm_run'].groupby('program_run_id').size() < 42]['graph']\n"
   ]
  },
  {
   "cell_type": "code",
   "execution_count": 6,
   "metadata": {
    "collapsed": false
   },
   "outputs": [
    {
     "data": {
      "text/plain": [
       "array(['../../../data/in-2004.metis.graph',\n",
       "       '../../../data/lfr-100000-mu-0.2.metis.graph',\n",
       "       '../../../data/lfr-1000000-mu-0.2.metis.graph',\n",
       "       '../../../data/com-lj.ungraph.txt',\n",
       "       '../../../data/com-dblp.ungraph.txt',\n",
       "       '../../../data/com-amazon.ungraph.txt',\n",
       "       '../../../data/uk-2002.metis.graph'], dtype=object)"
      ]
     },
     "execution_count": 6,
     "metadata": {},
     "output_type": "execute_result"
    }
   ],
   "source": [
    "frames['program_run'].graph.unique()"
   ]
  },
  {
   "cell_type": "code",
   "execution_count": 44,
   "metadata": {
    "collapsed": false
   },
   "outputs": [],
   "source": [
    "graphs = frames['program_run'].loc[lambda x: x.graph.str.contains(\"uk-\")]\n",
    "algos = frames['algorithm_run'].merge(graphs, left_on='program_run_id', right_index=True)"
   ]
  },
  {
   "cell_type": "code",
   "execution_count": 45,
   "metadata": {
    "collapsed": false
   },
   "outputs": [
    {
     "data": {
      "text/html": [
       "<div>\n",
       "<table border=\"1\" class=\"dataframe\">\n",
       "  <thead>\n",
       "    <tr style=\"text-align: right;\">\n",
       "      <th></th>\n",
       "      <th>edge_count</th>\n",
       "      <th>seed</th>\n",
       "      <th>commit</th>\n",
       "      <th>ground_proof</th>\n",
       "      <th>timestamp</th>\n",
       "      <th>binary</th>\n",
       "      <th>node_count</th>\n",
       "      <th>graph</th>\n",
       "    </tr>\n",
       "  </thead>\n",
       "  <tbody>\n",
       "    <tr>\n",
       "      <th>470fe0c6-04df-41d0-8e25-b3870debcec8</th>\n",
       "      <td>261787258</td>\n",
       "      <td>1608692783</td>\n",
       "      <td>a544039be741562f348dc61b72c244dc5d993f83</td>\n",
       "      <td>NaN</td>\n",
       "      <td>2017-02-05 04:52:57 +0100</td>\n",
       "      <td>./louvain</td>\n",
       "      <td>18520486</td>\n",
       "      <td>../../../data/uk-2002.metis.graph</td>\n",
       "    </tr>\n",
       "  </tbody>\n",
       "</table>\n",
       "</div>"
      ],
      "text/plain": [
       "                                      edge_count        seed  \\\n",
       "470fe0c6-04df-41d0-8e25-b3870debcec8   261787258  1608692783   \n",
       "\n",
       "                                                                        commit  \\\n",
       "470fe0c6-04df-41d0-8e25-b3870debcec8  a544039be741562f348dc61b72c244dc5d993f83   \n",
       "\n",
       "                                     ground_proof                  timestamp  \\\n",
       "470fe0c6-04df-41d0-8e25-b3870debcec8          NaN  2017-02-05 04:52:57 +0100   \n",
       "\n",
       "                                         binary  node_count  \\\n",
       "470fe0c6-04df-41d0-8e25-b3870debcec8  ./louvain    18520486   \n",
       "\n",
       "                                                                  graph  \n",
       "470fe0c6-04df-41d0-8e25-b3870debcec8  ../../../data/uk-2002.metis.graph  "
      ]
     },
     "execution_count": 45,
     "metadata": {},
     "output_type": "execute_result"
    }
   ],
   "source": [
    "graphs[:1]"
   ]
  },
  {
   "cell_type": "code",
   "execution_count": 46,
   "metadata": {
    "collapsed": false,
    "scrolled": true
   },
   "outputs": [
    {
     "data": {
      "text/plain": [
       "770438.3"
      ]
     },
     "execution_count": 46,
     "metadata": {},
     "output_type": "execute_result"
    }
   ],
   "source": [
    "frames['algorithm_level'] \\\n",
    "    .loc[lambda x: x.level == 0] \\\n",
    "    .merge(frames['algorithm_run'], left_on='algorithm_run_id', right_index=True) \\\n",
    "    .merge(graphs, left_on='program_run_id', right_index=True) \\\n",
    "    .loc[lambda x: x.algorithm.str.contains(\"sequential\")] \\\n",
    "    ['cluster_count'] \\\n",
    "    .mean()"
   ]
  },
  {
   "cell_type": "code",
   "execution_count": 47,
   "metadata": {
    "collapsed": false,
    "scrolled": true
   },
   "outputs": [
    {
     "data": {
      "text/plain": [
       "algorithm_y                                            size  allow_move_to_ghosts\n",
       "chunk                                                  4     False                     903136\n",
       "                                                             True                      959903\n",
       "                                                       32    False                     943356\n",
       "                                                             True                     1028411\n",
       "                                                       128   False                     957280\n",
       "                                                             True                     1043740\n",
       "                                                       1024  False                    1032488\n",
       "                                                             True                     1103007\n",
       "cluster_based                                          4     False                     772772\n",
       "                                                             True                      794630\n",
       "                                                       32    False                     780286\n",
       "                                                             True                      813548\n",
       "                                                       128   False                     819366\n",
       "                                                             True                      845174\n",
       "                                                       1024  False                     983197\n",
       "                                                             True                      999502\n",
       "deterministic_greedy_with_linear_penalty               4     False                    2599703\n",
       "                                                             True                     2269244\n",
       "                                                       32    False                    3412649\n",
       "                                                             True                     3401170\n",
       "                                                       128   False                    3552776\n",
       "                                                             True                     3749469\n",
       "                                                       1024  False                    3708384\n",
       "                                                             True                     4098665\n",
       "random                                                 4     False                    5315071\n",
       "                                                             True                     5073368\n",
       "                                                       32    False                   13392364\n",
       "                                                             True                    14153930\n",
       "                                                       128   False                   16761913\n",
       "                                                             True                    16915886\n",
       "                                                       1024  True                    18197337\n",
       "random_order_deterministic_greedy_with_linear_penalty  4     False                    3152906\n",
       "                                                             True                     2738506\n",
       "                                                       32    False                    4373268\n",
       "                                                             True                     4168765\n",
       "                                                       128   False                    4581774\n",
       "                                                             True                     4564983\n",
       "                                                       1024  False                    4787836\n",
       "                                                             True                     4921349\n",
       "Name: cluster_count, dtype: int64"
      ]
     },
     "execution_count": 47,
     "metadata": {},
     "output_type": "execute_result"
    }
   ],
   "source": [
    "frames['algorithm_level'] \\\n",
    "    .loc[lambda x: x.level == 0] \\\n",
    "    .merge(frames['algorithm_run'], left_on='algorithm_run_id', right_index=True) \\\n",
    "    .merge(graphs, left_on='program_run_id', right_index=True) \\\n",
    "    .merge(frames['partition'], left_on='partition_id', right_index=True) \\\n",
    "    .loc[lambda x: x.algorithm_x.str.contains(\"partitioned\")] \\\n",
    "    .groupby(['algorithm_y', 'size', 'allow_move_to_ghosts'])['cluster_count'].mean()"
   ]
  },
  {
   "cell_type": "code",
   "execution_count": 51,
   "metadata": {
    "collapsed": false
   },
   "outputs": [
    {
     "data": {
      "text/plain": [
       "size  algorithm_x                                          \n",
       "4     chunk                                                      9404346\n",
       "      cluster_based                                              1345450\n",
       "      deterministic_greedy_with_linear_penalty                  53224875\n",
       "      random                                                   196342187\n",
       "      random_order_deterministic_greedy_with_linear_penalty     60830055\n",
       "32    chunk                                                     12299093\n",
       "      cluster_based                                              2562776\n",
       "      deterministic_greedy_with_linear_penalty                  71831734\n",
       "      random                                                   253605352\n",
       "      random_order_deterministic_greedy_with_linear_penalty     80081889\n",
       "128   chunk                                                     13066271\n",
       "      cluster_based                                              4382022\n",
       "      deterministic_greedy_with_linear_penalty                  75771705\n",
       "      random                                                   259742193\n",
       "      random_order_deterministic_greedy_with_linear_penalty     83779382\n",
       "1024  chunk                                                     19288568\n",
       "      cluster_based                                             15645399\n",
       "      deterministic_greedy_with_linear_penalty                  85484881\n",
       "      random                                                   261531715\n",
       "      random_order_deterministic_greedy_with_linear_penalty     95869764\n",
       "Name: cut_weight, dtype: int64"
      ]
     },
     "execution_count": 51,
     "metadata": {},
     "output_type": "execute_result"
    }
   ],
   "source": [
    "frames['partition_element'] \\\n",
    "    .merge(frames['partition'], left_on='partition_id', right_index=True) \\\n",
    "    .merge(algos, left_on='partition_id', right_on='partition_id') \\\n",
    "    .groupby(['size', 'algorithm_x'])['cut_weight'].mean()"
   ]
  },
  {
   "cell_type": "code",
   "execution_count": 52,
   "metadata": {
    "collapsed": false
   },
   "outputs": [
    {
     "data": {
      "text/plain": [
       "size  algorithm_x                                          \n",
       "4     chunk                                                    1.073760e+06\n",
       "      cluster_based                                            2.363990e+05\n",
       "      deterministic_greedy_with_linear_penalty                 2.882059e+06\n",
       "      random                                                   1.097560e+07\n",
       "      random_order_deterministic_greedy_with_linear_penalty    3.681154e+06\n",
       "32    chunk                                                    2.263837e+05\n",
       "      cluster_based                                            6.696456e+04\n",
       "      deterministic_greedy_with_linear_penalty                 7.712063e+05\n",
       "      random                                                   6.301600e+06\n",
       "      random_order_deterministic_greedy_with_linear_penalty    9.607671e+05\n",
       "128   chunk                                                    6.421030e+04\n",
       "      cluster_based                                            2.452314e+04\n",
       "      deterministic_greedy_with_linear_penalty                 2.658516e+05\n",
       "      random                                                   2.449341e+06\n",
       "      random_order_deterministic_greedy_with_linear_penalty    3.234928e+05\n",
       "1024  chunk                                                    9.418812e+03\n",
       "      cluster_based                                            6.375102e+03\n",
       "      deterministic_greedy_with_linear_penalty                 4.701567e+04\n",
       "      random                                                   4.304402e+05\n",
       "      random_order_deterministic_greedy_with_linear_penalty    5.667111e+04\n",
       "Name: ghost_count, dtype: float64"
      ]
     },
     "execution_count": 52,
     "metadata": {},
     "output_type": "execute_result"
    }
   ],
   "source": [
    "frames['partition_element'] \\\n",
    "    .merge(frames['partition'], left_on='partition_id', right_index=True) \\\n",
    "    .merge(algos, left_on='partition_id', right_on='partition_id') \\\n",
    "    .groupby(['size', 'algorithm_x'])['ghost_count'].mean()"
   ]
  },
  {
   "cell_type": "code",
   "execution_count": 50,
   "metadata": {
    "collapsed": false
   },
   "outputs": [
    {
     "ename": "IndentationError",
     "evalue": "unexpected indent (<ipython-input-50-5e379875a83d>, line 2)",
     "output_type": "error",
     "traceback": [
      "\u001b[0;36m  File \u001b[0;32m\"<ipython-input-50-5e379875a83d>\"\u001b[0;36m, line \u001b[0;32m2\u001b[0m\n\u001b[0;31m    .merge(frames['partition'], left_on='partition_id', right_index=True)     .merge(algos, left_on='partition_id', right_on='partition_id')     .groupby(['size', 'algorithm_x'])['ghost_count'].mean()\u001b[0m\n\u001b[0m    ^\u001b[0m\n\u001b[0;31mIndentationError\u001b[0m\u001b[0;31m:\u001b[0m unexpected indent\n"
     ]
    }
   ],
   "source": [
    "frames['partition_element'] \\\n",
    "    .groupby('partition_id', as_index=False)['ghost_count'].sum() \\\n",
    "    .merge(frames['partition'], left_on='partition_id', right_index=True) \\\n",
    "    .merge(algos, left_on='partition_id', right_on='partition_id') \\\n",
    "    .groupby(['size', 'algorithm_x'])['ghost_count'].mean()"
   ]
  },
  {
   "cell_type": "code",
   "execution_count": 42,
   "metadata": {
    "collapsed": false
   },
   "outputs": [
    {
     "data": {
      "text/plain": [
       "(array([ 883.,    3.,    1.,    0.,    2.,    0.,    0.,    0.,    0.,\n",
       "           0.,    0.,    0.,    0.,    0.,    1.,    0.,    0.,    0.,\n",
       "           0.,    0.,    0.,    0.,    0.,    0.,    0.,    0.,    0.,\n",
       "           0.,    0.,    0.,    0.,    0.,    0.,    0.,    0.,    0.,\n",
       "           0.,    0.,    0.,    0.,    0.,    0.,    0.,    0.,    0.,\n",
       "           0.,    0.,    0.,    0.,    0.,    0.,    0.,    0.,    0.,\n",
       "           0.,    0.,    0.,    0.,    0.,    0.,    0.,    0.,    0.,\n",
       "           0.,    0.,    0.,    0.,    0.,    0.,    0.,    0.,    0.,\n",
       "           0.,    0.,    0.,    0.,    0.,    0.,    0.,    0.,    0.,\n",
       "           0.,    0.,    0.,    0.,    0.,    0.,    0.,    0.,    0.,\n",
       "           0.,    0.,    0.,    0.,    0.,    0.,    0.,    0.,    0.,    1.]),\n",
       " array([  1.00000000e+00,   2.08800000e+01,   4.07600000e+01,\n",
       "          6.06400000e+01,   8.05200000e+01,   1.00400000e+02,\n",
       "          1.20280000e+02,   1.40160000e+02,   1.60040000e+02,\n",
       "          1.79920000e+02,   1.99800000e+02,   2.19680000e+02,\n",
       "          2.39560000e+02,   2.59440000e+02,   2.79320000e+02,\n",
       "          2.99200000e+02,   3.19080000e+02,   3.38960000e+02,\n",
       "          3.58840000e+02,   3.78720000e+02,   3.98600000e+02,\n",
       "          4.18480000e+02,   4.38360000e+02,   4.58240000e+02,\n",
       "          4.78120000e+02,   4.98000000e+02,   5.17880000e+02,\n",
       "          5.37760000e+02,   5.57640000e+02,   5.77520000e+02,\n",
       "          5.97400000e+02,   6.17280000e+02,   6.37160000e+02,\n",
       "          6.57040000e+02,   6.76920000e+02,   6.96800000e+02,\n",
       "          7.16680000e+02,   7.36560000e+02,   7.56440000e+02,\n",
       "          7.76320000e+02,   7.96200000e+02,   8.16080000e+02,\n",
       "          8.35960000e+02,   8.55840000e+02,   8.75720000e+02,\n",
       "          8.95600000e+02,   9.15480000e+02,   9.35360000e+02,\n",
       "          9.55240000e+02,   9.75120000e+02,   9.95000000e+02,\n",
       "          1.01488000e+03,   1.03476000e+03,   1.05464000e+03,\n",
       "          1.07452000e+03,   1.09440000e+03,   1.11428000e+03,\n",
       "          1.13416000e+03,   1.15404000e+03,   1.17392000e+03,\n",
       "          1.19380000e+03,   1.21368000e+03,   1.23356000e+03,\n",
       "          1.25344000e+03,   1.27332000e+03,   1.29320000e+03,\n",
       "          1.31308000e+03,   1.33296000e+03,   1.35284000e+03,\n",
       "          1.37272000e+03,   1.39260000e+03,   1.41248000e+03,\n",
       "          1.43236000e+03,   1.45224000e+03,   1.47212000e+03,\n",
       "          1.49200000e+03,   1.51188000e+03,   1.53176000e+03,\n",
       "          1.55164000e+03,   1.57152000e+03,   1.59140000e+03,\n",
       "          1.61128000e+03,   1.63116000e+03,   1.65104000e+03,\n",
       "          1.67092000e+03,   1.69080000e+03,   1.71068000e+03,\n",
       "          1.73056000e+03,   1.75044000e+03,   1.77032000e+03,\n",
       "          1.79020000e+03,   1.81008000e+03,   1.82996000e+03,\n",
       "          1.84984000e+03,   1.86972000e+03,   1.88960000e+03,\n",
       "          1.90948000e+03,   1.92936000e+03,   1.94924000e+03,\n",
       "          1.96912000e+03,   1.98900000e+03]),\n",
       " <a list of 100 Patch objects>)"
      ]
     },
     "execution_count": 42,
     "metadata": {},
     "output_type": "execute_result"
    },
    {
     "data": {
      "image/png": "[encoded data removed]",
      "text/plain": [
       "<matplotlib.figure.Figure at 0x7f3fcc7df780>"
      ]
     },
     "metadata": {},
     "output_type": "display_data"
    }
   ],
   "source": [
    "connected_component_sizes = frames['partition_element'] \\\n",
    "    .merge(frames['partition'], left_on='partition_id', right_index=True) \\\n",
    "    .merge(algos, left_on='partition_id', right_on='partition_id') \\\n",
    "    [['size', 'algorithm_x', 'connected_components']].iloc[0]['connected_components']\n",
    "    \n",
    "plt.hist(pd.Series(connected_component_sizes), log=True, bins=100) "
   ]
  },
  {
   "cell_type": "code",
   "execution_count": 80,
   "metadata": {
    "collapsed": false
   },
   "outputs": [
    {
     "data": {
      "text/plain": [
       "<matplotlib.axes._subplots.AxesSubplot at 0x7f3fcc314eb8>"
      ]
     },
     "execution_count": 80,
     "metadata": {},
     "output_type": "execute_result"
    },
    {
     "data": {
      "image/png": "[encoded data removed]",
      "text/plain": [
       "<matplotlib.figure.Figure at 0x7f3fcc1de4e0>"
      ]
     },
     "metadata": {},
     "output_type": "display_data"
    }
   ],
   "source": [
    "groups = frames['algorithm_level'] \\\n",
    "    .loc[lambda x: x.level == 0] \\\n",
    "    .merge(frames['algorithm_run'], left_on='algorithm_run_id', right_index=True) \\\n",
    "    .merge(graphs, left_on='program_run_id', right_index=True) \\\n",
    "    .merge(frames['partition'], left_on='partition_id', right_index=True) \\\n",
    "    .loc[lambda x: x.algorithm_x.str.contains(\"partitioned\")] \\\n",
    "    .loc[lambda x: x.allow_move_to_ghosts] \\\n",
    "    .loc[lambda x: ~x.algorithm_y.isin([\"deterministic_greedy_with_linear_penalty\", \"cluster_based\"])] \\\n",
    "    .groupby(['algorithm_y'], as_index=False)\n",
    "\n",
    "\n",
    "pd.DataFrame({algo: levels.groupby('size')['cluster_count'].mean() for algo, levels in groups}).plot.bar(figsize=(15,8))"
   ]
  }
 ],
 "metadata": {
  "anaconda-cloud": {},
  "kernelspec": {
   "display_name": "Python [default]",
   "language": "python",
   "name": "python3"
  },
  "language_info": {
   "codemirror_mode": {
    "name": "ipython",
    "version": 3
   },
   "file_extension": ".py",
   "mimetype": "text/x-python",
   "name": "python",
   "nbconvert_exporter": "python",
   "pygments_lexer": "ipython3",
   "version": "3.5.2"
  }
 },
 "nbformat": 4,
 "nbformat_minor": 1
}
