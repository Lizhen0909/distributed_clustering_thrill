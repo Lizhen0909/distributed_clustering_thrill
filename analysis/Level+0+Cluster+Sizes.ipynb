{
 "cells": [
  {
   "cell_type": "code",
   "execution_count": 35,
   "metadata": {
    "collapsed": true
   },
   "outputs": [],
   "source": [
    "%matplotlib inline\n",
    "\n",
    "import pandas as pd\n",
    "import numpy as np\n",
    "import matplotlib.pyplot as plt\n",
    "\n",
    "import json\n",
    "import glob"
   ]
  },
  {
   "cell_type": "code",
   "execution_count": 36,
   "metadata": {
    "collapsed": false
   },
   "outputs": [],
   "source": [
    "data = {}\n",
    "\n",
    "for path in glob.glob(\"/home/eagle/ownCloud/ma_thesis/results/*.json\"):\n",
    "  for typename, items in json.load(open(path)).items():\n",
    "    if typename in data:\n",
    "      data[typename].update(items)\n",
    "    else:\n",
    "      data[typename] = items\n",
    "\n",
    "frames = { typename: pd.DataFrame.from_dict(items, orient='index') for typename, items in data.items() }"
   ]
  },
  {
   "cell_type": "code",
   "execution_count": 47,
   "metadata": {
    "collapsed": false,
    "scrolled": true
   },
   "outputs": [
    {
     "data": {
      "text/plain": [
       "52814.86666666667"
      ]
     },
     "execution_count": 47,
     "metadata": {},
     "output_type": "execute_result"
    }
   ],
   "source": [
    "frames['algorithm_level'] \\\n",
    "    .loc[lambda x: x.level == 0] \\\n",
    "    .merge(frames['algorithm_run'], left_on='algorithm_run_id', right_index=True) \\\n",
    "    .merge(frames['program_run'].loc[lambda x: x.graph.str.contains(\"amazon\")], left_on='program_run_id', right_index=True) \\\n",
    "    .loc[lambda x: x.algorithm.str.contains(\"sequential\")] \\\n",
    "    ['cluster_count'] \\\n",
    "    .mean()"
   ]
  },
  {
   "cell_type": "code",
   "execution_count": 48,
   "metadata": {
    "collapsed": false,
    "scrolled": true
   },
   "outputs": [
    {
     "data": {
      "text/plain": [
       "order             partition_algorithm                       partition_count\n",
       "clustering_based  chunk                                     4.0                 61212\n",
       "                                                            32.0                83657\n",
       "                                                            128.0              152496\n",
       "                                                            1024.0             270110\n",
       "                  deterministic_greedy_with_linear_penalty  4.0                132871\n",
       "                                                            32.0               262791\n",
       "                                                            128.0              291156\n",
       "                                                            1024.0             296293\n",
       "original          chunk                                     4.0                222592\n",
       "                                                            32.0               314020\n",
       "                                                            128.0              326200\n",
       "                                                            1024.0             330572\n",
       "                  deterministic_greedy_with_linear_penalty  4.0                226052\n",
       "                                                            32.0               289893\n",
       "                                                            128.0              295909\n",
       "                                                            1024.0             297263\n",
       "shuffled          chunk                                     4.0                226849\n",
       "                                                            32.0               318619\n",
       "                                                            128.0              330644\n",
       "                                                            1024.0             334321\n",
       "                  deterministic_greedy_with_linear_penalty  4.0                228944\n",
       "                                                            32.0               290772\n",
       "                                                            128.0              296215\n",
       "                                                            1024.0             297245\n",
       "Name: cluster_count, dtype: int64"
      ]
     },
     "execution_count": 48,
     "metadata": {},
     "output_type": "execute_result"
    }
   ],
   "source": [
    "frames['algorithm_level'] \\\n",
    "    .loc[lambda x: x.level == 0] \\\n",
    "    .merge(frames['algorithm_run'], left_on='algorithm_run_id', right_index=True) \\\n",
    "    .merge(frames['program_run'].loc[lambda x: x.graph.str.contains(\"amazon\")], left_on='program_run_id', right_index=True) \\\n",
    "    .loc[lambda x: x.algorithm.str.contains(\"partitioned\")] \\\n",
    "    .groupby(['order', 'partition_algorithm', 'partition_count'])['cluster_count'].mean()"
   ]
  },
  {
   "cell_type": "code",
   "execution_count": 49,
   "metadata": {
    "collapsed": false
   },
   "outputs": [
    {
     "data": {
      "text/plain": [
       "ac2940fa-afc8-42ff-8c45-d58304ce9ee7    334863\n",
       "b8ab11eb-d30b-4266-a924-b5b6bcf38fc3    334863\n",
       "c4501056-9236-4a10-b4e4-0d642652456f    334863\n",
       "da63d7de-6257-4f85-bc79-7f6a48e6c39c    334863\n",
       "fd9a93a7-044d-477f-a750-4425c1f518ed    334863\n",
       "Name: node_count, dtype: int64"
      ]
     },
     "execution_count": 49,
     "metadata": {},
     "output_type": "execute_result"
    }
   ],
   "source": [
    "frames['program_run'].loc[lambda x: x.graph.str.contains(\"amazon\")]['node_count']"
   ]
  }
 ],
 "metadata": {
  "anaconda-cloud": {},
  "kernelspec": {
   "display_name": "Python [default]",
   "language": "python",
   "name": "python3"
  },
  "language_info": {
   "codemirror_mode": {
    "name": "ipython",
    "version": 3
   },
   "file_extension": ".py",
   "mimetype": "text/x-python",
   "name": "python",
   "nbconvert_exporter": "python",
   "pygments_lexer": "ipython3",
   "version": "3.5.2"
  }
 },
 "nbformat": 4,
 "nbformat_minor": 1
}
