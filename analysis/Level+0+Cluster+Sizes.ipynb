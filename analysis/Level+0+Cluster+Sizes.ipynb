{
 "cells": [
  {
   "cell_type": "code",
   "execution_count": 1,
   "metadata": {
    "collapsed": true
   },
   "outputs": [],
   "source": [
    "%matplotlib inline\n",
    "\n",
    "import pandas as pd\n",
    "import numpy as np\n",
    "import matplotlib.pyplot as plt\n",
    "\n",
    "import json\n",
    "import glob\n",
    "import os\n",
    "\n",
    "plt.style.use('ggplot') # Make the graphs a bit prettier\n",
    "pd.set_option('display.float_format', lambda x: '%.7f' % x)"
   ]
  },
  {
   "cell_type": "code",
   "execution_count": 2,
   "metadata": {
    "collapsed": true
   },
   "outputs": [],
   "source": [
    "data = {}\n",
    "\n",
    "for path in glob.glob(os.path.expanduser(\"~/dev/ma/data/results/level0cluster/*.json\")):\n",
    "  for typename, items in json.load(open(path)).items():\n",
    "    if typename in data:\n",
    "      data[typename].update(items)\n",
    "    else:\n",
    "      data[typename] = items\n",
    "\n",
    "frames = { typename: pd.DataFrame.from_dict(items, orient='index') for typename, items in data.items() }"
   ]
  },
  {
   "cell_type": "code",
   "execution_count": 13,
   "metadata": {
    "collapsed": true
   },
   "outputs": [],
   "source": [
    "frames['program_run']['order'] = frames['program_run']['graph'].map(lambda x: 'shuffled' if \"uk-2002.metis-preprocessed\" in x else 'original')\n",
    "\n",
    "partitions = frames['partition']\n",
    "partitions['algorithm'] = frames['partition'] \\\n",
    "    .merge(frames['program_run'], how='left', left_on='program_run_id', right_index=True) \\\n",
    "    .apply(lambda x: x.binary if x.algorithm == 'external' else x.algorithm, axis=1)\n",
    "    \n",
    "partitions.replace({ 'algorithm': { 'deterministic_greedy_with_linear_penalty': 'streaming', 'label_prop_partitioning': 'label propagation' } }, inplace=True)\n",
    "    \n",
    "graphs = frames['program_run'].loc[lambda x: x.binary == './louvain'] # .loc[lambda x: x.graph.str.contains(\"uk-2002.metis-preprocessed\")]\n",
    "algos = frames['algorithm_run'].merge(graphs, left_on='program_run_id', right_index=True)"
   ]
  },
  {
   "cell_type": "code",
   "execution_count": 14,
   "metadata": {
    "collapsed": false,
    "scrolled": true
   },
   "outputs": [
    {
     "data": {
      "text/plain": [
       "757191.0625"
      ]
     },
     "execution_count": 14,
     "metadata": {},
     "output_type": "execute_result"
    }
   ],
   "source": [
    "frames['algorithm_level'] \\\n",
    "    .loc[lambda x: x.level == 0] \\\n",
    "    .merge(frames['algorithm_run'], left_on='algorithm_run_id', right_index=True) \\\n",
    "    .merge(graphs, left_on='program_run_id', right_index=True) \\\n",
    "    .loc[lambda x: x.algorithm.str.contains(\"sequential\")] \\\n",
    "    ['cluster_count'] \\\n",
    "    .mean()"
   ]
  },
  {
   "cell_type": "code",
   "execution_count": 15,
   "metadata": {
    "collapsed": false,
    "scrolled": true
   },
   "outputs": [
    {
     "data": {
      "text/plain": [
       "order     algorithm_y        size  allow_move_to_ghosts\n",
       "original  chunk              4     False                    902856.600000\n",
       "                                   True                     959742.800000\n",
       "                             16    False                    936219.200000\n",
       "                                   True                    1015863.200000\n",
       "                             64    False                    949801.600000\n",
       "                                   True                    1036064.200000\n",
       "                             256   False                    968145.200000\n",
       "                                   True                    1051739.200000\n",
       "                             1024  False                   1032546.000000\n",
       "                                   True                    1102417.800000\n",
       "          streaming          4     False                   2599321.800000\n",
       "                                   True                    2269327.600000\n",
       "                             16    False                   3272400.000000\n",
       "                                   True                    3133270.600000\n",
       "                             64    False                   3493361.800000\n",
       "                                   True                    3596200.200000\n",
       "                             256   False                   3612733.600000\n",
       "                                   True                    3885263.200000\n",
       "                             1024  False                   3707956.200000\n",
       "                                   True                    4097572.600000\n",
       "shuffled  chunk              4     False                   5325246.666667\n",
       "                                   True                    5113415.333333\n",
       "                             16    False                  10841718.333333\n",
       "                                   True                   12196567.666667\n",
       "                             64    False                  15759926.666667\n",
       "                                   True                   16519945.333333\n",
       "                             256   False                  17830353.333333\n",
       "                                   True                   17847499.333333\n",
       "                             1024  False                  18275635.666667\n",
       "                                   True                   18175503.000000\n",
       "          label propagation  4     False                    824372.000000\n",
       "                                   True                     981411.333333\n",
       "                             16    False                    859714.000000\n",
       "                                   True                    1133701.333333\n",
       "                             64    False                    867388.666667\n",
       "                                   True                    1195747.333333\n",
       "                             256   False                    870679.000000\n",
       "                                   True                    1221188.666667\n",
       "                             1024  False                    872911.333333\n",
       "                                   True                    1234658.666667\n",
       "          streaming          4     False                   2391558.333333\n",
       "                                   True                    2226774.333333\n",
       "                             16    False                   2942598.000000\n",
       "                                   True                    2996770.000000\n",
       "                             64    False                   3116750.666667\n",
       "                                   True                    3383943.666667\n",
       "                             256   False                   3187242.000000\n",
       "                                   True                    3588696.000000\n",
       "                             1024  False                   3307713.666667\n",
       "                                   True                    3807321.666667\n",
       "Name: cluster_count, dtype: float64"
      ]
     },
     "execution_count": 15,
     "metadata": {},
     "output_type": "execute_result"
    }
   ],
   "source": [
    "frames['algorithm_level'] \\\n",
    "    .loc[lambda x: x.level == 0] \\\n",
    "    .merge(frames['algorithm_run'], left_on='algorithm_run_id', right_index=True) \\\n",
    "    .merge(graphs, left_on='program_run_id', right_index=True) \\\n",
    "    .merge(partitions, left_on='partition_id', right_index=True) \\\n",
    "    .loc[lambda x: x.algorithm_x.str.contains(\"partitioned\")] \\\n",
    "    .groupby(['order', 'algorithm_y', 'size', 'allow_move_to_ghosts'])['cluster_count'].mean()"
   ]
  },
  {
   "cell_type": "code",
   "execution_count": 16,
   "metadata": {
    "collapsed": false
   },
   "outputs": [
    {
     "data": {
      "text/plain": [
       "<matplotlib.axes._subplots.AxesSubplot at 0x7fd1f9328a58>"
      ]
     },
     "execution_count": 16,
     "metadata": {},
     "output_type": "execute_result"
    },
    {
     "data": {
      "image/png": "[encoded data removed]",
      "text/plain": [
       "<matplotlib.figure.Figure at 0x7fd1f919c128>"
      ]
     },
     "metadata": {},
     "output_type": "display_data"
    }
   ],
   "source": [
    "groups = frames['algorithm_level'] \\\n",
    "    .loc[lambda x: x.level == 0] \\\n",
    "    .merge(frames['algorithm_run'], left_on='algorithm_run_id', right_index=True) \\\n",
    "    .merge(graphs, left_on='program_run_id', right_index=True) \\\n",
    "    .merge(partitions, left_on='partition_id', right_index=True) \\\n",
    "    .loc[lambda x: x.algorithm_x.str.contains(\"partitioned\")] \\\n",
    "    .loc[lambda x: x.allow_move_to_ghosts] \\\n",
    "    .groupby(['order', 'algorithm_y'], as_index=False)\n",
    "\n",
    "#    .loc[lambda x: ~x.algorithm_y.isin([\"deterministic_greedy_with_linear_penalty\"])] \\\n",
    "\n",
    "pd.DataFrame({algo: levels.groupby('size')['cluster_count'].mean() for algo, levels in groups}).plot.bar(figsize=(15,8))"
   ]
  },
  {
   "cell_type": "code",
   "execution_count": 17,
   "metadata": {
    "collapsed": false
   },
   "outputs": [
    {
     "data": {
      "text/plain": [
       "0.9897445"
      ]
     },
     "execution_count": 17,
     "metadata": {},
     "output_type": "execute_result"
    }
   ],
   "source": [
    "frames['clustering'] \\\n",
    "    .merge(algos, left_on='algorithm_run_id', right_index=True) \\\n",
    "    .loc[lambda x: x.algorithm.str.contains(\"sequential\")] \\\n",
    "    ['modularity'].mean()"
   ]
  },
  {
   "cell_type": "code",
   "execution_count": 37,
   "metadata": {
    "collapsed": false
   },
   "outputs": [
    {
     "name": "stdout",
     "output_type": "stream",
     "text": [
      "\\begin{tabular}{llrrrrr}\n",
      "\\toprule\n",
      "         & partition elements &     4    &     16   &     64   &     256  &     1024 \\\\\n",
      "order & partitioning algorithm &          &          &          &          &          \\\\\n",
      "\\midrule\n",
      "original & chunk & 0.989281 & 0.989132 & 0.989080 & 0.989069 & 0.989076 \\\\\n",
      "         & streaming & 0.989288 & 0.989179 & 0.989247 & 0.989213 & 0.989205 \\\\\n",
      "shuffled & chunk & 0.989548 & 0.989467 & 0.989673 & 0.989710 & 0.989733 \\\\\n",
      "         & label propagation & 0.989740 & 0.989739 & 0.989777 & 0.989773 & 0.989770 \\\\\n",
      "         & streaming & 0.989644 & 0.989706 & 0.989725 & 0.989698 & 0.989591 \\\\\n",
      "\\bottomrule\n",
      "\\end{tabular}\n",
      "\n"
     ]
    }
   ],
   "source": [
    "qual_data = frames['clustering'] \\\n",
    "    .merge(algos, left_on='algorithm_run_id', right_index=True) \\\n",
    "    .merge(partitions, left_on='partition_id', right_index=True) \\\n",
    "    .loc[lambda x: x.algorithm_x.str.contains(\"partitioned\")] \\\n",
    "    .loc[lambda x: x.allow_move_to_ghosts] \\\n",
    "    .groupby(['order', 'algorithm_y', 'size'])['modularity'].mean()\n",
    "\n",
    "qual_data.index = qual_data.index.rename(['order', 'partitioning algorithm', 'partition elements'])\n",
    "    \n",
    "print(qual_data.unstack(['partition elements']).to_latex())"
   ]
  },
  {
   "cell_type": "code",
   "execution_count": 38,
   "metadata": {
    "collapsed": false
   },
   "outputs": [
    {
     "name": "stdout",
     "output_type": "stream",
     "text": [
      "\\begin{tabular}{llrrrrr}\n",
      "\\toprule\n",
      "         & partition elements &       4    &       16   &       64   &       256  &       1024 \\\\\n",
      "order & partitioning algorithm &            &            &            &            &            \\\\\n",
      "\\midrule\n",
      "original & chunk &    9404346 &   11754668 &   12642552 &   13792340 &   19288568 \\\\\n",
      "         & streaming &   53014526 &   68323728 &   73633832 &   78585883 &   85501755 \\\\\n",
      "shuffled & chunk &  198339260 &  246944129 &  258509423 &  261113135 &  261578869 \\\\\n",
      "         & label propagation &   17376628 &   23864982 &   25929781 &   26655192 &   26960313 \\\\\n",
      "         & streaming &   25095327 &   31906359 &   34145074 &   35090278 &   43401203 \\\\\n",
      "\\bottomrule\n",
      "\\end{tabular}\n",
      "\n"
     ]
    }
   ],
   "source": [
    "qual_data = frames['clustering'] \\\n",
    "    .merge(algos, left_on='algorithm_run_id', right_index=True) \\\n",
    "    .merge(partitions, left_on='partition_id', right_index=True) \\\n",
    "    .loc[lambda x: x.algorithm_x.str.contains(\"partitioned\")] \\\n",
    "    .loc[lambda x: x.allow_move_to_ghosts] \\\n",
    "    .groupby(['order', 'algorithm_y', 'size'])['cut_weight'].first()\n",
    "\n",
    "qual_data.index = qual_data.index.rename(['order', 'partitioning algorithm', 'partition elements'])\n",
    "    \n",
    "print(qual_data.unstack(['partition elements']).to_latex())"
   ]
  }
 ],
 "metadata": {
  "anaconda-cloud": {},
  "kernelspec": {
   "display_name": "Python [default]",
   "language": "python",
   "name": "python3"
  },
  "language_info": {
   "codemirror_mode": {
    "name": "ipython",
    "version": 3
   },
   "file_extension": ".py",
   "mimetype": "text/x-python",
   "name": "python",
   "nbconvert_exporter": "python",
   "pygments_lexer": "ipython3",
   "version": "3.5.2"
  }
 },
 "nbformat": 4,
 "nbformat_minor": 1
}
