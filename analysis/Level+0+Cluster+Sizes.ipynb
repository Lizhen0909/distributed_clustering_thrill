{
 "cells": [
  {
   "cell_type": "code",
   "execution_count": 1,
   "metadata": {
    "collapsed": true
   },
   "outputs": [],
   "source": [
    "%matplotlib inline\n",
    "\n",
    "import pandas as pd\n",
    "import numpy as np\n",
    "import matplotlib.pyplot as plt\n",
    "\n",
    "import json\n",
    "import glob\n",
    "import os\n",
    "\n",
    "plt.style.use('ggplot') # Make the graphs a bit prettier"
   ]
  },
  {
   "cell_type": "code",
   "execution_count": 2,
   "metadata": {
    "collapsed": false
   },
   "outputs": [],
   "source": [
    "data = {}\n",
    "\n",
    "for path in glob.glob(os.path.expanduser(\"~/dev/ma/data/results/2017-02-24/*.json\")):\n",
    "  for typename, items in json.load(open(path)).items():\n",
    "    if typename in data:\n",
    "      data[typename].update(items)\n",
    "    else:\n",
    "      data[typename] = items\n",
    "\n",
    "frames = { typename: pd.DataFrame.from_dict(items, orient='index') for typename, items in data.items() }"
   ]
  },
  {
   "cell_type": "code",
   "execution_count": 6,
   "metadata": {
    "collapsed": false
   },
   "outputs": [
    {
     "data": {
      "text/plain": [
       "028c0c46-88a9-4767-9d24-bb2766927369     ../data/lfr-100000-mu-0.2.metis.graph\n",
       "2268a88b-aef8-4c10-b1dd-5056cd472063     ../data/lfr-100000-mu-0.2.metis.graph\n",
       "35a90978-cbe8-4e33-9a81-dd5fee2a1a60     ../data/lfr-100000-mu-0.2.metis.graph\n",
       "4a8c3e93-c0c3-459f-a14b-66a1e2dd9795    ../data/lfr-1000000-mu-0.2.metis.graph\n",
       "70fc8bf2-df9f-4e04-a2be-c2b56ebcd710    ../data/lfr-1000000-mu-0.2.metis.graph\n",
       "76ac14a6-6a1c-4e30-8145-c44512388742    ../data/lfr-1000000-mu-0.2.metis.graph\n",
       "aab85dde-61f3-43cd-8ae2-48d10c2e4d9e     ../data/lfr-100000-mu-0.2.metis.graph\n",
       "ad6db6fe-cc6b-4440-84a5-b77481b51a32    ../data/lfr-1000000-mu-0.2.metis.graph\n",
       "b779171a-a00d-4a0b-8bc3-2d6c381b61e1     ../data/lfr-100000-mu-0.2.metis.graph\n",
       "db208f5e-cc03-4fa7-ba54-5ddbc2d3c235    ../data/lfr-1000000-mu-0.2.metis.graph\n",
       "Name: graph, dtype: object"
      ]
     },
     "execution_count": 6,
     "metadata": {},
     "output_type": "execute_result"
    }
   ],
   "source": [
    "frames['program_run'].loc[lambda x: x.binary == './louvain'][frames['algorithm_run'].groupby('program_run_id').size() < 58]['graph']\n"
   ]
  },
  {
   "cell_type": "code",
   "execution_count": 7,
   "metadata": {
    "collapsed": false
   },
   "outputs": [
    {
     "data": {
      "text/plain": [
       "array(['../data/lfr-100000-mu-0.2.metis.graph',\n",
       "       '../data/in-2004.metis.graph', '../data/com-dblp.ungraph.txt.graph',\n",
       "       '../data/com-lj.ungraph.txt.graph', '../data/uk-2002.metis.graph',\n",
       "       '../data/com-amazon.ungraph.txt.graph',\n",
       "       '../data/lfr-1000000-mu-0.2.metis.graph'], dtype=object)"
      ]
     },
     "execution_count": 7,
     "metadata": {},
     "output_type": "execute_result"
    }
   ],
   "source": [
    "frames['program_run'].graph.unique()"
   ]
  },
  {
   "cell_type": "code",
   "execution_count": 9,
   "metadata": {
    "collapsed": false
   },
   "outputs": [],
   "source": [
    "graphs = frames['program_run'].loc[lambda x: x.graph.str.contains(\"uk-\")].loc[lambda x: x.binary == './louvain']\n",
    "algos = frames['algorithm_run'].merge(graphs, left_on='program_run_id', right_index=True)"
   ]
  },
  {
   "cell_type": "code",
   "execution_count": 10,
   "metadata": {
    "collapsed": false
   },
   "outputs": [
    {
     "data": {
      "text/html": [
       "<div>\n",
       "<table border=\"1\" class=\"dataframe\">\n",
       "  <thead>\n",
       "    <tr style=\"text-align: right;\">\n",
       "      <th></th>\n",
       "      <th>graph</th>\n",
       "      <th>time</th>\n",
       "      <th>timestamp</th>\n",
       "      <th>output</th>\n",
       "      <th>binary</th>\n",
       "      <th>commit</th>\n",
       "      <th>edge_count</th>\n",
       "      <th>node_count</th>\n",
       "      <th>seed</th>\n",
       "      <th>ground_proof</th>\n",
       "    </tr>\n",
       "  </thead>\n",
       "  <tbody>\n",
       "    <tr>\n",
       "      <th>528ee835-1581-499c-9397-bb8c43dfa8f5</th>\n",
       "      <td>../data/uk-2002.metis.graph</td>\n",
       "      <td>NaN</td>\n",
       "      <td>2017-02-23 12:22:42 +0100</td>\n",
       "      <td>NaN</td>\n",
       "      <td>./louvain</td>\n",
       "      <td>3a926ce17b2d2022d1eb0261933c35ab7047ab89</td>\n",
       "      <td>261787258.0</td>\n",
       "      <td>18520486.0</td>\n",
       "      <td>350034241.0</td>\n",
       "      <td>NaN</td>\n",
       "    </tr>\n",
       "  </tbody>\n",
       "</table>\n",
       "</div>"
      ],
      "text/plain": [
       "                                                            graph  time  \\\n",
       "528ee835-1581-499c-9397-bb8c43dfa8f5  ../data/uk-2002.metis.graph   NaN   \n",
       "\n",
       "                                                      timestamp output  \\\n",
       "528ee835-1581-499c-9397-bb8c43dfa8f5  2017-02-23 12:22:42 +0100    NaN   \n",
       "\n",
       "                                         binary  \\\n",
       "528ee835-1581-499c-9397-bb8c43dfa8f5  ./louvain   \n",
       "\n",
       "                                                                        commit  \\\n",
       "528ee835-1581-499c-9397-bb8c43dfa8f5  3a926ce17b2d2022d1eb0261933c35ab7047ab89   \n",
       "\n",
       "                                       edge_count  node_count         seed  \\\n",
       "528ee835-1581-499c-9397-bb8c43dfa8f5  261787258.0  18520486.0  350034241.0   \n",
       "\n",
       "                                     ground_proof  \n",
       "528ee835-1581-499c-9397-bb8c43dfa8f5          NaN  "
      ]
     },
     "execution_count": 10,
     "metadata": {},
     "output_type": "execute_result"
    }
   ],
   "source": [
    "graphs[:1]"
   ]
  },
  {
   "cell_type": "code",
   "execution_count": 11,
   "metadata": {
    "collapsed": false,
    "scrolled": true
   },
   "outputs": [
    {
     "data": {
      "text/plain": [
       "771295.3"
      ]
     },
     "execution_count": 11,
     "metadata": {},
     "output_type": "execute_result"
    }
   ],
   "source": [
    "frames['algorithm_level'] \\\n",
    "    .loc[lambda x: x.level == 0] \\\n",
    "    .merge(frames['algorithm_run'], left_on='algorithm_run_id', right_index=True) \\\n",
    "    .merge(graphs, left_on='program_run_id', right_index=True) \\\n",
    "    .loc[lambda x: x.algorithm.str.contains(\"sequential\")] \\\n",
    "    ['cluster_count'] \\\n",
    "    .mean()"
   ]
  },
  {
   "cell_type": "code",
   "execution_count": 23,
   "metadata": {
    "collapsed": false
   },
   "outputs": [],
   "source": [
    "partitions = frames['partition']\n",
    "partitions['algorithm'] = frames['partition'] \\\n",
    "    .merge(frames['program_run'], how='left', left_on='program_run_id', right_index=True) \\\n",
    "    .apply(lambda x: x.binary if x.algorithm == 'external' else x.algorithm, axis=1)"
   ]
  },
  {
   "cell_type": "code",
   "execution_count": 24,
   "metadata": {
    "collapsed": false,
    "scrolled": true
   },
   "outputs": [
    {
     "data": {
      "text/plain": [
       "algorithm_y                                            size  allow_move_to_ghosts\n",
       "chunk                                                  4     False                     903232\n",
       "                                                             True                      959862\n",
       "                                                       32    False                     943180\n",
       "                                                             True                     1028918\n",
       "                                                       128   False                     957007\n",
       "                                                             True                     1045697\n",
       "                                                       1024  False                    1033051\n",
       "                                                             True                     1102469\n",
       "cluster_based                                          4     False                     773232\n",
       "                                                             True                      793798\n",
       "                                                       32    False                     782160\n",
       "                                                             True                      812965\n",
       "                                                       128   False                     819663\n",
       "                                                             True                      844567\n",
       "                                                       1024  False                     989146\n",
       "                                                             True                      999907\n",
       "deterministic_greedy_with_linear_penalty               4     False                    2600470\n",
       "                                                             True                     2270314\n",
       "                                                       32    False                    3410946\n",
       "                                                             True                     3399401\n",
       "                                                       128   False                    3551516\n",
       "                                                             True                     3749015\n",
       "                                                       1024  False                    3707842\n",
       "                                                             True                     4098413\n",
       "kaffpa                                                 4     False                     770746\n",
       "                                                             True                      791519\n",
       "                                                       32    False                     771247\n",
       "                                                             True                      805946\n",
       "                                                       128   False                     770842\n",
       "                                                             True                      814383\n",
       "                                                       1024  False                     775465\n",
       "                                                             True                      830907\n",
       "label_prop_partitioning                                4     False                    1233058\n",
       "                                                             True                     1037525\n",
       "                                                       32    False                    1382290\n",
       "                                                             True                     1128301\n",
       "                                                       128   False                    1416597\n",
       "                                                             True                     1135826\n",
       "                                                       1024  False                    1754555\n",
       "                                                             True                     1305956\n",
       "random                                                 4     False                    5317555\n",
       "                                                             True                     5069786\n",
       "                                                       32    False                   13391093\n",
       "                                                             True                    14154387\n",
       "                                                       128   False                   16761317\n",
       "                                                             True                    16916541\n",
       "                                                       1024  False                   18269598\n",
       "                                                             True                    18197089\n",
       "random_order_deterministic_greedy_with_linear_penalty  4     False                    3157080\n",
       "                                                             True                     2742458\n",
       "                                                       32    False                    4370185\n",
       "                                                             True                     4166428\n",
       "                                                       128   False                    4570415\n",
       "                                                             True                     4561358\n",
       "                                                       1024  False                    4787477\n",
       "                                                             True                     4921479\n",
       "Name: cluster_count, dtype: int64"
      ]
     },
     "execution_count": 24,
     "metadata": {},
     "output_type": "execute_result"
    }
   ],
   "source": [
    "frames['algorithm_level'] \\\n",
    "    .loc[lambda x: x.level == 0] \\\n",
    "    .merge(frames['algorithm_run'], left_on='algorithm_run_id', right_index=True) \\\n",
    "    .merge(graphs, left_on='program_run_id', right_index=True) \\\n",
    "    .merge(partitions, left_on='partition_id', right_index=True) \\\n",
    "    .loc[lambda x: x.algorithm_x.str.contains(\"partitioned\")] \\\n",
    "    .groupby(['algorithm_y', 'size', 'allow_move_to_ghosts'])['cluster_count'].mean()"
   ]
  },
  {
   "cell_type": "code",
   "execution_count": 29,
   "metadata": {
    "collapsed": false
   },
   "outputs": [
    {
     "data": {
      "text/plain": [
       "<matplotlib.axes._subplots.AxesSubplot at 0x7f7e6107a908>"
      ]
     },
     "execution_count": 29,
     "metadata": {},
     "output_type": "execute_result"
    },
    {
     "data": {
      "image/png": "[encoded data removed]",
      "text/plain": [
       "<matplotlib.figure.Figure at 0x7f7e610aaf28>"
      ]
     },
     "metadata": {},
     "output_type": "display_data"
    }
   ],
   "source": [
    "groups = frames['algorithm_level'] \\\n",
    "    .loc[lambda x: x.level == 0] \\\n",
    "    .merge(frames['algorithm_run'], left_on='algorithm_run_id', right_index=True) \\\n",
    "    .merge(graphs, left_on='program_run_id', right_index=True) \\\n",
    "    .merge(partitions, left_on='partition_id', right_index=True) \\\n",
    "    .loc[lambda x: x.algorithm_x.str.contains(\"partitioned\")] \\\n",
    "    .loc[lambda x: x.allow_move_to_ghosts] \\\n",
    "    .loc[lambda x: ~x.algorithm_y.isin([\"deterministic_greedy_with_linear_penalty\"])] \\\n",
    "    .groupby(['algorithm_y'], as_index=False)\n",
    "\n",
    "\n",
    "pd.DataFrame({algo: levels.groupby('size')['cluster_count'].mean() for algo, levels in groups}).plot.bar(figsize=(15,8))"
   ]
  },
  {
   "cell_type": "code",
   "execution_count": 25,
   "metadata": {
    "collapsed": false,
    "scrolled": true
   },
   "outputs": [
    {
     "data": {
      "text/plain": [
       "size  algorithm_x                                          \n",
       "4     chunk                                                      9404346\n",
       "      cluster_based                                              1434465\n",
       "      deterministic_greedy_with_linear_penalty                  53357687\n",
       "      kaffpa                                                      837043\n",
       "      label_prop_partitioning                                   10675758\n",
       "      random                                                   196338953\n",
       "      random_order_deterministic_greedy_with_linear_penalty     60809430\n",
       "32    chunk                                                     12299093\n",
       "      cluster_based                                              2741584\n",
       "      deterministic_greedy_with_linear_penalty                  71550827\n",
       "      kaffpa                                                     1594437\n",
       "      label_prop_partitioning                                   13906613\n",
       "      random                                                   253605081\n",
       "      random_order_deterministic_greedy_with_linear_penalty     79840316\n",
       "128   chunk                                                     13066271\n",
       "      cluster_based                                              4754035\n",
       "      deterministic_greedy_with_linear_penalty                  75768561\n",
       "      kaffpa                                                     2160953\n",
       "      label_prop_partitioning                                   14494782\n",
       "      random                                                   259741454\n",
       "      random_order_deterministic_greedy_with_linear_penalty     83645672\n",
       "1024  chunk                                                     19288568\n",
       "      cluster_based                                             15530850\n",
       "      deterministic_greedy_with_linear_penalty                  85568260\n",
       "      kaffpa                                                     4423835\n",
       "      label_prop_partitioning                                   26131423\n",
       "      random                                                   261531543\n",
       "      random_order_deterministic_greedy_with_linear_penalty     95840178\n",
       "Name: cut_weight, dtype: int64"
      ]
     },
     "execution_count": 25,
     "metadata": {},
     "output_type": "execute_result"
    }
   ],
   "source": [
    "frames['partition_element'] \\\n",
    "    .merge(partitions, left_on='partition_id', right_index=True) \\\n",
    "    .merge(algos, left_on='partition_id', right_on='partition_id') \\\n",
    "    .groupby(['size', 'algorithm_x'])['cut_weight'].mean()"
   ]
  },
  {
   "cell_type": "code",
   "execution_count": 26,
   "metadata": {
    "collapsed": false,
    "scrolled": true
   },
   "outputs": [
    {
     "data": {
      "text/plain": [
       "size  algorithm_x                                          \n",
       "4     chunk                                                    1.073760e+06\n",
       "      cluster_based                                            2.424708e+05\n",
       "      deterministic_greedy_with_linear_penalty                 2.883604e+06\n",
       "      kaffpa                                                   1.521628e+05\n",
       "      label_prop_partitioning                                  9.389110e+05\n",
       "      random                                                   1.097264e+07\n",
       "      random_order_deterministic_greedy_with_linear_penalty    3.673715e+06\n",
       "32    chunk                                                    2.263837e+05\n",
       "      cluster_based                                            6.858232e+04\n",
       "      deterministic_greedy_with_linear_penalty                 7.690247e+05\n",
       "      kaffpa                                                   4.597378e+04\n",
       "      label_prop_partitioning                                  1.886402e+05\n",
       "      random                                                   6.303094e+06\n",
       "      random_order_deterministic_greedy_with_linear_penalty    9.590474e+05\n",
       "128   chunk                                                    6.421030e+04\n",
       "      cluster_based                                            2.461709e+04\n",
       "      deterministic_greedy_with_linear_penalty                 2.657865e+05\n",
       "      kaffpa                                                   1.731162e+04\n",
       "      label_prop_partitioning                                  5.224795e+04\n",
       "      random                                                   2.448896e+06\n",
       "      random_order_deterministic_greedy_with_linear_penalty    3.228015e+05\n",
       "1024  chunk                                                    9.418812e+03\n",
       "      cluster_based                                            6.372763e+03\n",
       "      deterministic_greedy_with_linear_penalty                 4.703073e+04\n",
       "      kaffpa                                                   3.791501e+03\n",
       "      label_prop_partitioning                                  7.988218e+03\n",
       "      random                                                   4.304212e+05\n",
       "      random_order_deterministic_greedy_with_linear_penalty    5.662023e+04\n",
       "Name: ghost_count, dtype: float64"
      ]
     },
     "execution_count": 26,
     "metadata": {},
     "output_type": "execute_result"
    }
   ],
   "source": [
    "frames['partition_element'] \\\n",
    "    .merge(partitions, left_on='partition_id', right_index=True) \\\n",
    "    .merge(algos, left_on='partition_id', right_on='partition_id') \\\n",
    "    .groupby(['size', 'algorithm_x'])['ghost_count'].mean()"
   ]
  },
  {
   "cell_type": "code",
   "execution_count": 27,
   "metadata": {
    "collapsed": false,
    "scrolled": true
   },
   "outputs": [
    {
     "data": {
      "text/plain": [
       "size  algorithm_x                                          \n",
       "4     chunk                                                      4295038\n",
       "      cluster_based                                               969883\n",
       "      deterministic_greedy_with_linear_penalty                  11534417\n",
       "      kaffpa                                                      608651\n",
       "      label_prop_partitioning                                    3755644\n",
       "      random                                                    43890568\n",
       "      random_order_deterministic_greedy_with_linear_penalty     14694859\n",
       "32    chunk                                                      7244277\n",
       "      cluster_based                                              2194634\n",
       "      deterministic_greedy_with_linear_penalty                  24608789\n",
       "      kaffpa                                                     1471161\n",
       "      label_prop_partitioning                                    6036488\n",
       "      random                                                   201699016\n",
       "      random_order_deterministic_greedy_with_linear_penalty     30689517\n",
       "128   chunk                                                      8218918\n",
       "      cluster_based                                              3150987\n",
       "      deterministic_greedy_with_linear_penalty                  34020668\n",
       "      kaffpa                                                     2215888\n",
       "      label_prop_partitioning                                    6687737\n",
       "      random                                                   313458634\n",
       "      random_order_deterministic_greedy_with_linear_penalty     41318592\n",
       "1024  chunk                                                      9644864\n",
       "      cluster_based                                              6525709\n",
       "      deterministic_greedy_with_linear_penalty                  48159472\n",
       "      kaffpa                                                     3882497\n",
       "      label_prop_partitioning                                    8179935\n",
       "      random                                                   440751271\n",
       "      random_order_deterministic_greedy_with_linear_penalty     57979114\n",
       "Name: ghost_count, dtype: int64"
      ]
     },
     "execution_count": 27,
     "metadata": {},
     "output_type": "execute_result"
    }
   ],
   "source": [
    "frames['partition_element'] \\\n",
    "    .groupby('partition_id', as_index=False)['ghost_count'].sum() \\\n",
    "    .merge(partitions, left_on='partition_id', right_index=True) \\\n",
    "    .merge(algos, left_on='partition_id', right_on='partition_id') \\\n",
    "    .groupby(['size', 'algorithm_x'])['ghost_count'].mean()"
   ]
  },
  {
   "cell_type": "code",
   "execution_count": 42,
   "metadata": {
    "collapsed": false,
    "scrolled": true
   },
   "outputs": [
    {
     "data": {
      "text/plain": [
       "(array([ 883.,    3.,    1.,    0.,    2.,    0.,    0.,    0.,    0.,\n",
       "           0.,    0.,    0.,    0.,    0.,    1.,    0.,    0.,    0.,\n",
       "           0.,    0.,    0.,    0.,    0.,    0.,    0.,    0.,    0.,\n",
       "           0.,    0.,    0.,    0.,    0.,    0.,    0.,    0.,    0.,\n",
       "           0.,    0.,    0.,    0.,    0.,    0.,    0.,    0.,    0.,\n",
       "           0.,    0.,    0.,    0.,    0.,    0.,    0.,    0.,    0.,\n",
       "           0.,    0.,    0.,    0.,    0.,    0.,    0.,    0.,    0.,\n",
       "           0.,    0.,    0.,    0.,    0.,    0.,    0.,    0.,    0.,\n",
       "           0.,    0.,    0.,    0.,    0.,    0.,    0.,    0.,    0.,\n",
       "           0.,    0.,    0.,    0.,    0.,    0.,    0.,    0.,    0.,\n",
       "           0.,    0.,    0.,    0.,    0.,    0.,    0.,    0.,    0.,    1.]),\n",
       " array([  1.00000000e+00,   2.08800000e+01,   4.07600000e+01,\n",
       "          6.06400000e+01,   8.05200000e+01,   1.00400000e+02,\n",
       "          1.20280000e+02,   1.40160000e+02,   1.60040000e+02,\n",
       "          1.79920000e+02,   1.99800000e+02,   2.19680000e+02,\n",
       "          2.39560000e+02,   2.59440000e+02,   2.79320000e+02,\n",
       "          2.99200000e+02,   3.19080000e+02,   3.38960000e+02,\n",
       "          3.58840000e+02,   3.78720000e+02,   3.98600000e+02,\n",
       "          4.18480000e+02,   4.38360000e+02,   4.58240000e+02,\n",
       "          4.78120000e+02,   4.98000000e+02,   5.17880000e+02,\n",
       "          5.37760000e+02,   5.57640000e+02,   5.77520000e+02,\n",
       "          5.97400000e+02,   6.17280000e+02,   6.37160000e+02,\n",
       "          6.57040000e+02,   6.76920000e+02,   6.96800000e+02,\n",
       "          7.16680000e+02,   7.36560000e+02,   7.56440000e+02,\n",
       "          7.76320000e+02,   7.96200000e+02,   8.16080000e+02,\n",
       "          8.35960000e+02,   8.55840000e+02,   8.75720000e+02,\n",
       "          8.95600000e+02,   9.15480000e+02,   9.35360000e+02,\n",
       "          9.55240000e+02,   9.75120000e+02,   9.95000000e+02,\n",
       "          1.01488000e+03,   1.03476000e+03,   1.05464000e+03,\n",
       "          1.07452000e+03,   1.09440000e+03,   1.11428000e+03,\n",
       "          1.13416000e+03,   1.15404000e+03,   1.17392000e+03,\n",
       "          1.19380000e+03,   1.21368000e+03,   1.23356000e+03,\n",
       "          1.25344000e+03,   1.27332000e+03,   1.29320000e+03,\n",
       "          1.31308000e+03,   1.33296000e+03,   1.35284000e+03,\n",
       "          1.37272000e+03,   1.39260000e+03,   1.41248000e+03,\n",
       "          1.43236000e+03,   1.45224000e+03,   1.47212000e+03,\n",
       "          1.49200000e+03,   1.51188000e+03,   1.53176000e+03,\n",
       "          1.55164000e+03,   1.57152000e+03,   1.59140000e+03,\n",
       "          1.61128000e+03,   1.63116000e+03,   1.65104000e+03,\n",
       "          1.67092000e+03,   1.69080000e+03,   1.71068000e+03,\n",
       "          1.73056000e+03,   1.75044000e+03,   1.77032000e+03,\n",
       "          1.79020000e+03,   1.81008000e+03,   1.82996000e+03,\n",
       "          1.84984000e+03,   1.86972000e+03,   1.88960000e+03,\n",
       "          1.90948000e+03,   1.92936000e+03,   1.94924000e+03,\n",
       "          1.96912000e+03,   1.98900000e+03]),\n",
       " <a list of 100 Patch objects>)"
      ]
     },
     "execution_count": 42,
     "metadata": {},
     "output_type": "execute_result"
    },
    {
     "data": {
      "image/png": "[encoded data removed]",
      "text/plain": [
       "<matplotlib.figure.Figure at 0x7f3fcc7df780>"
      ]
     },
     "metadata": {},
     "output_type": "display_data"
    }
   ],
   "source": [
    "connected_component_sizes = frames['partition_element'] \\\n",
    "    .merge(frames['partition'], left_on='partition_id', right_index=True) \\\n",
    "    .merge(algos, left_on='partition_id', right_on='partition_id') \\\n",
    "    [['size', 'algorithm_x', 'connected_components']].iloc[0]['connected_components']\n",
    "    \n",
    "plt.hist(pd.Series(connected_component_sizes), log=True, bins=100) "
   ]
  }
 ],
 "metadata": {
  "anaconda-cloud": {},
  "kernelspec": {
   "display_name": "Python [default]",
   "language": "python",
   "name": "python3"
  },
  "language_info": {
   "codemirror_mode": {
    "name": "ipython",
    "version": 3
   },
   "file_extension": ".py",
   "mimetype": "text/x-python",
   "name": "python",
   "nbconvert_exporter": "python",
   "pygments_lexer": "ipython3",
   "version": "3.5.2"
  }
 },
 "nbformat": 4,
 "nbformat_minor": 1
}
