{
 "cells": [
  {
   "cell_type": "code",
   "execution_count": 11,
   "metadata": {
    "collapsed": true
   },
   "outputs": [],
   "source": [
    "%matplotlib inline\n",
    "\n",
    "import pandas as pd\n",
    "import numpy as np\n",
    "import matplotlib.pyplot as plt\n",
    "\n",
    "import json\n",
    "import glob\n",
    "import os"
   ]
  },
  {
   "cell_type": "code",
   "execution_count": 20,
   "metadata": {
    "collapsed": false
   },
   "outputs": [],
   "source": [
    "data = {}\n",
    "\n",
    "for path in glob.glob(os.path.expanduser(\"/home/eagle/dev/ma_thesis_code/prototypes/louvain/build/report_2017-01-31_1_at_e8bcc016dc933c4d9c08289fb29365172c9b10ad.json\")):\n",
    "  for typename, items in json.load(open(path)).items():\n",
    "    if typename in data:\n",
    "      data[typename].update(items)\n",
    "    else:\n",
    "      data[typename] = items\n",
    "\n",
    "frames = { typename: pd.DataFrame.from_dict(items, orient='index') for typename, items in data.items() }"
   ]
  },
  {
   "cell_type": "code",
   "execution_count": 21,
   "metadata": {
    "collapsed": false,
    "scrolled": true
   },
   "outputs": [
    {
     "data": {
      "text/plain": [
       "85372.5"
      ]
     },
     "execution_count": 21,
     "metadata": {},
     "output_type": "execute_result"
    }
   ],
   "source": [
    "frames['algorithm_level'] \\\n",
    "    .loc[lambda x: x.level == 0] \\\n",
    "    .merge(frames['algorithm_run'], left_on='algorithm_run_id', right_index=True) \\\n",
    "    .merge(frames['program_run'].loc[lambda x: x.graph.str.contains(\"in-\")], left_on='program_run_id', right_index=True) \\\n",
    "    .loc[lambda x: x.algorithm.str.contains(\"sequential\")] \\\n",
    "    ['cluster_count'] \\\n",
    "    .mean()"
   ]
  },
  {
   "cell_type": "code",
   "execution_count": 19,
   "metadata": {
    "collapsed": false,
    "scrolled": true
   },
   "outputs": [
    {
     "data": {
      "text/plain": [
       "algorithm_y                                            size\n",
       "chunk                                                  4        90389\n",
       "                                                       32       94372\n",
       "                                                       128     100073\n",
       "                                                       1024    152027\n",
       "cluster_based                                          4        91767\n",
       "                                                       32       96380\n",
       "                                                       128     101522\n",
       "                                                       1024    152256\n",
       "deterministic_greedy_with_linear_penalty               4       223086\n",
       "                                                       32      466928\n",
       "                                                       128     634552\n",
       "                                                       1024    776921\n",
       "random                                                 4        91773\n",
       "                                                       32       95267\n",
       "                                                       128     100122\n",
       "                                                       1024    152023\n",
       "random_order_deterministic_greedy_with_linear_penalty  4       337291\n",
       "                                                       32      529036\n",
       "                                                       128     663960\n",
       "                                                       1024    774128\n",
       "Name: cluster_count, dtype: int64"
      ]
     },
     "execution_count": 19,
     "metadata": {},
     "output_type": "execute_result"
    }
   ],
   "source": [
    "frames['algorithm_level'] \\\n",
    "    .loc[lambda x: x.level == 0] \\\n",
    "    .merge(frames['algorithm_run'], left_on='algorithm_run_id', right_index=True) \\\n",
    "    .merge(frames['program_run'].loc[lambda x: x.graph.str.contains(\"in-\")], left_on='program_run_id', right_index=True) \\\n",
    "    .merge(frames['partition'], left_on='partition_id', right_index=True) \\\n",
    "    .loc[lambda x: x.algorithm_x.str.contains(\"partitioned\")] \\\n",
    "    .groupby(['algorithm_y', 'size'])['cluster_count'].mean()"
   ]
  },
  {
   "cell_type": "code",
   "execution_count": null,
   "metadata": {
    "collapsed": false
   },
   "outputs": [],
   "source": [
    "frames['program_run'].loc[lambda x: x.graph.str.contains(\"in-\")]['node_count']"
   ]
  }
 ],
 "metadata": {
  "anaconda-cloud": {},
  "kernelspec": {
   "display_name": "Python [default]",
   "language": "python",
   "name": "python3"
  },
  "language_info": {
   "codemirror_mode": {
    "name": "ipython",
    "version": 3
   },
   "file_extension": ".py",
   "mimetype": "text/x-python",
   "name": "python",
   "nbconvert_exporter": "python",
   "pygments_lexer": "ipython3",
   "version": "3.5.2"
  }
 },
 "nbformat": 4,
 "nbformat_minor": 1
}
