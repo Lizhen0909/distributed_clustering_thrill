{
 "cells": [
  {
   "cell_type": "code",
   "execution_count": 1,
   "metadata": {
    "collapsed": true
   },
   "outputs": [],
   "source": [
    "%matplotlib inline\n",
    "\n",
    "import pandas as pd\n",
    "import numpy as np\n",
    "import matplotlib.pyplot as plt\n",
    "\n",
    "import json\n",
    "import glob\n",
    "import os"
   ]
  },
  {
   "cell_type": "code",
   "execution_count": 2,
   "metadata": {
    "collapsed": false
   },
   "outputs": [],
   "source": [
    "data = {}\n",
    "\n",
    "for path in glob.glob(os.path.expanduser(\"~/results/*.json\")):\n",
    "  for typename, items in json.load(open(path)).items():\n",
    "    if typename in data:\n",
    "      data[typename].update(items)\n",
    "    else:\n",
    "      data[typename] = items\n",
    "\n",
    "frames = { typename: pd.DataFrame.from_dict(items, orient='index') for typename, items in data.items() }"
   ]
  },
  {
   "cell_type": "code",
   "execution_count": 15,
   "metadata": {
    "collapsed": false
   },
   "outputs": [
    {
     "data": {
      "text/plain": [
       "470fe0c6-04df-41d0-8e25-b3870debcec8    ../../../data/uk-2002.metis.graph\n",
       "6d57ebf9-04c1-414b-874c-8d4395065410    ../../../data/uk-2002.metis.graph\n",
       "b067797e-5170-475c-a334-6c616ef84fba    ../../../data/uk-2002.metis.graph\n",
       "b89c9c40-8726-4289-80e8-4aede2eed85e    ../../../data/uk-2002.metis.graph\n",
       "Name: graph, dtype: object"
      ]
     },
     "execution_count": 15,
     "metadata": {},
     "output_type": "execute_result"
    }
   ],
   "source": [
    "frames['program_run'][frames['algorithm_run'].groupby('program_run_id').size() < 42]['graph']\n"
   ]
  },
  {
   "cell_type": "code",
   "execution_count": 19,
   "metadata": {
    "collapsed": false,
    "scrolled": true
   },
   "outputs": [
    {
     "data": {
      "text/plain": [
       "85513.875"
      ]
     },
     "execution_count": 19,
     "metadata": {},
     "output_type": "execute_result"
    }
   ],
   "source": [
    "frames['algorithm_level'] \\\n",
    "    .loc[lambda x: x.level == 0] \\\n",
    "    .merge(frames['algorithm_run'], left_on='algorithm_run_id', right_index=True) \\\n",
    "    .merge(frames['program_run'].loc[lambda x: x.graph.str.contains(\"in-\")], left_on='program_run_id', right_index=True) \\\n",
    "    .loc[lambda x: x.algorithm.str.contains(\"sequential\")] \\\n",
    "    ['cluster_count'] \\\n",
    "    .mean()"
   ]
  },
  {
   "cell_type": "code",
   "execution_count": 45,
   "metadata": {
    "collapsed": false,
    "scrolled": true
   },
   "outputs": [
    {
     "data": {
      "text/plain": [
       "algorithm_y                                            size  allow_move_to_ghosts\n",
       "chunk                                                  4     False                     90117\n",
       "                                                             True                      91540\n",
       "                                                       32    False                     96746\n",
       "                                                             True                      95151\n",
       "                                                       128   False                    107418\n",
       "                                                             True                     100265\n",
       "                                                       1024  False                    198608\n",
       "                                                             True                     151895\n",
       "cluster_based                                          4     False                     86100\n",
       "                                                             True                      86462\n",
       "                                                       32    False                     90596\n",
       "                                                             True                      90067\n",
       "                                                       128   False                    105590\n",
       "                                                             True                     100120\n",
       "                                                       1024  False                    198335\n",
       "                                                             True                     150683\n",
       "deterministic_greedy_with_linear_penalty               4     False                    216474\n",
       "                                                             True                     184834\n",
       "                                                       32    False                    279174\n",
       "                                                             True                     269924\n",
       "                                                       128   False                    307876\n",
       "                                                             True                     316360\n",
       "                                                       1024  False                    385910\n",
       "                                                             True                     411183\n",
       "random                                                 4     False                    531492\n",
       "                                                             True                     487405\n",
       "                                                       32    False                   1117752\n",
       "                                                             True                    1065883\n",
       "                                                       128   False                   1295648\n",
       "                                                             True                    1243436\n",
       "                                                       1024  False                   1370093\n",
       "                                                             True                    1348501\n",
       "random_order_deterministic_greedy_with_linear_penalty  4     False                    274613\n",
       "                                                             True                     229155\n",
       "                                                       32    False                    370941\n",
       "                                                             True                     335180\n",
       "                                                       128   False                    409921\n",
       "                                                             True                     393478\n",
       "                                                       1024  False                    508355\n",
       "                                                             True                     505702\n",
       "Name: cluster_count, dtype: int64"
      ]
     },
     "execution_count": 45,
     "metadata": {},
     "output_type": "execute_result"
    }
   ],
   "source": [
    "frames['algorithm_level'] \\\n",
    "    .loc[lambda x: x.level == 0] \\\n",
    "    .merge(frames['algorithm_run'], left_on='algorithm_run_id', right_index=True) \\\n",
    "    .merge(frames['program_run'].loc[lambda x: x.graph.str.contains(\"in-\")], left_on='program_run_id', right_index=True) \\\n",
    "    .merge(frames['partition'], left_on='partition_id', right_index=True) \\\n",
    "    .loc[lambda x: x.algorithm_x.str.contains(\"partitioned\")] \\\n",
    "    .groupby(['algorithm_y', 'size', 'allow_move_to_ghosts'])['cluster_count'].mean()"
   ]
  },
  {
   "cell_type": "code",
   "execution_count": 48,
   "metadata": {
    "collapsed": false
   },
   "outputs": [
    {
     "data": {
      "text/plain": [
       "size  algorithm_x                                          \n",
       "4     chunk                                                      2464.375000\n",
       "      cluster_based                                               424.937500\n",
       "      deterministic_greedy_with_linear_penalty                  45805.937500\n",
       "      random                                                   273058.437500\n",
       "      random_order_deterministic_greedy_with_linear_penalty     86861.312500\n",
       "32    chunk                                                       550.179688\n",
       "      cluster_based                                               211.562500\n",
       "      deterministic_greedy_with_linear_penalty                   7916.148438\n",
       "      random                                                    42184.695312\n",
       "      random_order_deterministic_greedy_with_linear_penalty     14536.632812\n",
       "128   chunk                                                       249.732422\n",
       "      cluster_based                                               232.957031\n",
       "      deterministic_greedy_with_linear_penalty                   2274.783203\n",
       "      random                                                    10738.699219\n",
       "      random_order_deterministic_greedy_with_linear_penalty      4260.556641\n",
       "1024  chunk                                                       125.845459\n",
       "      cluster_based                                               122.417236\n",
       "      deterministic_greedy_with_linear_penalty                    367.818359\n",
       "      random                                                     1349.416504\n",
       "      random_order_deterministic_greedy_with_linear_penalty       693.307373\n",
       "Name: nodes_in_ghost_clusters, dtype: float64"
      ]
     },
     "execution_count": 48,
     "metadata": {},
     "output_type": "execute_result"
    }
   ],
   "source": [
    "graphs = frames['program_run'].loc[lambda x: x.graph.str.contains(\"in-\")]\n",
    "algos = frames['algorithm_run'].merge(graphs, left_on='program_run_id', right_index=True)\n",
    "frames['partition_element'] \\\n",
    "    .merge(frames['partition'], left_on='partition_id', right_index=True) \\\n",
    "    .merge(algos, left_on='partition_id', right_on='partition_id') \\\n",
    "    .groupby(['size', 'algorithm_x'])['nodes_in_ghost_clusters'].mean()"
   ]
  },
  {
   "cell_type": "code",
   "execution_count": 63,
   "metadata": {
    "collapsed": false
   },
   "outputs": [
    {
     "data": {
      "text/plain": [
       "0    [3, 1, 11, 1, 3, 2, 2, 1, 3, 2, 2, 1, 1, 1, 1,...\n",
       "Name: connected_components, dtype: object"
      ]
     },
     "execution_count": 63,
     "metadata": {},
     "output_type": "execute_result"
    }
   ],
   "source": [
    "graphs = frames['program_run'].loc[lambda x: x.graph.str.contains(\"in-\")]\n",
    "algos = frames['algorithm_run'].merge(graphs, left_on='program_run_id', right_index=True)\n",
    "frames['partition_element'] \\\n",
    "    .merge(frames['partition'], left_on='partition_id', right_index=True) \\\n",
    "    .merge(algos, left_on='partition_id', right_on='partition_id') \\\n",
    "    [['size', 'algorithm_x', 'connected_components']][:1]['connected_components']"
   ]
  }
 ],
 "metadata": {
  "anaconda-cloud": {},
  "kernelspec": {
   "display_name": "Python [default]",
   "language": "python",
   "name": "python3"
  },
  "language_info": {
   "codemirror_mode": {
    "name": "ipython",
    "version": 3
   },
   "file_extension": ".py",
   "mimetype": "text/x-python",
   "name": "python",
   "nbconvert_exporter": "python",
   "pygments_lexer": "ipython3",
   "version": "3.5.2"
  }
 },
 "nbformat": 4,
 "nbformat_minor": 1
}
