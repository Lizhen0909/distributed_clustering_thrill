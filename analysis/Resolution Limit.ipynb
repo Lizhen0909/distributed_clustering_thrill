{
 "cells": [
  {
   "cell_type": "code",
   "execution_count": 49,
   "metadata": {
    "collapsed": false
   },
   "outputs": [],
   "source": [
    "import networkit\n",
    "clique_size = 3\n",
    "clique_count = 16\n",
    "G = networkit.Graph(clique_size * clique_count)\n",
    "\n",
    "for clique in range(0, clique_count):\n",
    "    G.addEdge(clique * clique_size, ((clique + 1) * clique_size) % G.numberOfNodes())\n",
    "    for x in range(clique * clique_size, (clique + 1) * clique_size):\n",
    "        for y in range(clique * clique_size, (clique + 1) * clique_size):\n",
    "            if x != y:\n",
    "                G.addEdge(x, y)\n",
    "                \n",
    "p1 = networkit.Partition(G.numberOfNodes())\n",
    "p1.allToSingletons()\n",
    "\n",
    "for node in range(0, G.numberOfNodes()):\n",
    "    p1[node] = node / clique_size\n",
    "    \n",
    "p2 = networkit.Partition(G.numberOfNodes())\n",
    "p2.allToSingletons()\n",
    "\n",
    "for node in range(0, G.numberOfNodes()):\n",
    "    p2[node] = node / (clique_size * 2)"
   ]
  },
  {
   "cell_type": "code",
   "execution_count": 50,
   "metadata": {
    "collapsed": false
   },
   "outputs": [
    {
     "data": {
      "text/plain": [
       "0.7946428571428571"
      ]
     },
     "execution_count": 50,
     "metadata": {},
     "output_type": "execute_result"
    }
   ],
   "source": [
    "networkit.community.Modularity().getQuality(p1, G)"
   ]
  },
  {
   "cell_type": "code",
   "execution_count": 51,
   "metadata": {
    "collapsed": false
   },
   "outputs": [
    {
     "data": {
      "text/plain": [
       "0.8035714285714286"
      ]
     },
     "execution_count": 51,
     "metadata": {},
     "output_type": "execute_result"
    }
   ],
   "source": [
    "networkit.community.Modularity().getQuality(p2, G)"
   ]
  },
  {
   "cell_type": "code",
   "execution_count": null,
   "metadata": {
    "collapsed": true
   },
   "outputs": [],
   "source": []
  }
 ],
 "metadata": {
  "anaconda-cloud": {},
  "kernelspec": {
   "display_name": "Python [default]",
   "language": "python",
   "name": "python3"
  },
  "language_info": {
   "codemirror_mode": {
    "name": "ipython",
    "version": 3
   },
   "file_extension": ".py",
   "mimetype": "text/x-python",
   "name": "python",
   "nbconvert_exporter": "python",
   "pygments_lexer": "ipython3",
   "version": "3.5.2"
  }
 },
 "nbformat": 4,
 "nbformat_minor": 1
}
