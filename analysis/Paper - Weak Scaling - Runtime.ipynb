{
 "cells": [
  {
   "cell_type": "code",
   "execution_count": 1,
   "metadata": {
    "collapsed": true
   },
   "outputs": [],
   "source": [
    "import numpy as np\n",
    "import matplotlib as mpl\n",
    "%matplotlib inline\n",
    "\n",
    "import pandas as pd\n",
    "\n",
    "import json\n",
    "import glob\n",
    "import os"
   ]
  },
  {
   "cell_type": "code",
   "execution_count": 2,
   "metadata": {
    "collapsed": true
   },
   "outputs": [],
   "source": [
    "def plot_and_save(df, name, kind='line', xlabel=None, ylabel=None, **kwargs):\n",
    "    ax = df.plot(kind=kind, **kwargs)\n",
    "    \n",
    "    if xlabel != None:\n",
    "        ax.set_xlabel(xlabel)\n",
    "    if ylabel != None:\n",
    "        ax.set_ylabel(ylabel)\n",
    "    \n",
    "    ax.legend().set_visible(False)\n",
    "    mpl.pyplot.savefig(\"../../dist-thrill-cluster/plots/\" + name + \"_no_legend.png\", dpi=300)\n",
    "    ax.legend().set_visible(True)\n",
    "    mpl.pyplot.savefig(\"../../dist-thrill-cluster/plots/\" + name + \".png\", dpi=300)\n",
    "    \n",
    "    df.to_csv(\"../../dist-thrill-cluster/plots/\" + name + \".csv\")"
   ]
  },
  {
   "cell_type": "code",
   "execution_count": 3,
   "metadata": {
    "collapsed": true
   },
   "outputs": [],
   "source": [
    "data = {}\n",
    "\n",
    "for path in glob.glob(os.path.expanduser(\"/amd.home/home/i11/zeitz/ma/data/results/paper/weak_scaling2/*.json\")):\n",
    "  for typename, items in json.load(open(path)).items():\n",
    "    if typename in data:\n",
    "      data[typename].update(items)\n",
    "    else:\n",
    "      data[typename] = items\n",
    "\n",
    "frames = { typename: pd.DataFrame.from_dict(items, orient='index') for typename, items in data.items() }"
   ]
  },
  {
   "cell_type": "code",
   "execution_count": 4,
   "metadata": {
    "collapsed": true
   },
   "outputs": [],
   "source": [
    "dlslm_label = 'Distr. Modularity'\n",
    "dlslm_me_label = 'Distr. MapEq'\n",
    "seq_postfix = ' w. Seq.'\n",
    "no_contraction_postfix = ' w/o Contraction'\n",
    "dlslm_ws_label = dlslm_label + seq_postfix\n",
    "dlslm_nc_label = dlslm_label + no_contraction_postfix\n",
    "\n",
    "algo_name_mapping = {\n",
    "    'synchronous local moving with map equation': dlslm_me_label,\n",
    "    'synchronous local moving with modularity': dlslm_label\n",
    "}\n",
    "\n",
    "frames['algorithm_run'].replace({ 'algorithm': algo_name_mapping }, inplace=True)\n",
    "\n",
    "frames['algorithm_run']['algorithm'] += frames['algorithm_run'].merge(frames['program_run'], left_on='program_run_id', right_index=True, how='left')['switch_to_seq'].map({ False: '', True: seq_postfix, np.NaN: '' })\n",
    "frames['algorithm_run']['algorithm'] += frames['algorithm_run'].merge(frames['program_run'], left_on='program_run_id', right_index=True, how='left')['contraction'].map({ False: no_contraction_postfix, True: '', np.NaN: '' })"
   ]
  },
  {
   "cell_type": "code",
   "execution_count": 5,
   "metadata": {
    "collapsed": true
   },
   "outputs": [],
   "source": [
    "frames['algorithm_run']['runtime'] = (frames['algorithm_run']['done_ts'] - frames['algorithm_run']['start_ts']) / 1000000.0\n",
    "distributed_algo_runs = frames['algorithm_run'][pd.isnull(frames['algorithm_run'].distributed_algorithm_run_id)]"
   ]
  },
  {
   "cell_type": "code",
   "execution_count": 6,
   "metadata": {},
   "outputs": [
    {
     "data": {
      "image/png": "[encoded data removed]",
      "text/plain": [
       "<matplotlib.figure.Figure at 0x7f253b5b6f60>"
      ]
     },
     "metadata": {},
     "output_type": "display_data"
    }
   ],
   "source": [
    "df = distributed_algo_runs \\\n",
    "    .merge(frames['program_run'], left_on='program_run_id', right_index=True) \\\n",
    "    .groupby(['hosts', 'algorithm'])['runtime'].mean().to_frame().unstack() \\\n",
    "    [\"runtime\"][[dlslm_label, dlslm_nc_label, dlslm_me_label]]\n",
    "\n",
    "plot_and_save(df, \"weak_scaling_runtime\", kind='bar', ylabel=\"runtime [s]\", xlabel=\"hosts / graph size factor\")"
   ]
  }
 ],
 "metadata": {
  "kernelspec": {
   "display_name": "Python 3",
   "language": "python",
   "name": "python3"
  },
  "language_info": {
   "codemirror_mode": {
    "name": "ipython",
    "version": 3
   },
   "file_extension": ".py",
   "mimetype": "text/x-python",
   "name": "python",
   "nbconvert_exporter": "python",
   "pygments_lexer": "ipython3",
   "version": "3.6.2"
  }
 },
 "nbformat": 4,
 "nbformat_minor": 2
}
