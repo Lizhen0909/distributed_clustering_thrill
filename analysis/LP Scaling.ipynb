{
 "cells": [
  {
   "cell_type": "code",
   "execution_count": 13,
   "metadata": {},
   "outputs": [
    {
     "name": "stderr",
     "output_type": "stream",
     "text": [
      "/home/eagle/opt/anaconda3/lib/python3.5/site-packages/matplotlib/__init__.py:1405: UserWarning: \n",
      "This call to matplotlib.use() has no effect because the backend has already\n",
      "been chosen; matplotlib.use() must be called *before* pylab, matplotlib.pyplot,\n",
      "or matplotlib.backends is imported for the first time.\n",
      "\n",
      "  warnings.warn(_use_error_msg)\n"
     ]
    }
   ],
   "source": [
    "import numpy as np\n",
    "import matplotlib as mpl\n",
    "mpl.use('pgf')\n",
    "\n",
    "def textwidth_to_inch(scale):\n",
    "    fig_width_pt = 427.3153                         # Get this from LaTeX using \\the\\textwidth\n",
    "    inches_per_pt = 1.0/72.27                       # Convert pt to inch\n",
    "    return fig_width_pt*inches_per_pt*scale         # width in inches\n",
    "\n",
    "def figsize(scale):\n",
    "    golden_mean = (np.sqrt(5.0)-1.0)/2.0            # Aesthetic ratio (you could change this)\n",
    "    fig_width = textwidth_to_inch(scale)\n",
    "    fig_height = fig_width*golden_mean              # height in inches\n",
    "    fig_size = [fig_width,fig_height]\n",
    "    return fig_size\n",
    "\n",
    "pgf_with_latex = {                      # setup matplotlib to use latex for output\n",
    "    \"pgf.texsystem\": \"pdflatex\",        # change this if using xetex or lautex\n",
    "    \"text.usetex\": True,                # use LaTeX to write all text\n",
    "    \"font.family\": \"serif\",\n",
    "    \"font.serif\": [],                   # blank entries should cause plots to inherit fonts from the document\n",
    "    \"font.sans-serif\": [],\n",
    "    \"font.monospace\": [],\n",
    "    \"axes.labelsize\": 10,               # LaTeX default is 10pt font.\n",
    "    \"font.size\": 10,\n",
    "    \"legend.fontsize\": 8,               # Make the legend/label fonts a little smaller\n",
    "    \"xtick.labelsize\": 8,\n",
    "    \"ytick.labelsize\": 8,\n",
    "    \"figure.figsize\": figsize(0.9),     # default fig size of 0.9 textwidth\n",
    "    \"pgf.preamble\": [\n",
    "        r\"\\usepackage[utf8x]{inputenc}\",    # use utf8 fonts becasue your computer can handle it :)\n",
    "        r\"\\usepackage[T1]{fontenc}\",        # plots will be generated using this preamble\n",
    "        ]\n",
    "    }\n",
    "mpl.rcParams.update(pgf_with_latex)\n",
    "\n",
    "import matplotlib.pyplot as plt\n",
    "\n",
    "# I make my own newfig and savefig functions\n",
    "def newfig(width):\n",
    "    plt.clf()\n",
    "    fig = plt.figure(figsize=figsize(width))\n",
    "    ax = fig.add_subplot(111)\n",
    "    return fig, ax\n",
    "\n",
    "def savefig(filename):\n",
    "    plt.savefig('../../text/figures/plots/{}.pgf'.format(filename), bbox_inches='tight')\n",
    "    plt.savefig('../../text/figures/plots/{}.pdf'.format(filename), bbox_inches='tight')\n",
    "\n",
    "%matplotlib inline\n",
    "\n",
    "import pandas as pd\n",
    "\n",
    "import json\n",
    "import glob\n",
    "import os\n",
    "\n",
    "from math import log"
   ]
  },
  {
   "cell_type": "code",
   "execution_count": 2,
   "metadata": {
    "collapsed": true
   },
   "outputs": [],
   "source": [
    "data = {}\n",
    "\n",
    "for path in glob.glob(os.path.expanduser(\"~/dev/ma/data/results/lp_scaling/*.json\")):\n",
    "  for typename, items in json.load(open(path)).items():\n",
    "    if typename in data:\n",
    "      data[typename].update(items)\n",
    "    else:\n",
    "      data[typename] = items\n",
    "\n",
    "frames = { typename: pd.DataFrame.from_dict(items, orient='index') for typename, items in data.items() }"
   ]
  },
  {
   "cell_type": "code",
   "execution_count": 3,
   "metadata": {},
   "outputs": [],
   "source": [
    "frames['program_run']['worker_label'] = frames['program_run']['hosts'].map(str) + 'x' + frames['program_run']['workers_per_host'].map(str)"
   ]
  },
  {
   "cell_type": "code",
   "execution_count": 4,
   "metadata": {},
   "outputs": [
    {
     "data": {
      "text/plain": [
       "<matplotlib.text.Text at 0x7f184edf6518>"
      ]
     },
     "execution_count": 4,
     "metadata": {},
     "output_type": "execute_result"
    },
    {
     "data": {
      "image/png": "[encoded data removed]",
      "text/plain": [
       "<matplotlib.figure.Figure at 0x7f187805ebe0>"
      ]
     },
     "metadata": {},
     "output_type": "display_data"
    }
   ],
   "source": [
    "ax = frames['program_run'] \\\n",
    "    .loc[lambda x: x.node_count == 1000000] \\\n",
    "    .sort_values(by='total_workers') \\\n",
    "    .plot.bar(x='worker_label', y='runtime', legend=False)\n",
    "    \n",
    "ax.set_ylabel(\"runtime [s]\")\n",
    "ax.set_xlabel(\"hosts x threads\")"
   ]
  },
  {
   "cell_type": "code",
   "execution_count": 5,
   "metadata": {},
   "outputs": [
    {
     "data": {
      "text/plain": [
       "<matplotlib.text.Text at 0x7f184c90cf98>"
      ]
     },
     "execution_count": 5,
     "metadata": {},
     "output_type": "execute_result"
    },
    {
     "data": {
      "image/png": "[encoded data removed]",
      "text/plain": [
       "<matplotlib.figure.Figure at 0x7f187805e518>"
      ]
     },
     "metadata": {},
     "output_type": "display_data"
    }
   ],
   "source": [
    "plot_data = frames['program_run'] \\\n",
    "    .loc[lambda x: x.node_count == 1000000] \\\n",
    "    .sort_values(by='total_workers')\n",
    "    \n",
    "plot_data['speedup'] = plot_data['runtime'].iloc[0] / plot_data['runtime']\n",
    "    \n",
    "ax = plot_data.plot.bar(x='worker_label', y='speedup', legend=False)\n",
    "    \n",
    "ax.set_ylabel(\"speedup\")\n",
    "ax.set_xlabel(\"hosts x threads\")"
   ]
  },
  {
   "cell_type": "code",
   "execution_count": 12,
   "metadata": {},
   "outputs": [
    {
     "data": {
      "text/plain": [
       "<matplotlib.text.Text at 0x7f184c386a58>"
      ]
     },
     "execution_count": 12,
     "metadata": {},
     "output_type": "execute_result"
    },
    {
     "data": {
      "image/png": "[encoded data removed]",
      "text/plain": [
       "<matplotlib.figure.Figure at 0x7f184c30eb38>"
      ]
     },
     "metadata": {},
     "output_type": "display_data"
    }
   ],
   "source": [
    "ax = frames['program_run'] \\\n",
    "    .loc[lambda x: x.node_count == 10000000] \\\n",
    "    .sort_values(by='total_workers') \\\n",
    "    .plot.bar(x='worker_label', y='runtime', legend=False)\n",
    "    \n",
    "ax.set_ylabel(\"runtime [s]\")\n",
    "ax.set_xlabel(\"hosts x threads\")"
   ]
  },
  {
   "cell_type": "code",
   "execution_count": 8,
   "metadata": {},
   "outputs": [
    {
     "data": {
      "text/plain": [
       "<matplotlib.text.Text at 0x7f184c5594a8>"
      ]
     },
     "execution_count": 8,
     "metadata": {},
     "output_type": "execute_result"
    },
    {
     "data": {
      "image/png": "[encoded data removed]",
      "text/plain": [
       "<matplotlib.figure.Figure at 0x7f184c83c3c8>"
      ]
     },
     "metadata": {},
     "output_type": "display_data"
    }
   ],
   "source": [
    "plot_data = frames['program_run'] \\\n",
    "    .loc[lambda x: x.node_count == 10000000] \\\n",
    "    .sort_values(by='total_workers')\n",
    "    \n",
    "plot_data['speedup'] = plot_data['runtime'].iloc[0] / plot_data['runtime']\n",
    "    \n",
    "ax = plot_data.plot.bar(x='worker_label', y='speedup', legend=False)\n",
    "    \n",
    "ax.set_ylabel(\"speedup\")\n",
    "ax.set_xlabel(\"hosts x threads\")"
   ]
  },
  {
   "cell_type": "code",
   "execution_count": 11,
   "metadata": {},
   "outputs": [
    {
     "data": {
      "text/plain": [
       "<matplotlib.text.Text at 0x7f184c420e48>"
      ]
     },
     "execution_count": 11,
     "metadata": {},
     "output_type": "execute_result"
    },
    {
     "data": {
      "image/png": "[encoded data removed]",
      "text/plain": [
       "<matplotlib.figure.Figure at 0x7f184c3f2518>"
      ]
     },
     "metadata": {},
     "output_type": "display_data"
    }
   ],
   "source": [
    "ax = frames['program_run'] \\\n",
    "    .loc[lambda x: x.node_count == 100000000] \\\n",
    "    .sort_values(by='total_workers') \\\n",
    "    .plot.bar(x='worker_label', y='runtime', legend=False)\n",
    "    \n",
    "ax.set_ylabel(\"runtime [s]\")\n",
    "ax.set_xlabel(\"hosts x threads\")"
   ]
  },
  {
   "cell_type": "code",
   "execution_count": 10,
   "metadata": {},
   "outputs": [
    {
     "data": {
      "text/plain": [
       "<matplotlib.text.Text at 0x7f184c40df28>"
      ]
     },
     "execution_count": 10,
     "metadata": {},
     "output_type": "execute_result"
    },
    {
     "data": {
      "image/png": "[encoded data removed]",
      "text/plain": [
       "<matplotlib.figure.Figure at 0x7f184c400518>"
      ]
     },
     "metadata": {},
     "output_type": "display_data"
    }
   ],
   "source": [
    "plot_data = frames['program_run'] \\\n",
    "    .loc[lambda x: x.node_count == 100000000] \\\n",
    "    .sort_values(by='total_workers')\n",
    "    \n",
    "plot_data['speedup'] = plot_data['runtime'].iloc[0] / plot_data['runtime']\n",
    "    \n",
    "ax = plot_data.plot.bar(x='worker_label', y='speedup', legend=False)\n",
    "    \n",
    "ax.set_ylabel(\"speedup\")\n",
    "ax.set_xlabel(\"hosts x threads\")"
   ]
  },
  {
   "cell_type": "code",
   "execution_count": 87,
   "metadata": {},
   "outputs": [
    {
     "data": {
      "text/plain": [
       "<matplotlib.axes._subplots.AxesSubplot at 0x11a55b630>"
      ]
     },
     "execution_count": 87,
     "metadata": {},
     "output_type": "execute_result"
    },
    {
     "data": {
      "image/png": "[encoded data removed]",
      "text/plain": [
       "<matplotlib.figure.Figure at 0x11a3c1630>"
      ]
     },
     "metadata": {},
     "output_type": "display_data"
    }
   ],
   "source": [
    "tmp = frames['program_run'] \\\n",
    "    .loc[lambda x: x.workers_per_host == 16] \\\n",
    "    .sort_values(by='node_count')\n",
    "    \n",
    "tmp = tmp[tmp.apply(lambda x: int(log(x['node_count'] / 1000000, 10)) == int(log(x['hosts'], 2)) / 2, axis=1)]\n",
    "\n",
    "tmp.plot.bar(x='node_count', y='runtime', log=True)"
   ]
  },
  {
   "cell_type": "code",
   "execution_count": 49,
   "metadata": {},
   "outputs": [
    {
     "data": {
      "text/html": [
       "<div>\n",
       "<table border=\"1\" class=\"dataframe\">\n",
       "  <thead>\n",
       "    <tr style=\"text-align: right;\">\n",
       "      <th>worker_label</th>\n",
       "      <th>16x1</th>\n",
       "      <th>16x16</th>\n",
       "      <th>16x27</th>\n",
       "      <th>16x4</th>\n",
       "      <th>1x1</th>\n",
       "      <th>1x16</th>\n",
       "      <th>1x27</th>\n",
       "      <th>1x4</th>\n",
       "      <th>2x1</th>\n",
       "      <th>2x16</th>\n",
       "      <th>2x27</th>\n",
       "      <th>2x4</th>\n",
       "      <th>4x1</th>\n",
       "      <th>4x16</th>\n",
       "      <th>4x27</th>\n",
       "      <th>4x4</th>\n",
       "      <th>8x1</th>\n",
       "      <th>8x16</th>\n",
       "      <th>8x27</th>\n",
       "      <th>8x4</th>\n",
       "    </tr>\n",
       "    <tr>\n",
       "      <th>graph</th>\n",
       "      <th></th>\n",
       "      <th></th>\n",
       "      <th></th>\n",
       "      <th></th>\n",
       "      <th></th>\n",
       "      <th></th>\n",
       "      <th></th>\n",
       "      <th></th>\n",
       "      <th></th>\n",
       "      <th></th>\n",
       "      <th></th>\n",
       "      <th></th>\n",
       "      <th></th>\n",
       "      <th></th>\n",
       "      <th></th>\n",
       "      <th></th>\n",
       "      <th></th>\n",
       "      <th></th>\n",
       "      <th></th>\n",
       "      <th></th>\n",
       "    </tr>\n",
       "  </thead>\n",
       "  <tbody>\n",
       "    <tr>\n",
       "      <th>/home/kit/iti/kp0036/graphs/mu-04/graph_50_10000_mu_0.4_1000000-preprocessed-*.bin</th>\n",
       "      <td>NaN</td>\n",
       "      <td>NaN</td>\n",
       "      <td>NaN</td>\n",
       "      <td>NaN</td>\n",
       "      <td>279.148186</td>\n",
       "      <td>23.398281</td>\n",
       "      <td>16.332117</td>\n",
       "      <td>102.334275</td>\n",
       "      <td>172.047172</td>\n",
       "      <td>35.999904</td>\n",
       "      <td>68.558221</td>\n",
       "      <td>48.847658</td>\n",
       "      <td>NaN</td>\n",
       "      <td>NaN</td>\n",
       "      <td>NaN</td>\n",
       "      <td>NaN</td>\n",
       "      <td>NaN</td>\n",
       "      <td>NaN</td>\n",
       "      <td>NaN</td>\n",
       "      <td>NaN</td>\n",
       "    </tr>\n",
       "    <tr>\n",
       "      <th>/home/kit/iti/kp0036/graphs/mu-04/graph_50_10000_mu_0.4_10000000-preprocessed-*.bin</th>\n",
       "      <td>NaN</td>\n",
       "      <td>NaN</td>\n",
       "      <td>NaN</td>\n",
       "      <td>NaN</td>\n",
       "      <td>NaN</td>\n",
       "      <td>NaN</td>\n",
       "      <td>NaN</td>\n",
       "      <td>NaN</td>\n",
       "      <td>1854.450354</td>\n",
       "      <td>191.847318</td>\n",
       "      <td>168.191331</td>\n",
       "      <td>516.737337</td>\n",
       "      <td>1012.113526</td>\n",
       "      <td>124.109318</td>\n",
       "      <td>NaN</td>\n",
       "      <td>276.466337</td>\n",
       "      <td>491.410053</td>\n",
       "      <td>75.633823</td>\n",
       "      <td>NaN</td>\n",
       "      <td>137.884423</td>\n",
       "    </tr>\n",
       "    <tr>\n",
       "      <th>/home/kit/iti/kp0036/graphs/mu-04/graph_50_10000_mu_0.4_100000000-preprocessed-*.bin</th>\n",
       "      <td>2618.313254</td>\n",
       "      <td>314.738288</td>\n",
       "      <td>995.498393</td>\n",
       "      <td>769.812139</td>\n",
       "      <td>NaN</td>\n",
       "      <td>NaN</td>\n",
       "      <td>NaN</td>\n",
       "      <td>NaN</td>\n",
       "      <td>NaN</td>\n",
       "      <td>NaN</td>\n",
       "      <td>NaN</td>\n",
       "      <td>NaN</td>\n",
       "      <td>NaN</td>\n",
       "      <td>NaN</td>\n",
       "      <td>NaN</td>\n",
       "      <td>NaN</td>\n",
       "      <td>6656.282128</td>\n",
       "      <td>2213.329716</td>\n",
       "      <td>2712.852347</td>\n",
       "      <td>2543.904597</td>\n",
       "    </tr>\n",
       "  </tbody>\n",
       "</table>\n",
       "</div>"
      ],
      "text/plain": [
       "worker_label                                               16x1       16x16  \\\n",
       "graph                                                                         \n",
       "/home/kit/iti/kp0036/graphs/mu-04/graph_50_1000...          NaN         NaN   \n",
       "/home/kit/iti/kp0036/graphs/mu-04/graph_50_1000...          NaN         NaN   \n",
       "/home/kit/iti/kp0036/graphs/mu-04/graph_50_1000...  2618.313254  314.738288   \n",
       "\n",
       "worker_label                                             16x27        16x4  \\\n",
       "graph                                                                        \n",
       "/home/kit/iti/kp0036/graphs/mu-04/graph_50_1000...         NaN         NaN   \n",
       "/home/kit/iti/kp0036/graphs/mu-04/graph_50_1000...         NaN         NaN   \n",
       "/home/kit/iti/kp0036/graphs/mu-04/graph_50_1000...  995.498393  769.812139   \n",
       "\n",
       "worker_label                                               1x1       1x16  \\\n",
       "graph                                                                       \n",
       "/home/kit/iti/kp0036/graphs/mu-04/graph_50_1000...  279.148186  23.398281   \n",
       "/home/kit/iti/kp0036/graphs/mu-04/graph_50_1000...         NaN        NaN   \n",
       "/home/kit/iti/kp0036/graphs/mu-04/graph_50_1000...         NaN        NaN   \n",
       "\n",
       "worker_label                                             1x27         1x4  \\\n",
       "graph                                                                       \n",
       "/home/kit/iti/kp0036/graphs/mu-04/graph_50_1000...  16.332117  102.334275   \n",
       "/home/kit/iti/kp0036/graphs/mu-04/graph_50_1000...        NaN         NaN   \n",
       "/home/kit/iti/kp0036/graphs/mu-04/graph_50_1000...        NaN         NaN   \n",
       "\n",
       "worker_label                                                2x1        2x16  \\\n",
       "graph                                                                         \n",
       "/home/kit/iti/kp0036/graphs/mu-04/graph_50_1000...   172.047172   35.999904   \n",
       "/home/kit/iti/kp0036/graphs/mu-04/graph_50_1000...  1854.450354  191.847318   \n",
       "/home/kit/iti/kp0036/graphs/mu-04/graph_50_1000...          NaN         NaN   \n",
       "\n",
       "worker_label                                              2x27         2x4  \\\n",
       "graph                                                                        \n",
       "/home/kit/iti/kp0036/graphs/mu-04/graph_50_1000...   68.558221   48.847658   \n",
       "/home/kit/iti/kp0036/graphs/mu-04/graph_50_1000...  168.191331  516.737337   \n",
       "/home/kit/iti/kp0036/graphs/mu-04/graph_50_1000...         NaN         NaN   \n",
       "\n",
       "worker_label                                                4x1        4x16  \\\n",
       "graph                                                                         \n",
       "/home/kit/iti/kp0036/graphs/mu-04/graph_50_1000...          NaN         NaN   \n",
       "/home/kit/iti/kp0036/graphs/mu-04/graph_50_1000...  1012.113526  124.109318   \n",
       "/home/kit/iti/kp0036/graphs/mu-04/graph_50_1000...          NaN         NaN   \n",
       "\n",
       "worker_label                                        4x27         4x4  \\\n",
       "graph                                                                  \n",
       "/home/kit/iti/kp0036/graphs/mu-04/graph_50_1000...   NaN         NaN   \n",
       "/home/kit/iti/kp0036/graphs/mu-04/graph_50_1000...   NaN  276.466337   \n",
       "/home/kit/iti/kp0036/graphs/mu-04/graph_50_1000...   NaN         NaN   \n",
       "\n",
       "worker_label                                                8x1         8x16  \\\n",
       "graph                                                                          \n",
       "/home/kit/iti/kp0036/graphs/mu-04/graph_50_1000...          NaN          NaN   \n",
       "/home/kit/iti/kp0036/graphs/mu-04/graph_50_1000...   491.410053    75.633823   \n",
       "/home/kit/iti/kp0036/graphs/mu-04/graph_50_1000...  6656.282128  2213.329716   \n",
       "\n",
       "worker_label                                               8x27          8x4  \n",
       "graph                                                                         \n",
       "/home/kit/iti/kp0036/graphs/mu-04/graph_50_1000...          NaN          NaN  \n",
       "/home/kit/iti/kp0036/graphs/mu-04/graph_50_1000...          NaN   137.884423  \n",
       "/home/kit/iti/kp0036/graphs/mu-04/graph_50_1000...  2712.852347  2543.904597  "
      ]
     },
     "execution_count": 49,
     "metadata": {},
     "output_type": "execute_result"
    }
   ],
   "source": [
    "frames['program_run'] \\\n",
    "    .sort_values(by='total_workers') \\\n",
    "    .groupby(['graph', 'worker_label'])['runtime'].mean().unstack('worker_label')"
   ]
  },
  {
   "cell_type": "code",
   "execution_count": 41,
   "metadata": {},
   "outputs": [
    {
     "data": {
      "image/png": "[encoded data removed]",
      "text/plain": [
       "<matplotlib.figure.Figure at 0x7f184b9e6908>"
      ]
     },
     "metadata": {},
     "output_type": "display_data"
    }
   ],
   "source": [
    "fig, axes = plt.subplots(3, 2, figsize=(textwidth_to_inch(1), textwidth_to_inch(1)));\n",
    "plt.subplots_adjust(wspace=0.3, hspace=0.7);\n",
    "\n",
    "pad = 5\n",
    "\n",
    "for i, node_count in [(0, 1000000), (1, 10000000), (2, 100000000)]:\n",
    "    label = \"LFR {}M\".format(int(node_count / 1000000))\n",
    "    \n",
    "    plot_data = frames['program_run'] \\\n",
    "        .loc[lambda x: x.node_count == node_count] \\\n",
    "        .sort_values(by='total_workers')\n",
    "    plot_data['speedup'] = plot_data['runtime'].iloc[0] / plot_data['runtime']\n",
    "    \n",
    "    plot_data.plot.bar(x='worker_label', y='runtime', legend=False, ax=axes[i][0])\n",
    "    axes[i][0].set_ylabel(\"runtime [s]\")\n",
    "    axes[i][0].set_xlabel(\"hosts x threads\")\n",
    "    \n",
    "    plot_data.plot.bar(x='worker_label', y='speedup', legend=False, ax=axes[i][1], color='C1')\n",
    "    axes[i][1].set_ylabel(\"speedup\")\n",
    "    axes[i][1].set_xlabel(\"hosts x threads\")\n",
    "    \n",
    "    axes[i][0].annotate(label, xy=(0, 0.5), xytext=(-axes[i][0].yaxis.labelpad - pad, 0),\n",
    "                xycoords=axes[i][0].yaxis.label, textcoords='offset points',\n",
    "                ha='right', va='center', rotation=90)\n",
    "    \n",
    "savefig(\"lp_scaling\")"
   ]
  }
 ],
 "metadata": {
  "anaconda-cloud": {},
  "kernelspec": {
   "display_name": "Python [default]",
   "language": "python",
   "name": "python3"
  },
  "language_info": {
   "codemirror_mode": {
    "name": "ipython",
    "version": 3
   },
   "file_extension": ".py",
   "mimetype": "text/x-python",
   "name": "python",
   "nbconvert_exporter": "python",
   "pygments_lexer": "ipython3",
   "version": "3.5.3"
  }
 },
 "nbformat": 4,
 "nbformat_minor": 1
}
