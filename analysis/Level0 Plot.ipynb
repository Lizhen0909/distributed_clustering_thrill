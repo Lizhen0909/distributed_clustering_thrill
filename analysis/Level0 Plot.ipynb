{
 "cells": [
  {
   "cell_type": "code",
   "execution_count": 1,
   "metadata": {},
   "outputs": [],
   "source": [
    "import numpy as np\n",
    "import matplotlib as mpl\n",
    "mpl.use('pgf')\n",
    "\n",
    "def figsize(scale):\n",
    "    fig_width_pt = 427.3153                         # Get this from LaTeX using \\the\\textwidth\n",
    "    inches_per_pt = 1.0/72.27                       # Convert pt to inch\n",
    "    golden_mean = (np.sqrt(5.0)-1.0)/2.0            # Aesthetic ratio (you could change this)\n",
    "    fig_width = fig_width_pt*inches_per_pt*scale    # width in inches\n",
    "    fig_height = fig_width*golden_mean              # height in inches\n",
    "    fig_size = [fig_width,fig_height]\n",
    "    return fig_size\n",
    "\n",
    "pgf_with_latex = {                      # setup matplotlib to use latex for output\n",
    "    \"pgf.texsystem\": \"pdflatex\",        # change this if using xetex or lautex\n",
    "    \"text.usetex\": True,                # use LaTeX to write all text\n",
    "    \"font.family\": \"serif\",\n",
    "    \"font.serif\": [],                   # blank entries should cause plots to inherit fonts from the document\n",
    "    \"font.sans-serif\": [],\n",
    "    \"font.monospace\": [],\n",
    "    \"axes.labelsize\": 10,               # LaTeX default is 10pt font.\n",
    "    \"font.size\": 10,\n",
    "    \"legend.fontsize\": 8,               # Make the legend/label fonts a little smaller\n",
    "    \"xtick.labelsize\": 8,\n",
    "    \"ytick.labelsize\": 8,\n",
    "    \"figure.figsize\": figsize(0.9),     # default fig size of 0.9 textwidth\n",
    "    \"pgf.preamble\": [\n",
    "        r\"\\usepackage[utf8x]{inputenc}\",    # use utf8 fonts becasue your computer can handle it :)\n",
    "        r\"\\usepackage[T1]{fontenc}\",        # plots will be generated using this preamble\n",
    "        ]\n",
    "    }\n",
    "mpl.rcParams.update(pgf_with_latex)\n",
    "\n",
    "import matplotlib.pyplot as plt\n",
    "\n",
    "# I make my own newfig and savefig functions\n",
    "def newfig(width):\n",
    "    plt.clf()\n",
    "    fig = plt.figure(figsize=figsize(width))\n",
    "    ax = fig.add_subplot(111)\n",
    "    return fig, ax\n",
    "\n",
    "def savefig(filename):\n",
    "    plt.savefig('../../text/figures/plots/{}.pgf'.format(filename), bbox_inches='tight')\n",
    "    plt.savefig('../../text/figures/plots/{}.pdf'.format(filename), bbox_inches='tight')\n",
    "\n",
    "%matplotlib inline\n",
    "\n",
    "import pandas as pd\n",
    "\n",
    "import json\n",
    "import glob\n",
    "import os"
   ]
  },
  {
   "cell_type": "code",
   "execution_count": 2,
   "metadata": {},
   "outputs": [],
   "source": [
    "data = {}\n",
    "\n",
    "for path in glob.glob(os.path.expanduser(\"~/dev/ma/data/results/level0cluster/*.json\")):\n",
    "  for typename, items in json.load(open(path)).items():\n",
    "    if typename in data:\n",
    "      data[typename].update(items)\n",
    "    else:\n",
    "      data[typename] = items\n",
    "\n",
    "frames = { typename: pd.DataFrame.from_dict(items, orient='index') for typename, items in data.items() }"
   ]
  },
  {
   "cell_type": "code",
   "execution_count": 3,
   "metadata": {
    "collapsed": true
   },
   "outputs": [],
   "source": [
    "frames['program_run']['order'] = frames['program_run']['graph'].map(lambda x: 'shuffled' if \"uk-2002.metis-preprocessed\" in x else 'original')\n",
    "\n",
    "partitions = frames['partition']\n",
    "partitions['algorithm'] = frames['partition'] \\\n",
    "    .merge(frames['program_run'], how='left', left_on='program_run_id', right_index=True) \\\n",
    "    .apply(lambda x: x.binary if x.algorithm == 'external' else x.algorithm, axis=1)\n",
    "    \n",
    "partitions.replace({ 'algorithm': { 'deterministic_greedy_with_linear_penalty': 'streaming', 'label_prop_partitioning': 'label propagation' } }, inplace=True)\n",
    "    \n",
    "graphs = frames['program_run'].loc[lambda x: x.binary == './louvain'] # .loc[lambda x: x.graph.str.contains(\"uk-2002.metis-preprocessed\")]\n",
    "algos = frames['algorithm_run'].merge(graphs, left_on='program_run_id', right_index=True)"
   ]
  },
  {
   "cell_type": "code",
   "execution_count": 4,
   "metadata": {},
   "outputs": [
    {
     "data": {
      "image/png": "[encoded data removed]",
      "text/plain": [
       "<matplotlib.figure.Figure at 0x7f43cb7f1ef0>"
      ]
     },
     "metadata": {},
     "output_type": "display_data"
    }
   ],
   "source": [
    "seq_cluster_count = frames['algorithm_level'] \\\n",
    "    .loc[lambda x: x.level == 0] \\\n",
    "    .merge(frames['algorithm_run'], left_on='algorithm_run_id', right_index=True) \\\n",
    "    .merge(graphs, left_on='program_run_id', right_index=True) \\\n",
    "    .loc[lambda x: x.algorithm.str.contains(\"sequential\")] \\\n",
    "    ['cluster_count'] \\\n",
    "    .mean()\n",
    "node_count = frames['program_run']['node_count'].iloc[0]\n",
    "\n",
    "groups = frames['algorithm_level'] \\\n",
    "    .loc[lambda x: x.level == 0] \\\n",
    "    .merge(frames['algorithm_run'], left_on='algorithm_run_id', right_index=True) \\\n",
    "    .merge(graphs, left_on='program_run_id', right_index=True) \\\n",
    "    .merge(partitions, left_on='partition_id', right_index=True) \\\n",
    "    .loc[lambda x: x.algorithm_x.str.contains(\"partitioned\")] \\\n",
    "    .loc[lambda x: x.allow_move_to_ghosts] \\\n",
    "    .groupby(['order', 'algorithm_y'], as_index=False)\n",
    "\n",
    "#    .loc[lambda x: ~x.algorithm_y.isin([\"deterministic_greedy_with_linear_penalty\"])] \\\n",
    "\n",
    "plot = pd.DataFrame({(order + ', ' + algo): levels.groupby('size')['cluster_count'].mean() for (order, algo), levels in groups}).plot.bar(figsize=figsize(1.1), rot=0)\n",
    "plot.set_ylabel(\"nodes in first meta graph $|V'|$\")\n",
    "plot.set_xlabel(\"partition size $k$\")\n",
    "plt.axhline(seq_cluster_count, color='k', linestyle='dashed', linewidth=1)\n",
    "plt.axhline(node_count, color='k', linestyle='dashed', linewidth=1)\n",
    "\n",
    "plt.text(-0.67, node_count - 250000, '$n$')\n",
    "plt.text(-0.9, seq_cluster_count - 250000, \"$|V'_{seq}|$\")\n",
    "plt.setp(plot.get_yticklabels()[0], visible=False)\n",
    "savefig('level0cluster')"
   ]
  }
 ],
 "metadata": {
  "anaconda-cloud": {},
  "kernelspec": {
   "display_name": "Python [default]",
   "language": "python",
   "name": "python3"
  },
  "language_info": {
   "codemirror_mode": {
    "name": "ipython",
    "version": 3
   },
   "file_extension": ".py",
   "mimetype": "text/x-python",
   "name": "python",
   "nbconvert_exporter": "python",
   "pygments_lexer": "ipython3",
   "version": "3.5.3"
  }
 },
 "nbformat": 4,
 "nbformat_minor": 2
}
