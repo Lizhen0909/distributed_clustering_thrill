{
 "cells": [
  {
   "cell_type": "code",
   "execution_count": 1,
   "metadata": {
    "collapsed": true
   },
   "outputs": [],
   "source": [
    "import numpy as np\n",
    "import matplotlib as mpl\n",
    "mpl.use('pgf')\n",
    "\n",
    "def textwidth_to_inch(scale):\n",
    "    fig_width_pt = 427.3153                         # Get this from LaTeX using \\the\\textwidth\n",
    "    inches_per_pt = 1.0/72.27                       # Convert pt to inch\n",
    "    return fig_width_pt*inches_per_pt*scale         # width in inches\n",
    "\n",
    "def figsize(scale):\n",
    "    golden_mean = (np.sqrt(5.0)-1.0)/2.0            # Aesthetic ratio (you could change this)\n",
    "    fig_width = textwidth_to_inch(scale)\n",
    "    fig_height = fig_width*golden_mean              # height in inches\n",
    "    fig_size = [fig_width,fig_height]\n",
    "    return fig_size\n",
    "\n",
    "pgf_with_latex = {                      # setup matplotlib to use latex for output\n",
    "    \"pgf.texsystem\": \"pdflatex\",        # change this if using xetex or lautex\n",
    "    \"text.usetex\": True,                # use LaTeX to write all text\n",
    "    \"font.family\": \"serif\",\n",
    "    \"font.serif\": [],                   # blank entries should cause plots to inherit fonts from the document\n",
    "    \"font.sans-serif\": [],\n",
    "    \"font.monospace\": [],\n",
    "    \"axes.labelsize\": 10,               # LaTeX default is 10pt font.\n",
    "    \"font.size\": 10,\n",
    "    \"legend.fontsize\": 8,               # Make the legend/label fonts a little smaller\n",
    "    \"xtick.labelsize\": 8,\n",
    "    \"ytick.labelsize\": 8,\n",
    "    \"figure.figsize\": figsize(0.9),     # default fig size of 0.9 textwidth\n",
    "    \"pgf.preamble\": [\n",
    "        r\"\\usepackage[utf8x]{inputenc}\",    # use utf8 fonts becasue your computer can handle it :)\n",
    "        r\"\\usepackage[T1]{fontenc}\",        # plots will be generated using this preamble\n",
    "        ]\n",
    "    }\n",
    "mpl.rcParams.update(pgf_with_latex)\n",
    "\n",
    "import matplotlib.pyplot as plt\n",
    "\n",
    "# I make my own newfig and savefig functions\n",
    "def newfig(width):\n",
    "    plt.clf()\n",
    "    fig = plt.figure(figsize=figsize(width))\n",
    "    ax = fig.add_subplot(111)\n",
    "    return fig, ax\n",
    "\n",
    "def savefig(filename):\n",
    "    plt.savefig('../../text/figures/plots/{}.pgf'.format(filename), bbox_inches='tight')\n",
    "    plt.savefig('../../text/figures/plots/{}.pdf'.format(filename), bbox_inches='tight')\n",
    "\n",
    "%matplotlib inline\n",
    "\n",
    "import pandas as pd\n",
    "\n",
    "import json\n",
    "import glob\n",
    "import os\n",
    "\n",
    "from math import log\n",
    "\n",
    "import seaborn as sns\n",
    "sns.set_style(\"whitegrid\")\n",
    "mpl.rcParams.update(pgf_with_latex)"
   ]
  },
  {
   "cell_type": "code",
   "execution_count": 2,
   "metadata": {
    "collapsed": true
   },
   "outputs": [],
   "source": [
    "data = {}\n",
    "\n",
    "for path in glob.glob(os.path.expanduser(\"~/dev/ma/data/results/lp_scaling/*.json\")) + glob.glob(os.path.expanduser(\"~/dev/ma/data/results/dlm_scaling/*.json\")) + glob.glob(os.path.expanduser(\"~/dev/ma/data/results/plm_scaling/*.json\")) + glob.glob(os.path.expanduser(\"~/dev/ma/data/results/plm_scaling_missing/*.json\")):\n",
    "  for typename, items in json.load(open(path)).items():\n",
    "    if typename in data:\n",
    "      data[typename].update(items)\n",
    "    else:\n",
    "      data[typename] = items\n",
    "\n",
    "frames = { typename: pd.DataFrame.from_dict(items, orient='index') for typename, items in data.items() }"
   ]
  },
  {
   "cell_type": "code",
   "execution_count": 3,
   "metadata": {
    "collapsed": true
   },
   "outputs": [],
   "source": [
    "frames['program_run']['worker_label'] = frames['program_run']['hosts'].map(str) + 'x' + frames['program_run']['workers_per_host'].map(str)"
   ]
  },
  {
   "cell_type": "code",
   "execution_count": 4,
   "metadata": {
    "collapsed": true
   },
   "outputs": [],
   "source": [
    "progs = {\n",
    "    '/home/kit/iti/kp0036/code/prototypes/thrill_louvain/release/node_based_local_moving': 'DLSLM',\n",
    "    '/home/kit/iti/kp0036/code/prototypes/thrill_louvain/release/label_prop': 'LP',\n",
    "    '/home/kit/iti/kp0036/code/prototypes/thrill_louvain/release/partitioned_louvain': 'DLPLM'\n",
    "}\n",
    "\n",
    "frames['program_run'].replace({ 'binary': progs }, inplace=True)"
   ]
  },
  {
   "cell_type": "code",
   "execution_count": 5,
   "metadata": {},
   "outputs": [
    {
     "data": {
      "image/png": "[encoded data removed]",
      "text/plain": [
       "<matplotlib.figure.Figure at 0x7f44795eb278>"
      ]
     },
     "metadata": {},
     "output_type": "display_data"
    },
    {
     "data": {
      "image/png": "[encoded data removed]",
      "text/plain": [
       "<matplotlib.figure.Figure at 0x7f44770c3400>"
      ]
     },
     "metadata": {},
     "output_type": "display_data"
    }
   ],
   "source": [
    "runtimes = pd.DataFrame()\n",
    "efficiencies = pd.DataFrame()\n",
    "\n",
    "for i, algo in [(0, 'DLSLM'), (1, 'LP'), (2, 'DLPLM')]:\n",
    "    label = algo\n",
    "    if algo == 'LP':\n",
    "        plot_data = frames['program_run'] \\\n",
    "            .loc[lambda x: x.binary == algo] \\\n",
    "            .loc[lambda x: x.node_count == 10000000] \\\n",
    "            .loc[lambda x: x.workers_per_host != 27] \\\n",
    "            .sort_values(by='total_workers') \\\n",
    "            .set_index('worker_label')\n",
    "    else:\n",
    "        plot_data = frames['algorithm_run'] \\\n",
    "            .merge(frames['program_run'].drop('runtime', 1), left_on='program_run_id', right_index=True, how='right') \\\n",
    "            .loc[lambda x: x.binary == algo] \\\n",
    "            .loc[lambda x: x.node_count == 10000000] \\\n",
    "            .loc[lambda x: x.workers_per_host != 27] \\\n",
    "            .groupby('worker_label')[['runtime', 'total_workers']].mean() \\\n",
    "            .sort_values(by='total_workers')\n",
    "        \n",
    "    plot_data['speedup'] = plot_data['runtime'].dropna().iloc[0] / plot_data['runtime']\n",
    "    plot_data['efficiency'] = plot_data['total_workers'].dropna().iloc[0] * plot_data['speedup'] / plot_data['total_workers']\n",
    "    \n",
    "    runtimes[algo] = plot_data['runtime']\n",
    "    efficiencies[algo] = plot_data['efficiency']\n",
    "    \n",
    "ax = runtimes.plot.bar()\n",
    "ax.set_xlabel('')\n",
    "ax.set_ylabel('runtime [s]')\n",
    "savefig('pres_scaling_runtime')\n",
    "\n",
    "ax = efficiencies.plot.bar()\n",
    "ax.set_xlabel('')\n",
    "ax.set_ylabel('relative efficiency')\n",
    "savefig('pres_scaling_eff')"
   ]
  },
  {
   "cell_type": "code",
   "execution_count": 6,
   "metadata": {},
   "outputs": [
    {
     "data": {
      "image/png": "[encoded data removed]",
      "text/plain": [
       "<matplotlib.figure.Figure at 0x7f4476d6eba8>"
      ]
     },
     "metadata": {},
     "output_type": "display_data"
    },
    {
     "data": {
      "image/png": "[encoded data removed]",
      "text/plain": [
       "<matplotlib.figure.Figure at 0x7f4476bb2390>"
      ]
     },
     "metadata": {},
     "output_type": "display_data"
    }
   ],
   "source": [
    "runtimes = pd.DataFrame()\n",
    "efficiencies = pd.DataFrame()\n",
    "\n",
    "for i, algo in [(0, 'DLSLM'), (1, 'LP'), (2, 'DLPLM')]:\n",
    "    label = algo\n",
    "    if algo == 'LP':\n",
    "        plot_data = frames['program_run'] \\\n",
    "            .loc[lambda x: x.binary == algo] \\\n",
    "            .loc[lambda x: x.node_count == 10000000] \\\n",
    "            .loc[lambda x: x.workers_per_host != 27] \\\n",
    "            .sort_values(by='total_workers') \\\n",
    "            .set_index('worker_label')\n",
    "    else:\n",
    "        plot_data = frames['algorithm_run'] \\\n",
    "            .merge(frames['program_run'].drop('runtime', 1), left_on='program_run_id', right_index=True, how='right') \\\n",
    "            .loc[lambda x: x.binary == algo] \\\n",
    "            .loc[lambda x: x.node_count == 10000000] \\\n",
    "            .loc[lambda x: x.workers_per_host != 27] \\\n",
    "            .groupby('worker_label')[['runtime', 'total_workers']].mean() \\\n",
    "            .sort_values(by='total_workers')\n",
    "            \n",
    "    if algo == 'DLPLM':\n",
    "        plot_data.drop('2x1', inplace=True)\n",
    "        \n",
    "    plot_data['speedup'] = plot_data['runtime'].dropna().iloc[0] / plot_data['runtime']\n",
    "    plot_data['efficiency'] = plot_data['total_workers'].dropna().iloc[0] * plot_data['speedup'] / plot_data['total_workers']\n",
    "    \n",
    "    runtimes[algo] = plot_data['runtime']\n",
    "    efficiencies[algo] = plot_data['efficiency']\n",
    "    \n",
    "ax = runtimes.plot.bar()\n",
    "ax.set_xlabel('')\n",
    "ax.set_ylabel('runtime [s]')\n",
    "savefig('pres_scaling_runtime_wo2x1')\n",
    "\n",
    "ax = efficiencies.plot.bar()\n",
    "ax.set_xlabel('')\n",
    "ax.set_ylabel('relative efficiency')\n",
    "savefig('pres_scaling_eff_wo2x1')"
   ]
  }
 ],
 "metadata": {
  "anaconda-cloud": {},
  "kernelspec": {
   "display_name": "Python 3",
   "language": "python",
   "name": "python3"
  },
  "language_info": {
   "codemirror_mode": {
    "name": "ipython",
    "version": 3
   },
   "file_extension": ".py",
   "mimetype": "text/x-python",
   "name": "python",
   "nbconvert_exporter": "python",
   "pygments_lexer": "ipython3",
   "version": "3.6.2"
  }
 },
 "nbformat": 4,
 "nbformat_minor": 1
}
