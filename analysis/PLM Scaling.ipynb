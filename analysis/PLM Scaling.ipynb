{
 "cells": [
  {
   "cell_type": "code",
   "execution_count": 1,
   "metadata": {
    "collapsed": true
   },
   "outputs": [],
   "source": [
    "import numpy as np\n",
    "import matplotlib as mpl\n",
    "mpl.use('pgf')\n",
    "\n",
    "def textwidth_to_inch(scale):\n",
    "    fig_width_pt = 427.3153                         # Get this from LaTeX using \\the\\textwidth\n",
    "    inches_per_pt = 1.0/72.27                       # Convert pt to inch\n",
    "    return fig_width_pt*inches_per_pt*scale         # width in inches\n",
    "\n",
    "def figsize(scale):\n",
    "    golden_mean = (np.sqrt(5.0)-1.0)/2.0            # Aesthetic ratio (you could change this)\n",
    "    fig_width = textwidth_to_inch(scale)\n",
    "    fig_height = fig_width*golden_mean              # height in inches\n",
    "    fig_size = [fig_width,fig_height]\n",
    "    return fig_size\n",
    "\n",
    "pgf_with_latex = {                      # setup matplotlib to use latex for output\n",
    "    \"pgf.texsystem\": \"pdflatex\",        # change this if using xetex or lautex\n",
    "    \"text.usetex\": True,                # use LaTeX to write all text\n",
    "    \"font.family\": \"serif\",\n",
    "    \"font.serif\": [],                   # blank entries should cause plots to inherit fonts from the document\n",
    "    \"font.sans-serif\": [],\n",
    "    \"font.monospace\": [],\n",
    "    \"axes.labelsize\": 10,               # LaTeX default is 10pt font.\n",
    "    \"font.size\": 10,\n",
    "    \"legend.fontsize\": 8,               # Make the legend/label fonts a little smaller\n",
    "    \"xtick.labelsize\": 8,\n",
    "    \"ytick.labelsize\": 8,\n",
    "    \"figure.figsize\": figsize(0.9),     # default fig size of 0.9 textwidth\n",
    "    \"pgf.preamble\": [\n",
    "        r\"\\usepackage[utf8x]{inputenc}\",    # use utf8 fonts becasue your computer can handle it :)\n",
    "        r\"\\usepackage[T1]{fontenc}\",        # plots will be generated using this preamble\n",
    "        ]\n",
    "    }\n",
    "mpl.rcParams.update(pgf_with_latex)\n",
    "\n",
    "import matplotlib.pyplot as plt\n",
    "\n",
    "# I make my own newfig and savefig functions\n",
    "def newfig(width):\n",
    "    plt.clf()\n",
    "    fig = plt.figure(figsize=figsize(width))\n",
    "    ax = fig.add_subplot(111)\n",
    "    return fig, ax\n",
    "\n",
    "def savefig(filename):\n",
    "    plt.savefig('../../text/figures/plots/{}.pgf'.format(filename), bbox_inches='tight')\n",
    "    plt.savefig('../../text/figures/plots/{}.pdf'.format(filename), bbox_inches='tight')\n",
    "\n",
    "%matplotlib inline\n",
    "\n",
    "import pandas as pd\n",
    "\n",
    "import json\n",
    "import glob\n",
    "import os\n",
    "\n",
    "from math import log\n",
    "\n",
    "import seaborn as sns\n",
    "sns.set_style(\"whitegrid\")\n",
    "mpl.rcParams.update(pgf_with_latex)"
   ]
  },
  {
   "cell_type": "code",
   "execution_count": 2,
   "metadata": {
    "collapsed": true
   },
   "outputs": [],
   "source": [
    "data = {}\n",
    "\n",
    "for path in glob.glob(os.path.expanduser(\"~/dev/ma/data/results/plm_scaling/*.json\")):\n",
    "  for typename, items in json.load(open(path)).items():\n",
    "    if typename in data:\n",
    "      data[typename].update(items)\n",
    "    else:\n",
    "      data[typename] = items\n",
    "\n",
    "frames = { typename: pd.DataFrame.from_dict(items, orient='index') for typename, items in data.items() }\n",
    "\n",
    "graph_names = {\n",
    "    '/home/kit/iti/kp0036/graphs/mu-04/graph_50_10000_mu_0.4_100000-sorted-preprocessed-*.bin': 'LFR 100K', \n",
    "    '/home/kit/iti/kp0036/graphs/mu-04/graph_50_10000_mu_0.4_1000000-preprocessed-*.bin': 'LFR 1M', \n",
    "    '/home/kit/iti/kp0036/graphs/mu-04/graph_50_10000_mu_0.4_10000000-preprocessed-*.bin': 'LFR 10M', \n",
    "    '/home/kit/iti/kp0036/graphs/mu-04/graph_50_10000_mu_0.4_100000000-preprocessed-*.bin': 'LFR 100M', \n",
    "    '/home/kit/iti/kp0036/graphs/mu-04/graph_50_10000_mu_0.4_200000000-sorted-preprocessed-*.bin': 'LFR 200M', \n",
    "    '/home/kit/iti/kp0036/graphs/hypercubegraph23-preprocessed-*.bin': 'hypercube', \n",
    "    '/home/kit/iti/kp0036/graphs/uk-2002.metis-preprocessed-*.bin': 'uk-2002', \n",
    "    '/home/kit/iti/kp0036/graphs/uk-2007-05.metis-preprocessed-*.bin': 'uk-2007-05', \n",
    "    '/home/kit/iti/kp0036/graphs/in-2004.metis-preprocessed-*.bin': 'in-2004', \n",
    "    '/home/kit/iti/kp0036/graphs/com-friendster-preprocessed-*.bin': 'com-friendster', \n",
    "    '/home/kit/iti/kp0036/graphs/com-lj.ungraph-preprocessed-*.bin': 'com-lj', \n",
    "    '/home/kit/iti/kp0036/graphs/com-orkut.ungraph-preprocessed-*.bin': 'com-orkut', \n",
    "    '/home/kit/iti/kp0036/graphs/com-youtube.ungraph-preprocessed-*.bin': 'com-youtube', \n",
    "    '/home/kit/iti/kp0036/graphs/com-amazon.ungraph-preprocessed-*.bin': 'com-amazon'\n",
    "}\n",
    "\n",
    "frames['program_run'].replace({ 'graph': graph_names }, inplace=True)"
   ]
  },
  {
   "cell_type": "code",
   "execution_count": 3,
   "metadata": {
    "collapsed": true
   },
   "outputs": [],
   "source": [
    "frames['program_run']['worker_label'] = frames['program_run']['hosts'].map(str) + 'x' + frames['program_run']['workers_per_host'].map(str)"
   ]
  },
  {
   "cell_type": "code",
   "execution_count": 4,
   "metadata": {
    "collapsed": false
   },
   "outputs": [
    {
     "data": {
      "text/plain": [
       "array(['uk-2002', 'LFR 10M', 'com-friendster'], dtype=object)"
      ]
     },
     "execution_count": 4,
     "metadata": {},
     "output_type": "execute_result"
    }
   ],
   "source": [
    "frames['program_run']['graph'].unique()"
   ]
  },
  {
   "cell_type": "code",
   "execution_count": 5,
   "metadata": {
    "collapsed": false
   },
   "outputs": [
    {
     "data": {
      "text/plain": [
       "<matplotlib.text.Text at 0x115a8a358>"
      ]
     },
     "execution_count": 5,
     "metadata": {},
     "output_type": "execute_result"
    },
    {
     "data": {
      "image/png": "[encoded data removed]",
      "text/plain": [
       "<matplotlib.figure.Figure at 0x115a2d4a8>"
      ]
     },
     "metadata": {},
     "output_type": "display_data"
    }
   ],
   "source": [
    "ax = frames['algorithm_run'] \\\n",
    "    .merge(frames['program_run'], left_on='program_run_id', right_index=True) \\\n",
    "    .loc[lambda x: x.node_count == 10000000] \\\n",
    "    .sort_values(by='total_workers') \\\n",
    "    .plot.bar(x='worker_label', y='runtime', legend=False)\n",
    "    \n",
    "ax.set_ylabel(\"runtime [s]\")\n",
    "ax.set_xlabel(\"hosts x threads\")"
   ]
  },
  {
   "cell_type": "code",
   "execution_count": 6,
   "metadata": {
    "collapsed": false
   },
   "outputs": [
    {
     "data": {
      "text/plain": [
       "<matplotlib.text.Text at 0x115cdd908>"
      ]
     },
     "execution_count": 6,
     "metadata": {},
     "output_type": "execute_result"
    },
    {
     "data": {
      "image/png": "[encoded data removed]",
      "text/plain": [
       "<matplotlib.figure.Figure at 0x115c43630>"
      ]
     },
     "metadata": {},
     "output_type": "display_data"
    }
   ],
   "source": [
    "plot_data = frames['algorithm_run'] \\\n",
    "    .merge(frames['program_run'], left_on='program_run_id', right_index=True) \\\n",
    "    .loc[lambda x: x.node_count == 10000000] \\\n",
    "    .sort_values(by='total_workers')\n",
    "    \n",
    "plot_data['speedup'] = plot_data['runtime'].iloc[0] / plot_data['runtime']\n",
    "    \n",
    "ax = plot_data.plot.bar(x='worker_label', y='speedup', legend=False)\n",
    "    \n",
    "ax.set_ylabel(\"speedup\")\n",
    "ax.set_xlabel(\"hosts x threads\")"
   ]
  },
  {
   "cell_type": "code",
   "execution_count": 7,
   "metadata": {
    "collapsed": false
   },
   "outputs": [
    {
     "data": {
      "text/plain": [
       "(0.59, 0.605)"
      ]
     },
     "execution_count": 7,
     "metadata": {},
     "output_type": "execute_result"
    },
    {
     "data": {
      "image/png": "[encoded data removed]",
      "text/plain": [
       "<matplotlib.figure.Figure at 0x115aad128>"
      ]
     },
     "metadata": {},
     "output_type": "display_data"
    }
   ],
   "source": [
    "ax = frames['clustering'] \\\n",
    "    .merge(frames['algorithm_run'], left_on='algorithm_run_id', right_index=True) \\\n",
    "    .merge(frames['program_run'], left_on='program_run_id', right_index=True) \\\n",
    "    .loc[lambda x: x.node_count == 10000000] \\\n",
    "    .sort_values(by='total_workers') \\\n",
    "    .plot.bar(x='worker_label', y='modularity', legend=False)\n",
    "    \n",
    "ax.set_ylabel(\"modularity\")\n",
    "ax.set_xlabel(\"hosts x threads\")\n",
    "ax.set_ylim(0.59,0.605)"
   ]
  },
  {
   "cell_type": "code",
   "execution_count": 8,
   "metadata": {
    "collapsed": false
   },
   "outputs": [
    {
     "data": {
      "text/plain": [
       "<matplotlib.text.Text at 0x115f1d5f8>"
      ]
     },
     "execution_count": 8,
     "metadata": {},
     "output_type": "execute_result"
    },
    {
     "data": {
      "image/png": "[encoded data removed]",
      "text/plain": [
       "<matplotlib.figure.Figure at 0x115c39080>"
      ]
     },
     "metadata": {},
     "output_type": "display_data"
    }
   ],
   "source": [
    "ax = frames['algorithm_run'] \\\n",
    "    .merge(frames['program_run'], left_on='program_run_id', right_index=True) \\\n",
    "    .loc[lambda x: x.graph.str.contains('uk-2002')] \\\n",
    "    .sort_values(by='total_workers') \\\n",
    "    .plot.bar(x='worker_label', y='runtime', legend=False)\n",
    "    \n",
    "ax.set_ylabel(\"runtime [s]\")\n",
    "ax.set_xlabel(\"hosts x threads\")"
   ]
  },
  {
   "cell_type": "code",
   "execution_count": 9,
   "metadata": {
    "collapsed": false
   },
   "outputs": [
    {
     "data": {
      "text/plain": [
       "<matplotlib.text.Text at 0x115d9d0b8>"
      ]
     },
     "execution_count": 9,
     "metadata": {},
     "output_type": "execute_result"
    },
    {
     "data": {
      "image/png": "[encoded data removed]",
      "text/plain": [
       "<matplotlib.figure.Figure at 0x115cfb2e8>"
      ]
     },
     "metadata": {},
     "output_type": "display_data"
    }
   ],
   "source": [
    "plot_data = frames['algorithm_run'] \\\n",
    "    .merge(frames['program_run'], left_on='program_run_id', right_index=True) \\\n",
    "    .loc[lambda x: x.graph.str.contains('uk-2002')] \\\n",
    "    .sort_values(by='total_workers')\n",
    "    \n",
    "plot_data['speedup'] = plot_data['runtime'].iloc[0] / plot_data['runtime']\n",
    "    \n",
    "ax = plot_data.plot.bar(x='worker_label', y='speedup', legend=False)\n",
    "    \n",
    "ax.set_ylabel(\"speedup\")\n",
    "ax.set_xlabel(\"hosts x threads\")"
   ]
  },
  {
   "cell_type": "code",
   "execution_count": 10,
   "metadata": {
    "collapsed": false
   },
   "outputs": [
    {
     "data": {
      "text/plain": [
       "(0.987, 0.992)"
      ]
     },
     "execution_count": 10,
     "metadata": {},
     "output_type": "execute_result"
    },
    {
     "data": {
      "image/png": "[encoded data removed]",
      "text/plain": [
       "<matplotlib.figure.Figure at 0x1160ea3c8>"
      ]
     },
     "metadata": {},
     "output_type": "display_data"
    }
   ],
   "source": [
    "ax = frames['clustering'] \\\n",
    "    .merge(frames['algorithm_run'], left_on='algorithm_run_id', right_index=True) \\\n",
    "    .merge(frames['program_run'], left_on='program_run_id', right_index=True) \\\n",
    "    .loc[lambda x: x.graph.str.contains('uk-2002')] \\\n",
    "    .sort_values(by='total_workers') \\\n",
    "    .plot.bar(x='worker_label', y='modularity', legend=False)\n",
    "    \n",
    "ax.set_ylabel(\"modularity\")\n",
    "ax.set_xlabel(\"hosts x threads\")\n",
    "ax.set_ylim(0.987,0.992)"
   ]
  },
  {
   "cell_type": "code",
   "execution_count": 11,
   "metadata": {
    "collapsed": false
   },
   "outputs": [
    {
     "data": {
      "text/plain": [
       "<matplotlib.text.Text at 0x1160adc18>"
      ]
     },
     "execution_count": 11,
     "metadata": {},
     "output_type": "execute_result"
    },
    {
     "data": {
      "image/png": "[encoded data removed]",
      "text/plain": [
       "<matplotlib.figure.Figure at 0x11626af60>"
      ]
     },
     "metadata": {},
     "output_type": "display_data"
    }
   ],
   "source": [
    "ax = frames['algorithm_run'] \\\n",
    "    .merge(frames['program_run'], left_on='program_run_id', right_index=True) \\\n",
    "    .loc[lambda x: x.graph.str.contains('com-friendster')] \\\n",
    "    .sort_values(by='total_workers') \\\n",
    "    .plot.bar(x='worker_label', y='runtime', legend=False)\n",
    "    \n",
    "ax.set_ylabel(\"runtime [s]\")\n",
    "ax.set_xlabel(\"hosts x threads\")"
   ]
  },
  {
   "cell_type": "code",
   "execution_count": 12,
   "metadata": {
    "collapsed": false
   },
   "outputs": [
    {
     "data": {
      "text/plain": [
       "<matplotlib.text.Text at 0x116266a90>"
      ]
     },
     "execution_count": 12,
     "metadata": {},
     "output_type": "execute_result"
    },
    {
     "data": {
      "image/png": "[encoded data removed]",
      "text/plain": [
       "<matplotlib.figure.Figure at 0x116355940>"
      ]
     },
     "metadata": {},
     "output_type": "display_data"
    }
   ],
   "source": [
    "plot_data = frames['algorithm_run'] \\\n",
    "    .merge(frames['program_run'], left_on='program_run_id', right_index=True) \\\n",
    "    .loc[lambda x: x.graph.str.contains('com-friendster')] \\\n",
    "    .sort_values(by='total_workers')\n",
    "    \n",
    "plot_data['speedup'] = plot_data['runtime'].iloc[0] / plot_data['runtime']\n",
    "    \n",
    "ax = plot_data.plot.bar(x='worker_label', y='speedup', legend=False)\n",
    "    \n",
    "ax.set_ylabel(\"speedup\")\n",
    "ax.set_xlabel(\"hosts x threads\")"
   ]
  },
  {
   "cell_type": "code",
   "execution_count": 13,
   "metadata": {
    "collapsed": false
   },
   "outputs": [
    {
     "data": {
      "text/plain": [
       "(0.55, 0.62)"
      ]
     },
     "execution_count": 13,
     "metadata": {},
     "output_type": "execute_result"
    },
    {
     "data": {
      "image/png": "[encoded data removed]",
      "text/plain": [
       "<matplotlib.figure.Figure at 0x115db2d68>"
      ]
     },
     "metadata": {},
     "output_type": "display_data"
    }
   ],
   "source": [
    "ax = frames['clustering'] \\\n",
    "    .merge(frames['algorithm_run'], left_on='algorithm_run_id', right_index=True) \\\n",
    "    .merge(frames['program_run'], left_on='program_run_id', right_index=True) \\\n",
    "    .loc[lambda x: x.graph.str.contains('com-friendster')] \\\n",
    "    .sort_values(by='total_workers') \\\n",
    "    .plot.bar(x='worker_label', y='modularity', legend=False)\n",
    "    \n",
    "ax.set_ylabel(\"modularity\")\n",
    "ax.set_xlabel(\"hosts x threads\")\n",
    "ax.set_ylim(0.55,0.62)"
   ]
  },
  {
   "cell_type": "code",
   "execution_count": 14,
   "metadata": {
    "collapsed": false
   },
   "outputs": [
    {
     "data": {
      "image/png": "[encoded data removed]",
      "text/plain": [
       "<matplotlib.figure.Figure at 0x115cfbb00>"
      ]
     },
     "metadata": {},
     "output_type": "display_data"
    }
   ],
   "source": [
    "fig, axes = plt.subplots(3, 3, figsize=(textwidth_to_inch(1), textwidth_to_inch(1)));\n",
    "plt.subplots_adjust(wspace=0.5, hspace=0.7);\n",
    "pad = 5\n",
    "\n",
    "grouped_by_graph = frames['clustering'] \\\n",
    "    .merge(frames['algorithm_run'], left_on='algorithm_run_id', right_index=True) \\\n",
    "    .merge(frames['program_run'], left_on='program_run_id', right_index=True, how='right') \\\n",
    "    .groupby('graph')\n",
    "\n",
    "mod_limits = { 'LFR 10M': (0.59, 0.605), 'uk-2002': (0.987, 0.992), 'com-friendster': (0.55, 0.62) }\n",
    "    \n",
    "for i, (graph, graph_data) in enumerate(grouped_by_graph):\n",
    "    plot_data = graph_data \\\n",
    "        .groupby('worker_label')[['runtime', 'total_workers', 'modularity']].mean() \\\n",
    "        .sort_values(by='total_workers')\n",
    "    plot_data['speedup'] = plot_data['runtime'].dropna().iloc[0] / plot_data['runtime']\n",
    "    \n",
    "    plot_data.plot.bar(y='runtime', legend=False, ax=axes[i][0])\n",
    "    axes[i][0].set_ylabel(\"runtime [s]\")\n",
    "    axes[i][0].set_xlabel(\"hosts x threads\")\n",
    "    \n",
    "    plot_data.plot.bar(y='speedup', legend=False, ax=axes[i][1], color='C1')\n",
    "    axes[i][1].set_ylabel(\"speedup\")\n",
    "    axes[i][1].set_xlabel(\"hosts x threads\")\n",
    "    \n",
    "    if graph == 'com-friendster':\n",
    "        axes[i][2].get_yaxis().set_major_formatter(mpl.ticker.FuncFormatter(lambda x, p: \"{0:.2f}\".format(x).lstrip('0')))\n",
    "    else:\n",
    "        axes[i][2].get_yaxis().set_major_formatter(mpl.ticker.FuncFormatter(lambda x, p: \"{0:.3f}\".format(x).lstrip('0')))\n",
    "    plot_data.plot.bar(y='modularity', legend=False, ax=axes[i][2], color='C2', ylim=mod_limits[graph])\n",
    "    axes[i][2].set_ylabel(\"modularity\")\n",
    "    axes[i][2].set_xlabel(\"hosts x threads\")\n",
    "    \n",
    "    axes[i][0].annotate(graph, xy=(0, 0.5), xytext=(-axes[i][0].yaxis.labelpad - pad, 0),\n",
    "                xycoords=axes[i][0].yaxis.label, textcoords='offset points',\n",
    "                ha='right', va='center', rotation=90)\n",
    "    \n",
    "savefig(\"plm_scaling\")"
   ]
  }
 ],
 "metadata": {
  "anaconda-cloud": {},
  "kernelspec": {
   "display_name": "Python [default]",
   "language": "python",
   "name": "python3"
  },
  "language_info": {
   "codemirror_mode": {
    "name": "ipython",
    "version": 3
   },
   "file_extension": ".py",
   "mimetype": "text/x-python",
   "name": "python",
   "nbconvert_exporter": "python",
   "pygments_lexer": "ipython3",
   "version": "3.5.2"
  }
 },
 "nbformat": 4,
 "nbformat_minor": 1
}
