{
 "cells": [
  {
   "cell_type": "code",
   "execution_count": 1,
   "metadata": {
    "collapsed": true
   },
   "outputs": [],
   "source": [
    "%matplotlib inline\n",
    "\n",
    "import pandas as pd\n",
    "import numpy as np\n",
    "import matplotlib.pyplot as plt\n",
    "\n",
    "import json\n",
    "import glob\n",
    "import os\n",
    "\n",
    "plt.style.use('ggplot') # Make the graphs a bit prettier"
   ]
  },
  {
   "cell_type": "code",
   "execution_count": 2,
   "metadata": {
    "collapsed": true
   },
   "outputs": [],
   "source": [
    "data = {}\n",
    "\n",
    "for path in glob.glob(os.path.expanduser(\"~/dev/ma/data/results/dlm_all/*.json\")):\n",
    "  for typename, items in json.load(open(path)).items():\n",
    "    if typename in data:\n",
    "      data[typename].update(items)\n",
    "    else:\n",
    "      data[typename] = items\n",
    "\n",
    "frames = { typename: pd.DataFrame.from_dict(items, orient='index') for typename, items in data.items() }\n",
    "\n",
    "graph_names = {\n",
    "    '/home/kit/iti/kp0036/graphs/mu-04/graph_50_10000_mu_0.4_100000-sorted-preprocessed-*.bin': 'LFR 100K', \n",
    "    '/home/kit/iti/kp0036/graphs/mu-04/graph_50_10000_mu_0.4_1000000-preprocessed-*.bin': 'LFR 1M', \n",
    "    '/home/kit/iti/kp0036/graphs/mu-04/graph_50_10000_mu_0.4_10000000-preprocessed-*.bin': 'LFR 10M', \n",
    "    '/home/kit/iti/kp0036/graphs/mu-04/graph_50_10000_mu_0.4_100000000-preprocessed-*.bin': 'LFR 100M', \n",
    "    '/home/kit/iti/kp0036/graphs/mu-04/graph_50_10000_mu_0.4_200000000-sorted-preprocessed-*.bin': 'LFR 200M', \n",
    "    '/home/kit/iti/kp0036/graphs/hypercubegraph23-preprocessed-*.bin': 'hypercube', \n",
    "    '/home/kit/iti/kp0036/graphs/uk-2002.metis-preprocessed-*.bin': 'uk-2002', \n",
    "    '/home/kit/iti/kp0036/graphs/uk-2007-05.metis-preprocessed-*.bin': 'uk-2007-05', \n",
    "    '/home/kit/iti/kp0036/graphs/in-2004.metis-preprocessed-*.bin': 'in-2004', \n",
    "    '/home/kit/iti/kp0036/graphs/com-friendster-preprocessed-*.bin': 'com-friendster', \n",
    "    '/home/kit/iti/kp0036/graphs/com-lj.ungraph-preprocessed-*.bin': 'com-lj', \n",
    "    '/home/kit/iti/kp0036/graphs/com-orkut.ungraph-preprocessed-*.bin': 'com-orkut', \n",
    "    '/home/kit/iti/kp0036/graphs/com-youtube.ungraph-preprocessed-*.bin': 'com-youtube', \n",
    "    '/home/kit/iti/kp0036/graphs/com-amazon.ungraph-preprocessed-*.bin': 'com-amazon'\n",
    "}\n",
    "\n",
    "\n",
    "frames['program_run'].replace({ 'graph': graph_names }, inplace=True)"
   ]
  },
  {
   "cell_type": "code",
   "execution_count": 4,
   "metadata": {},
   "outputs": [
    {
     "name": "stdout",
     "output_type": "stream",
     "text": [
      "<bound method DataFrame.to_latex of                                                graph  node_count   edge_count\n",
      "11bf07d6-67fc-4643-8eb4-18a0b1c3accb          com-lj     3997962     34681189\n",
      "1e98d8ef-d5c2-4a87-aab6-bed35d9e1dac     com-youtube     1134890      2987624\n",
      "22e03866-10bc-4c3f-b4bf-5f5eff44d189      uk-2007-05   105153952   3301876564\n",
      "32e1780c-5bc8-4f77-91db-8fc3486652e9        LFR 200M   200000000  26406659441\n",
      "3d660da2-3126-471f-839d-bfb1ce8422e0  com-friendster    65608366   1806067135\n",
      "4389d20f-4b3f-4c9b-a8a3-3c0c2e84f024       com-orkut     3072441    117185083\n",
      "5a3037be-0f8b-4bcf-82ce-57056f3dd45c        LFR 100M   100000000  13203573605\n",
      "628ea33e-c749-4d81-8581-7e44d4f813c2         in-2004     1382867     13591473\n",
      "68c3e479-4ad5-4c2f-9058-1909c01fa0b1       hypercube     8388608     96468992\n",
      "918a8b8d-8131-4f81-b6ad-090dbba0c17e        LFR 100K      100000     13215438\n",
      "b2e2f17b-03e9-46b0-a334-88a52c7d0d1b         uk-2002    18483186    261787258\n",
      "b541c841-50ac-4974-8a14-84805bb1566a         LFR 10M    10000000   1320354525\n",
      "ee1cb45e-19e1-4173-b99e-7311ff066774      com-amazon      334863       925872\n",
      "f153e396-f0c1-43f4-b3d2-236bb9485680          LFR 1M     1000000    132018381>\n"
     ]
    }
   ],
   "source": [
    "print(frames['program_run'][['graph', 'node_count', 'edge_count']].to_latex)"
   ]
  },
  {
   "cell_type": "code",
   "execution_count": 4,
   "metadata": {},
   "outputs": [
    {
     "data": {
      "text/plain": [
       "array(['LFR 100K', 'com-amazon', 'LFR 1M', 'com-youtube', 'in-2004',\n",
       "       'com-orkut', 'com-lj', 'hypercube', 'LFR 10M', 'uk-2002',\n",
       "       'com-friendster', 'LFR 100M', 'uk-2007-05', 'LFR 200M'], dtype=object)"
      ]
     },
     "execution_count": 4,
     "metadata": {},
     "output_type": "execute_result"
    }
   ],
   "source": [
    "frames['program_run'].sort_values('node_count')['graph'].unique()"
   ]
  }
 ],
 "metadata": {
  "kernelspec": {
   "display_name": "Python [default]",
   "language": "python",
   "name": "python3"
  },
  "language_info": {
   "codemirror_mode": {
    "name": "ipython",
    "version": 3
   },
   "file_extension": ".py",
   "mimetype": "text/x-python",
   "name": "python",
   "nbconvert_exporter": "python",
   "pygments_lexer": "ipython3",
   "version": "3.5.3"
  }
 },
 "nbformat": 4,
 "nbformat_minor": 2
}
