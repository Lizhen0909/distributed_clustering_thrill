{
 "cells": [
  {
   "cell_type": "code",
   "execution_count": 1,
   "metadata": {},
   "outputs": [
    {
     "data": {
      "text/html": [
       "\n",
       "\t\t\t<script type=\"text/javascript\">\n",
       "\t\t\t<!--\n",
       "\t\t\t\t\n",
       "\t\t\t{\n",
       "\t\t\t\tvar element = document.getElementById('NetworKit_script');\n",
       "\t\t\t\tif (element) {\n",
       "\t\t\t\t\telement.parentNode.removeChild(element);\n",
       "\t\t\t\t}\n",
       "\t\t\t\telement = document.createElement('script');\n",
       "\t\t\t\telement.type = 'text/javascript';\n",
       "\t\t\t\telement.innerHTML = 'function NetworKit_pageEmbed(id) { var i, j; var elements; elements = document.getElementById(id).getElementsByClassName(\"Plot\"); for (i=0; i<elements.length; i++) { elements[i].id = id + \"_Plot_\" + i; var data = elements[i].getAttribute(\"data-image\").split(\"|\"); elements[i].removeAttribute(\"data-image\"); var content = \"<div class=\\\\\"Image\\\\\" id=\\\\\"\" + elements[i].id + \"_Image\\\\\" />\"; elements[i].innerHTML = content; elements[i].setAttribute(\"data-image-index\", 0); elements[i].setAttribute(\"data-image-length\", data.length); for (j=0; j<data.length; j++) { elements[i].setAttribute(\"data-image-\" + j, data[j]); } NetworKit_plotUpdate(elements[i]); elements[i].onclick = function (e) { NetworKit_overlayShow((e.target) ? e.target : e.srcElement); } } elements = document.getElementById(id).getElementsByClassName(\"HeatCell\"); for (i=0; i<elements.length; i++) { var data = parseFloat(elements[i].getAttribute(\"data-heat\")); var color = \"#00FF00\"; if (data <= 1 && data > 0) { color = \"hsla(0, 100%, 75%, \" + (data) + \")\"; } else if (data <= 0 && data >= -1) { color = \"hsla(240, 100%, 75%, \" + (-data) + \")\"; } elements[i].style.backgroundColor = color; } elements = document.getElementById(id).getElementsByClassName(\"Details\"); for (i=0; i<elements.length; i++) { elements[i].setAttribute(\"data-title\", \"-\"); NetworKit_toggleDetails(elements[i]); elements[i].onclick = function (e) { NetworKit_toggleDetails((e.target) ? e.target : e.srcElement); } } elements = document.getElementById(id).getElementsByClassName(\"MathValue\"); for (i=elements.length-1; i>=0; i--) { value = elements[i].innerHTML.trim(); if (value === \"nan\") { elements[i].parentNode.innerHTML = \"\" } } elements = document.getElementById(id).getElementsByClassName(\"SubCategory\"); for (i=elements.length-1; i>=0; i--) { value = elements[i].innerHTML.trim(); if (value === \"\") { elements[i].parentNode.removeChild(elements[i]) } } elements = document.getElementById(id).getElementsByClassName(\"Category\"); for (i=elements.length-1; i>=0; i--) { value = elements[i].innerHTML.trim(); if (value === \"\") { elements[i].parentNode.removeChild(elements[i]) } } var isFirefox = false; try { isFirefox = typeof InstallTrigger !== \"undefined\"; } catch (e) {} if (!isFirefox) { alert(\"Currently the function\\'s output is only fully supported by Firefox.\"); } } function NetworKit_plotUpdate(source) { var index = source.getAttribute(\"data-image-index\"); var data = source.getAttribute(\"data-image-\" + index); var image = document.getElementById(source.id + \"_Image\"); image.style.backgroundImage = \"url(\" + data + \")\"; } function NetworKit_showElement(id, show) { var element = document.getElementById(id); element.style.display = (show) ? \"block\" : \"none\"; } function NetworKit_overlayShow(source) { NetworKit_overlayUpdate(source); NetworKit_showElement(\"NetworKit_Overlay\", true); } function NetworKit_overlayUpdate(source) { document.getElementById(\"NetworKit_Overlay_Title\").innerHTML = source.title; var index = source.getAttribute(\"data-image-index\"); var data = source.getAttribute(\"data-image-\" + index); var image = document.getElementById(\"NetworKit_Overlay_Image\"); image.setAttribute(\"data-id\", source.id); image.style.backgroundImage = \"url(\" + data + \")\"; var link = document.getElementById(\"NetworKit_Overlay_Toolbar_Bottom_Save\"); link.href = data; link.download = source.title + \".svg\"; } function NetworKit_overlayImageShift(delta) { var image = document.getElementById(\"NetworKit_Overlay_Image\"); var source = document.getElementById(image.getAttribute(\"data-id\")); var index = parseInt(source.getAttribute(\"data-image-index\")); var length = parseInt(source.getAttribute(\"data-image-length\")); var index = (index+delta) % length; if (index < 0) { index = length + index; } source.setAttribute(\"data-image-index\", index); NetworKit_overlayUpdate(source); } function NetworKit_toggleDetails(source) { var childs = source.children; var show = false; if (source.getAttribute(\"data-title\") == \"-\") { source.setAttribute(\"data-title\", \"+\"); show = false; } else { source.setAttribute(\"data-title\", \"-\"); show = true; } for (i=0; i<childs.length; i++) { if (show) { childs[i].style.display = \"block\"; } else { childs[i].style.display = \"none\"; } } }';\n",
       "\t\t\t\telement.setAttribute('id', 'NetworKit_script');\n",
       "\t\t\t\tdocument.head.appendChild(element);\n",
       "\t\t\t}\n",
       "\t\t\n",
       "\t\t\t\t\n",
       "\t\t\t{\n",
       "\t\t\t\tvar element = document.getElementById('NetworKit_style');\n",
       "\t\t\t\tif (element) {\n",
       "\t\t\t\t\telement.parentNode.removeChild(element);\n",
       "\t\t\t\t}\n",
       "\t\t\t\telement = document.createElement('style');\n",
       "\t\t\t\telement.type = 'text/css';\n",
       "\t\t\t\telement.innerHTML = '.NetworKit_Page { font-family: Arial, Helvetica, sans-serif; font-size: 14px; } .NetworKit_Page .Value:before { font-family: Arial, Helvetica, sans-serif; font-size: 1.05em; content: attr(data-title) \":\"; margin-left: -2.5em; padding-right: 0.5em; } .NetworKit_Page .Details .Value:before { display: block; } .NetworKit_Page .Value { font-family: monospace; white-space: pre; padding-left: 2.5em; white-space: -moz-pre-wrap !important; white-space: -pre-wrap; white-space: -o-pre-wrap; white-space: pre-wrap; word-wrap: break-word; tab-size: 4; -moz-tab-size: 4; } .NetworKit_Page .Category { clear: both; padding-left: 1em; margin-bottom: 1.5em; } .NetworKit_Page .Category:before { content: attr(data-title); font-size: 1.75em; display: block; margin-left: -0.8em; margin-bottom: 0.5em; } .NetworKit_Page .SubCategory { margin-bottom: 1.5em; padding-left: 1em; } .NetworKit_Page .SubCategory:before { font-size: 1.6em; display: block; margin-left: -0.8em; margin-bottom: 0.5em; } .NetworKit_Page .SubCategory[data-title]:before { content: attr(data-title); } .NetworKit_Page .Block { display: block; } .NetworKit_Page .Block:after { content: \".\"; visibility: hidden; display: block; height: 0; clear: both; } .NetworKit_Page .Block .Thumbnail_Overview, .NetworKit_Page .Block .Thumbnail_ScatterPlot { width: 260px; float: left; } .NetworKit_Page .Block .Thumbnail_Overview img, .NetworKit_Page .Block .Thumbnail_ScatterPlot img { width: 260px; } .NetworKit_Page .Block .Thumbnail_Overview:before, .NetworKit_Page .Block .Thumbnail_ScatterPlot:before { display: block; text-align: center; font-weight: bold; } .NetworKit_Page .Block .Thumbnail_Overview:before { content: attr(data-title); } .NetworKit_Page .HeatCell { font-family: \"Courier New\", Courier, monospace; cursor: pointer; } .NetworKit_Page .HeatCell, .NetworKit_Page .HeatCellName { display: inline; padding: 0.1em; margin-right: 2px; background-color: #FFFFFF } .NetworKit_Page .HeatCellName { margin-left: 0.25em; } .NetworKit_Page .HeatCell:before { content: attr(data-heat); display: inline-block; color: #000000; width: 4em; text-align: center; } .NetworKit_Page .Measure { clear: both; } .NetworKit_Page .Measure .Details { cursor: pointer; } .NetworKit_Page .Measure .Details:before { content: \"[\" attr(data-title) \"]\"; display: block; } .NetworKit_Page .Measure .Details .Value { border-left: 1px dotted black; margin-left: 0.4em; padding-left: 3.5em; pointer-events: none; } .NetworKit_Page .Measure .Details .Spacer:before { content: \".\"; opacity: 0.0; pointer-events: none; } .NetworKit_Page .Measure .Plot { width: 440px; height: 440px; cursor: pointer; float: left; margin-left: -0.9em; margin-right: 20px; } .NetworKit_Page .Measure .Plot .Image { background-repeat: no-repeat; background-position: center center; background-size: contain; height: 100%; pointer-events: none; } .NetworKit_Page .Measure .Stat { width: 500px; float: left; } .NetworKit_Page .Measure .Stat .Group { padding-left: 1.25em; margin-bottom: 0.75em; } .NetworKit_Page .Measure .Stat .Group .Title { font-size: 1.1em; display: block; margin-bottom: 0.3em; margin-left: -0.75em; border-right-style: dotted; border-right-width: 1px; border-bottom-style: dotted; border-bottom-width: 1px; background-color: #D0D0D0; padding-left: 0.2em; } .NetworKit_Page .Measure .Stat .Group .List { -webkit-column-count: 3; -moz-column-count: 3; column-count: 3; } .NetworKit_Page .Measure .Stat .Group .List .Entry { position: relative; line-height: 1.75em; } .NetworKit_Page .Measure .Stat .Group .List .Entry[data-tooltip]:before { position: absolute; left: 0; top: -40px; background-color: #808080; color: #ffffff; height: 30px; line-height: 30px; border-radius: 5px; padding: 0 15px; content: attr(data-tooltip); white-space: nowrap; display: none; } .NetworKit_Page .Measure .Stat .Group .List .Entry[data-tooltip]:after { position: absolute; left: 15px; top: -10px; border-top: 7px solid #808080; border-left: 7px solid transparent; border-right: 7px solid transparent; content: \"\"; display: none; } .NetworKit_Page .Measure .Stat .Group .List .Entry[data-tooltip]:hover:after, .NetworKit_Page .Measure .Stat .Group .List .Entry[data-tooltip]:hover:before { display: block; } .NetworKit_Page .Measure .Stat .Group .List .Entry .MathValue { font-family: \"Courier New\", Courier, monospace; } .NetworKit_Page .Measure:after { content: \".\"; visibility: hidden; display: block; height: 0; clear: both; } .NetworKit_Page .PartitionPie { clear: both; } .NetworKit_Page .PartitionPie img { width: 600px; } #NetworKit_Overlay { left: 0px; top: 0px; display: none; position: absolute; width: 100%; height: 100%; background-color: rgba(0,0,0,0.6); z-index: 1000; } #NetworKit_Overlay_Title { position: absolute; color: white; transform: rotate(-90deg); width: 32em; height: 32em; padding-right: 0.5em; padding-top: 0.5em; text-align: right; font-size: 40px; } #NetworKit_Overlay .button { background: white; cursor: pointer; } #NetworKit_Overlay .button:before { size: 13px; display: inline-block; text-align: center; margin-top: 0.5em; margin-bottom: 0.5em; width: 1.5em; height: 1.5em; } #NetworKit_Overlay .icon-close:before { content: \"X\"; } #NetworKit_Overlay .icon-previous:before { content: \"P\"; } #NetworKit_Overlay .icon-next:before { content: \"N\"; } #NetworKit_Overlay .icon-save:before { content: \"S\"; } #NetworKit_Overlay_Toolbar_Top, #NetworKit_Overlay_Toolbar_Bottom { position: absolute; width: 40px; right: 13px; text-align: right; z-index: 1100; } #NetworKit_Overlay_Toolbar_Top { top: 0.5em; } #NetworKit_Overlay_Toolbar_Bottom { Bottom: 0.5em; } #NetworKit_Overlay_ImageContainer { position: absolute; top: 5%; left: 5%; height: 90%; width: 90%; background-repeat: no-repeat; background-position: center center; background-size: contain; } #NetworKit_Overlay_Image { height: 100%; width: 100%; background-repeat: no-repeat; background-position: center center; background-size: contain; }';\n",
       "\t\t\t\telement.setAttribute('id', 'NetworKit_style');\n",
       "\t\t\t\tdocument.head.appendChild(element);\n",
       "\t\t\t}\n",
       "\t\t\n",
       "\t\t\t\t\n",
       "\t\t\t{\n",
       "\t\t\t\tvar element = document.getElementById('NetworKit_Overlay');\n",
       "\t\t\t\tif (element) {\n",
       "\t\t\t\t\telement.parentNode.removeChild(element);\n",
       "\t\t\t\t}\n",
       "\t\t\t\telement = document.createElement('div');\n",
       "\t\t\t\telement.innerHTML = '<div id=\"NetworKit_Overlay_Toolbar_Top\"><div class=\"button icon-close\" id=\"NetworKit_Overlay_Close\" /></div><div id=\"NetworKit_Overlay_Title\" /> <div id=\"NetworKit_Overlay_ImageContainer\"> <div id=\"NetworKit_Overlay_Image\" /> </div> <div id=\"NetworKit_Overlay_Toolbar_Bottom\"> <div class=\"button icon-previous\" onclick=\"NetworKit_overlayImageShift(-1)\" /> <div class=\"button icon-next\" onclick=\"NetworKit_overlayImageShift(1)\" /> <a id=\"NetworKit_Overlay_Toolbar_Bottom_Save\"><div class=\"button icon-save\" /></a> </div>';\n",
       "\t\t\t\telement.setAttribute('id', 'NetworKit_Overlay');\n",
       "\t\t\t\tdocument.body.appendChild(element);\n",
       "\t\t\t\tdocument.getElementById('NetworKit_Overlay_Close').onclick = function (e) {\n",
       "\t\t\t\t\tdocument.getElementById('NetworKit_Overlay').style.display = 'none';\n",
       "\t\t\t\t}\n",
       "\t\t\t}\n",
       "\t\t\n",
       "\t\t\t-->\n",
       "\t\t\t</script>\n",
       "\t\t"
      ]
     },
     "metadata": {},
     "output_type": "display_data"
    }
   ],
   "source": [
    "import numpy as np\n",
    "import matplotlib as mpl\n",
    "mpl.use('pgf')\n",
    "\n",
    "def textwidth_to_inch(scale):\n",
    "    fig_width_pt = 427.3153                         # Get this from LaTeX using \\the\\textwidth\n",
    "    inches_per_pt = 1.0/72.27                       # Convert pt to inch\n",
    "    return fig_width_pt*inches_per_pt*scale         # width in inches\n",
    "\n",
    "def figsize(scale):\n",
    "    golden_mean = (np.sqrt(5.0)-1.0)/2.0            # Aesthetic ratio (you could change this)\n",
    "    fig_width = textwidth_to_inch(scale)\n",
    "    fig_height = fig_width*golden_mean              # height in inches\n",
    "    fig_size = [fig_width,fig_height]\n",
    "    return fig_size\n",
    "\n",
    "pgf_with_latex = {                      # setup matplotlib to use latex for output\n",
    "    \"pgf.texsystem\": \"pdflatex\",        # change this if using xetex or lautex\n",
    "    \"text.usetex\": True,                # use LaTeX to write all text\n",
    "    \"font.family\": \"serif\",\n",
    "    \"font.serif\": [],                   # blank entries should cause plots to inherit fonts from the document\n",
    "    \"font.sans-serif\": [],\n",
    "    \"font.monospace\": [],\n",
    "    \"axes.labelsize\": 10,               # LaTeX default is 10pt font.\n",
    "    'axes.titlesize': 10,\n",
    "    \"font.size\": 10,\n",
    "    \"legend.fontsize\": 8,               # Make the legend/label fonts a little smaller\n",
    "    \"xtick.labelsize\": 8,\n",
    "    \"ytick.labelsize\": 8,\n",
    "    \"figure.figsize\": figsize(0.9),     # default fig size of 0.9 textwidth\n",
    "    \"pgf.preamble\": [\n",
    "        r\"\\usepackage[utf8x]{inputenc}\",    # use utf8 fonts becasue your computer can handle it :)\n",
    "        r\"\\usepackage[T1]{fontenc}\",        # plots will be generated using this preamble\n",
    "        ]\n",
    "    }\n",
    "mpl.rcParams.update(pgf_with_latex)\n",
    "\n",
    "import matplotlib.pyplot as plt\n",
    "\n",
    "# I make my own newfig and savefig functions\n",
    "def newfig(width):\n",
    "    plt.clf()\n",
    "    fig = plt.figure(figsize=figsize(width))\n",
    "    ax = fig.add_subplot(111)\n",
    "    return fig, ax\n",
    "\n",
    "def savefig(filename):\n",
    "    plt.savefig('../../text/figures/plots/{}.pgf'.format(filename), bbox_inches='tight')\n",
    "    plt.savefig('../../text/figures/plots/{}.pdf'.format(filename), bbox_inches='tight')\n",
    "\n",
    "%matplotlib inline\n",
    "\n",
    "import pandas as pd\n",
    "\n",
    "import json\n",
    "import glob\n",
    "import os\n",
    "\n",
    "from math import log\n",
    "from subprocess import call\n",
    "from networkit import *\n",
    "\n",
    "import seaborn as sns\n",
    "sns.set_style(\"whitegrid\")\n",
    "mpl.rcParams.update(pgf_with_latex)"
   ]
  },
  {
   "cell_type": "code",
   "execution_count": 2,
   "metadata": {
    "collapsed": true
   },
   "outputs": [],
   "source": [
    "data = {}\n",
    "files = glob.glob(os.path.expanduser(\"~/dev/ma/data/results/seq_louvain/*.json\")) + glob.glob(os.path.expanduser(\"~/dev/ma/data/results/dlm_all/*.json\")) + glob.glob(os.path.expanduser(\"~/dev/ma/data/results/plm_all/*.json\"))\n",
    "\n",
    "for path in files:\n",
    "  for typename, items in json.load(open(path)).items():\n",
    "    if typename in data:\n",
    "      data[typename].update(items)\n",
    "    else:\n",
    "      data[typename] = items\n",
    "\n",
    "frames = { typename: pd.DataFrame.from_dict(items, orient='index') for typename, items in data.items() }\n",
    "\n",
    "algorithm_names = {\n",
    "    'thrill partitioned louvain': 'partitioned local moving',\n",
    "    'thrill node based fully distributed local moving': 'synchronous local moving'\n",
    "}\n",
    "\n",
    "frames['algorithm_run'].replace({ 'algorithm': algorithm_names }, inplace=True)\n",
    "\n",
    "frames['program_run']['graph_path'] = frames['program_run']['graph']\n",
    "\n",
    "graph_names = {\n",
    "    '/home/kit/iti/kp0036/graphs/mu-04/graph_50_10000_mu_0.4_100000-sorted-preprocessed-*.bin': 'LFR 100K', \n",
    "    '/home/kit/iti/kp0036/graphs/mu-04/graph_50_10000_mu_0.4_1000000-preprocessed-*.bin': 'LFR 1M', \n",
    "    '/home/kit/iti/kp0036/graphs/mu-04/graph_50_10000_mu_0.4_10000000-preprocessed-*.bin': 'LFR 10M', \n",
    "    '/home/kit/iti/kp0036/graphs/mu-04/graph_50_10000_mu_0.4_100000000-preprocessed-*.bin': 'LFR 100M', \n",
    "    '/home/kit/iti/kp0036/graphs/mu-04/graph_50_10000_mu_0.4_200000000-sorted-preprocessed-*.bin': 'LFR 200M', \n",
    "    '/home/kit/iti/kp0036/graphs/hypercubegraph23-preprocessed-*.bin': 'hypercube', \n",
    "    '/home/kit/iti/kp0036/graphs/uk-2002.metis-preprocessed-*.bin': 'uk-2002', \n",
    "    '/home/kit/iti/kp0036/graphs/uk-2007-05.metis-preprocessed-*.bin': 'uk-2007-05', \n",
    "    '/home/kit/iti/kp0036/graphs/in-2004.metis-preprocessed-*.bin': 'in-2004', \n",
    "    '/home/kit/iti/kp0036/graphs/com-friendster-preprocessed-*.bin': 'com-friendster', \n",
    "    '/home/kit/iti/kp0036/graphs/com-lj.ungraph-preprocessed-*.bin': 'com-lj', \n",
    "    '/home/kit/iti/kp0036/graphs/com-orkut.ungraph-preprocessed-*.bin': 'com-orkut', \n",
    "    '/home/kit/iti/kp0036/graphs/com-youtube.ungraph-preprocessed-*.bin': 'com-youtube', \n",
    "    '/home/kit/iti/kp0036/graphs/com-amazon.ungraph-preprocessed-*.bin': 'com-amazon'\n",
    "}\n",
    "\n",
    "frames['program_run'].replace({ 'graph': graph_names }, inplace=True)"
   ]
  },
  {
   "cell_type": "code",
   "execution_count": 3,
   "metadata": {},
   "outputs": [
    {
     "data": {
      "text/plain": [
       "array(['sequential louvain', 'synchronous local moving',\n",
       "       'partitioned local moving'], dtype=object)"
      ]
     },
     "execution_count": 3,
     "metadata": {},
     "output_type": "execute_result"
    }
   ],
   "source": [
    "frames['algorithm_run']['algorithm'].unique()"
   ]
  },
  {
   "cell_type": "code",
   "execution_count": 4,
   "metadata": {},
   "outputs": [
    {
     "name": "stdout",
     "output_type": "stream",
     "text": [
      "path expanded to: /home/eagle/dev/ma/data/results/seq_louvain/clusterings/seq-11828495.part\n",
      "read communities from: /home/eagle/dev/ma/data/results/seq_louvain/clusterings/seq-11828495.part\n",
      "path expanded to: /home/eagle/dev/ma/data/results/seq_louvain/clusterings/seq-11828496.part\n",
      "read communities from: /home/eagle/dev/ma/data/results/seq_louvain/clusterings/seq-11828496.part\n",
      "path expanded to: /home/eagle/dev/ma/data/results/seq_louvain/clusterings/seq-11828067.part\n",
      "read communities from: /home/eagle/dev/ma/data/results/seq_louvain/clusterings/seq-11828067.part\n"
     ]
    }
   ],
   "source": [
    "algo_to_path = {\n",
    "    'partitioned local moving': 'plm_all',\n",
    "    'synchronous local moving': 'dlm_all',\n",
    "    'sequential louvain': 'seq_louvain'\n",
    "}\n",
    "\n",
    "def siml(x):\n",
    "    if x['graph_path'][:39] != '/home/kit/iti/kp0036/graphs/mu-04/graph':\n",
    "        return pd.Series([np.NaN, np.NaN])\n",
    "    \n",
    "    files = sorted(glob.glob(os.path.expanduser(\"~/dev/ma/data/graphs/mu-04/part\" + x['graph_path'][39:])))\n",
    "    call(\"cat {} > tmp\".format(' '.join(files)), shell=True)\n",
    "    ground_truth = community.BinaryEdgeListPartitionReader(0, 4).read('tmp')\n",
    "    call(\"rm tmp\", shell=True)\n",
    "    \n",
    "    if 'seq' in x['binary']:\n",
    "        clustering = community.readCommunities('~/dev/ma/data/results/{}/'.format(algo_to_path[x['algorithm']]) + x['path'])\n",
    "    else: \n",
    "        files = sorted(glob.glob(os.path.expanduser('~/dev/ma/data/results/{}/'.format(algo_to_path[x['algorithm']]) + x['path'].replace('@@@@-#####', '*'))))\n",
    "        if not files:\n",
    "            return pd.Series([np.NaN, np.NaN])\n",
    "        call(\"cat {} > tmp\".format(' '.join(files)), shell=True)\n",
    "        clustering = community.BinaryEdgeListPartitionReader(0, 4).read('tmp')\n",
    "        call(\"rm tmp\", shell=True)\n",
    "        \n",
    "    g = graph.Graph(ground_truth.numberOfElements())\n",
    "    nmi = 1.0 - community.NMIDistance().getDissimilarity(g, clustering, ground_truth)\n",
    "    ari = 1.0 - community.AdjustedRandMeasure().getDissimilarity(g, clustering, ground_truth)\n",
    "    return pd.Series([nmi, ari])\n",
    "    \n",
    "frames['clustering'][['NMI', 'ARI']] = frames['clustering'] \\\n",
    "    .merge(frames['algorithm_run'], left_on='algorithm_run_id', right_index=True) \\\n",
    "    .merge(frames['program_run'], left_on='program_run_id', right_index=True) \\\n",
    "    .apply(siml, axis=1)"
   ]
  },
  {
   "cell_type": "code",
   "execution_count": 5,
   "metadata": {},
   "outputs": [
    {
     "data": {
      "image/png": "[encoded data removed]",
      "text/plain": [
       "<matplotlib.figure.Figure at 0x7f6110428630>"
      ]
     },
     "metadata": {},
     "output_type": "display_data"
    }
   ],
   "source": [
    "fig, axes = plt.subplots(1, 2, figsize=(textwidth_to_inch(1.1), textwidth_to_inch(0.4)));\n",
    "plt.subplots_adjust(wspace=0.5);\n",
    "\n",
    "pad = 5\n",
    "\n",
    "for (i, measure) in [(0, 'NMI'), (1, 'ARI')]:\n",
    "    frames['clustering'] \\\n",
    "        .merge(frames['algorithm_run'], left_on='algorithm_run_id', right_index=True) \\\n",
    "        .merge(frames['program_run'], left_on='program_run_id', right_index=True) \\\n",
    "        .groupby(['node_count', 'algorithm'])[measure].mean().dropna().unstack().plot(logx=True, ylim=(0, 1), legend=False, ax=axes[i])\n",
    "    axes[i].set_ylabel(measure)\n",
    "    axes[i].set_xlabel(\"$n$\")\n",
    "\n",
    "plt.legend(loc = 'lower left', bbox_to_anchor = (0.11,-0.25,1,1), bbox_transform = plt.gcf().transFigure)\n",
    "savefig(\"lfr_size\")"
   ]
  },
  {
   "cell_type": "code",
   "execution_count": 6,
   "metadata": {},
   "outputs": [
    {
     "name": "stdout",
     "output_type": "stream",
     "text": [
      "path expanded to: /home/eagle/dev/ma/data/results/seq_louvain/clusterings/seq-11828495.part\n",
      "read communities from: /home/eagle/dev/ma/data/results/seq_louvain/clusterings/seq-11828495.part\n",
      "path expanded to: /home/eagle/dev/ma/data/results/seq_louvain/clusterings/seq-11828495.part\n",
      "read communities from: /home/eagle/dev/ma/data/results/seq_louvain/clusterings/seq-11828495.part\n",
      "path expanded to: /home/eagle/dev/ma/data/results/seq_louvain/clusterings/seq-11828495.part\n",
      "read communities from: /home/eagle/dev/ma/data/results/seq_louvain/clusterings/seq-11828495.part\n",
      "path expanded to: /home/eagle/dev/ma/data/results/seq_louvain/clusterings/seq-11828496.part\n",
      "read communities from: /home/eagle/dev/ma/data/results/seq_louvain/clusterings/seq-11828496.part\n",
      "path expanded to: /home/eagle/dev/ma/data/results/seq_louvain/clusterings/seq-11828496.part\n",
      "read communities from: /home/eagle/dev/ma/data/results/seq_louvain/clusterings/seq-11828496.part\n",
      "path expanded to: /home/eagle/dev/ma/data/results/seq_louvain/clusterings/seq-11828496.part\n",
      "read communities from: /home/eagle/dev/ma/data/results/seq_louvain/clusterings/seq-11828496.part\n",
      "path expanded to: /home/eagle/dev/ma/data/results/seq_louvain/clusterings/seq-11828067.part\n",
      "read communities from: /home/eagle/dev/ma/data/results/seq_louvain/clusterings/seq-11828067.part\n",
      "path expanded to: /home/eagle/dev/ma/data/results/seq_louvain/clusterings/seq-11828067.part\n",
      "read communities from: /home/eagle/dev/ma/data/results/seq_louvain/clusterings/seq-11828067.part\n"
     ]
    }
   ],
   "source": [
    "seq_first_results = frames['clustering'] \\\n",
    "    .merge(frames['algorithm_run'], left_on='algorithm_run_id', right_index=True) \\\n",
    "    .merge(frames['program_run'], left_on='program_run_id', right_index=True) \\\n",
    "    .loc[lambda x: x.binary.str.contains('seq')] \\\n",
    "    .groupby('graph')['path'].first().dropna()\n",
    "\n",
    "def siml_seq(x):\n",
    "    if not os.path.isfile('/home/eagle/dev/ma/data/results/seq_louvain/' + x['seq_ground']):\n",
    "        return pd.Series([np.NaN, np.NaN])\n",
    "    ground_truth = community.readCommunities('~/dev/ma/data/results/seq_louvain/' + x['seq_ground'])\n",
    "    \n",
    "    if 'seq' in x['binary']:\n",
    "        if x['path'] == x['seq_ground'] or not os.path.isfile('/home/eagle/dev/ma/data/results/{}/'.format(algo_to_path[x['algorithm']]) + x['path']):\n",
    "            return pd.Series([np.NaN, np.NaN])\n",
    "        clustering = community.readCommunities('~/dev/ma/data/results/{}/'.format(algo_to_path[x['algorithm']]) + x['path'])\n",
    "    else: \n",
    "        files = sorted(glob.glob(os.path.expanduser('~/dev/ma/data/results/{}/'.format(algo_to_path[x['algorithm']]) + x['path'].replace('@@@@-#####', '*'))))\n",
    "        if not files:\n",
    "            return pd.Series([np.NaN, np.NaN])\n",
    "        call(\"cat {} > tmp\".format(' '.join(files)), shell=True)\n",
    "        clustering = community.BinaryEdgeListPartitionReader(0, 4).read('tmp')\n",
    "        call(\"rm tmp\", shell=True)\n",
    "        \n",
    "    g = graph.Graph(ground_truth.numberOfElements())\n",
    "    nmi = 1.0 - community.NMIDistance().getDissimilarity(g, clustering, ground_truth)\n",
    "    ari = 1.0 - community.AdjustedRandMeasure().getDissimilarity(g, clustering, ground_truth)\n",
    "    return pd.Series([nmi, ari])\n",
    "    \n",
    "frames['clustering'][['NMI_seq', 'ARI_seq']] = frames['clustering'] \\\n",
    "    .merge(frames['algorithm_run'], left_on='algorithm_run_id', right_index=True) \\\n",
    "    .merge(frames['program_run'], left_on='program_run_id', right_index=True) \\\n",
    "    .merge(pd.DataFrame({ 'seq_ground': seq_first_results }), left_on='graph', right_index=True) \\\n",
    "    .apply(siml_seq, axis=1)"
   ]
  },
  {
   "cell_type": "code",
   "execution_count": 7,
   "metadata": {},
   "outputs": [
    {
     "data": {
      "image/png": "[encoded data removed]",
      "text/plain": [
       "<matplotlib.figure.Figure at 0x7f60d8fddb70>"
      ]
     },
     "metadata": {},
     "output_type": "display_data"
    }
   ],
   "source": [
    "fig, axes = plt.subplots(1, 2, figsize=(textwidth_to_inch(1.1), textwidth_to_inch(0.4)));\n",
    "plt.subplots_adjust(wspace=0.5);\n",
    "\n",
    "pad = 5\n",
    "\n",
    "for (i, measure) in [(0, 'NMI'), (1, 'ARI')]:\n",
    "    frames['clustering'] \\\n",
    "        .merge(frames['algorithm_run'], left_on='algorithm_run_id', right_index=True) \\\n",
    "        .merge(frames['program_run'], left_on='program_run_id', right_index=True) \\\n",
    "        .groupby(['node_count', 'algorithm'])['{}_seq'.format(measure)].mean().dropna().unstack().plot(logx=True, ylim=(0, 1), legend=False, ax=axes[i])\n",
    "    axes[i].set_ylabel(measure)\n",
    "    axes[i].set_xlabel(\"$n$\")\n",
    "\n",
    "plt.legend(loc = 'lower left', bbox_to_anchor = (0.11,-0.25,1,1), bbox_transform = plt.gcf().transFigure)\n",
    "savefig(\"lfr_size_seq\")"
   ]
  }
 ],
 "metadata": {
  "anaconda-cloud": {},
  "kernelspec": {
   "display_name": "Python [default]",
   "language": "python",
   "name": "python3"
  },
  "language_info": {
   "codemirror_mode": {
    "name": "ipython",
    "version": 3
   },
   "file_extension": ".py",
   "mimetype": "text/x-python",
   "name": "python",
   "nbconvert_exporter": "python",
   "pygments_lexer": "ipython3",
   "version": "3.5.3"
  }
 },
 "nbformat": 4,
 "nbformat_minor": 1
}
